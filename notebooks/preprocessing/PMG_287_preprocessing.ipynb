{
 "cells": [
  {
   "cell_type": "markdown",
   "id": "dd4a8039",
   "metadata": {},
   "source": [
    "### Imports"
   ]
  },
  {
   "cell_type": "code",
   "execution_count": null,
   "id": "41a186ab",
   "metadata": {},
   "outputs": [],
   "source": [
    "import sys\n",
    "import numpy as np\n",
    "import pandas as pd\n",
    "import os\n",
    "from masserstein import NMRSpectrum, estimate_proportions\n",
    "import matplotlib.pyplot as plt\n",
    "import pulp\n",
    "import pickle"
   ]
  },
  {
   "cell_type": "markdown",
   "id": "963c9b4b",
   "metadata": {},
   "source": [
    "### Data"
   ]
  },
  {
   "cell_type": "code",
   "execution_count": null,
   "id": "f7f53440",
   "metadata": {},
   "outputs": [],
   "source": [
    "experiment_name = 'PMG 287 monitoring with full mixture spectrum'"
   ]
  },
  {
   "cell_type": "code",
   "execution_count": null,
   "id": "31a53838",
   "metadata": {},
   "outputs": [],
   "source": [
    "mixture_separator = '\\t'\n",
    "\n",
    "if experiment_name == 'PMG 287 monitoring':\n",
    "    whole_mixture_or_regions = 'regions'\n",
    "elif experiment_name == 'PMG 287 monitoring with full mixture spectrum':\n",
    "    whole_mixture_or_regions = 'whole'\n",
    "\n",
    "if whole_mixture_or_regions == 'regions':\n",
    "    data_path = '../../data/PMG_287/'\n",
    "elif whole_mixture_or_regions == 'whole':\n",
    "    data_path = '../../data/PMG_287_full_mixture_spectrum/'\n",
    "    \n",
    "mixture_path = data_path + 'PMG_287_seria1.csv'"
   ]
  },
  {
   "cell_type": "markdown",
   "id": "61199f4a",
   "metadata": {},
   "source": [
    "#### Mixture in time"
   ]
  },
  {
   "cell_type": "code",
   "execution_count": null,
   "id": "b5a5d141",
   "metadata": {},
   "outputs": [],
   "source": [
    "mixture_time_data = pd.read_csv(mixture_path, sep = mixture_separator).iloc[:,:-1]"
   ]
  },
  {
   "cell_type": "code",
   "execution_count": null,
   "id": "52e21181",
   "metadata": {},
   "outputs": [],
   "source": [
    "names = ['ppm'] + ['t' + str(nb) for nb in range(1, mixture_time_data.shape[1])]"
   ]
  },
  {
   "cell_type": "code",
   "execution_count": null,
   "id": "4816e860",
   "metadata": {},
   "outputs": [],
   "source": [
    "mixture_time_data.columns = names"
   ]
  },
  {
   "cell_type": "code",
   "execution_count": null,
   "id": "1508df37",
   "metadata": {},
   "outputs": [],
   "source": [
    "def load_spectrum(mixture_time_data, moment_of_time):\n",
    "    ppm = mixture_time_data['ppm']\n",
    "    intensity = mixture_time_data['t'+str(moment_of_time)]\n",
    "    sp = NMRSpectrum(confs = list(zip(ppm, intensity)))\n",
    "    return sp"
   ]
  },
  {
   "cell_type": "code",
   "execution_count": null,
   "id": "e4420055",
   "metadata": {},
   "outputs": [],
   "source": [
    "%matplotlib notebook"
   ]
  },
  {
   "cell_type": "code",
   "execution_count": null,
   "id": "276d9661",
   "metadata": {},
   "outputs": [],
   "source": [
    "plt.gca().invert_xaxis()\n",
    "NMRSpectrum.plot_all([load_spectrum(mixture_time_data, 1),\n",
    "                     load_spectrum(mixture_time_data, 1000)], profile=True)"
   ]
  },
  {
   "cell_type": "markdown",
   "id": "081a0830",
   "metadata": {},
   "source": [
    "#### Reagents"
   ]
  },
  {
   "cell_type": "code",
   "execution_count": null,
   "id": "873b27c8",
   "metadata": {},
   "outputs": [],
   "source": [
    "# Integral(3.343730, 3.256018) product\n",
    "# Integral(3.722376, 3.681636) product\n",
    "# Integral(3.756886, 3.722376) product\n",
    "# Integral(4.078496, 3.994139) product\n",
    "\n",
    "# Integral(3.406997, 3.343730) silane\n",
    "# Integral(3.832615, 3.756886) silane\n",
    "# Integral(6.564104, 6.422073) silane\n",
    "\n",
    "# Integral(3.679897, 3.599926) hexene\n",
    "# Integral(4.129027, 4.079348) hexene\n",
    "# Integral(4.857709, 4.668059) hexene\n",
    "# Integral(7.838666, 7.616258) hexene\n",
    "# Integral(8.647265, 8.440374) hexene\n",
    "\n",
    "# Integral(10.387961, 2.952301) all"
   ]
  },
  {
   "cell_type": "code",
   "execution_count": null,
   "id": "33114c18",
   "metadata": {},
   "outputs": [],
   "source": [
    "reagents_sp = []\n",
    "\n",
    "mix_to_cut = pd.DataFrame(load_spectrum(mixture_time_data, 250).confs)\n",
    "\n",
    "#baseline correction\n",
    "#mix_to_cut.iloc[:,1] = mix_to_cut.iloc[:, 1] + 0.02\n",
    "\n",
    "#hexene\n",
    "reagent0 = mix_to_cut[mix_to_cut[0].apply(lambda x: (x>3.599926 and x<3.679897) or\n",
    "                                                      (x>4.079348 and x<4.129027) or \n",
    "                                                      (x>4.668059 and x<4.857709) or \n",
    "                                                      (x>7.616258 and x<7.838666) or \n",
    "                                                      (x>8.440374 and x<8.647265)\n",
    "                                         )\n",
    "                     ]\n",
    "\n",
    "ppm = reagent0.iloc[:,0]\n",
    "ints = reagent0.iloc[:,1]\n",
    "reagents_sp.append(NMRSpectrum(confs = list(zip(ppm, ints))))\n",
    "\n",
    "\n",
    "\n",
    "#triethylsilane                           \n",
    "reagent1 = mix_to_cut[mix_to_cut[0].apply(lambda x: (x>3.343730 and x<3.406997) or\n",
    "                                                      (x>3.756886 and x<3.832615) or \n",
    "                                                      (x>6.422073 and x<6.564104)\n",
    "                                         )\n",
    "                     ]\n",
    "\n",
    "ppm = reagent1.iloc[:,0]\n",
    "ints = reagent1.iloc[:,1]\n",
    "reagents_sp.append(NMRSpectrum(confs = list(zip(ppm, ints))))\n",
    "\n",
    "#product                              \n",
    "reagent2 = mix_to_cut[mix_to_cut[0].apply(lambda x: (x>3.256018 and x<3.343730) or\n",
    "                                                      (x>3.681636 and x<3.722376) or \n",
    "                                                      (x>3.722376 and x<3.756886) or\n",
    "                                                      (x>3.994139 and x<4.078496)\n",
    "                                         )\n",
    "                     ]\n",
    "\n",
    "ppm = reagent2.iloc[:,0]\n",
    "ints = reagent2.iloc[:,1]\n",
    "reagents_sp.append(NMRSpectrum(confs = list(zip(ppm, ints))))"
   ]
  },
  {
   "cell_type": "code",
   "execution_count": null,
   "id": "747c64b2",
   "metadata": {},
   "outputs": [],
   "source": [
    "plt.gca().invert_xaxis()\n",
    "\n",
    "load_spectrum(mixture_time_data, 250).plot(profile=True)\n",
    "NMRSpectrum.plot_all(reagents_sp, profile=True)"
   ]
  },
  {
   "cell_type": "markdown",
   "id": "4fd5844d",
   "metadata": {},
   "source": [
    "#### Mixture"
   ]
  },
  {
   "cell_type": "code",
   "execution_count": null,
   "id": "91933457",
   "metadata": {},
   "outputs": [],
   "source": [
    "if whole_mixture_or_regions == 'whole':\n",
    "    \n",
    "    mixture_time_data = mixture_time_data[mixture_time_data.iloc[:,0].apply(lambda x: x>2.952301 and x<10.387961)]\n",
    "    \n",
    "elif whole_mixture_or_regions == 'regions':\n",
    "    \n",
    "    mixture_time_data = mixture_time_data[mixture_time_data.iloc[:,0].apply(lambda x:\n",
    "\n",
    "                                                                (x>3.599926 and x<3.679897) or\n",
    "                                                                (x>4.079348 and x<4.129027) or \n",
    "                                                                (x>4.668059 and x<4.857709) or \n",
    "                                                                (x>7.616258 and x<7.838666) or \n",
    "                                                                (x>8.440374 and x<8.647265) or\n",
    "\n",
    "                                                                (x>3.343730 and x<3.406997) or\n",
    "                                                                (x>3.756886 and x<3.832615) or \n",
    "                                                                (x>6.422073 and x<6.564104) or\n",
    "\n",
    "                                                                (x>3.256018 and x<3.343730) or\n",
    "                                                                (x>3.681636 and x<3.722376) or \n",
    "                                                                (x>3.722376 and x<3.756886) or\n",
    "                                                                (x>3.994139 and x<4.078496)\n",
    "                                                                           )\n",
    "                                         ]"
   ]
  },
  {
   "cell_type": "code",
   "execution_count": null,
   "id": "173d4051",
   "metadata": {},
   "outputs": [],
   "source": [
    "plt.gca().invert_xaxis()\n",
    "\n",
    "load_spectrum(mixture_time_data, 250).plot(profile=True)\n",
    "NMRSpectrum.plot_all(reagents_sp, profile=True)"
   ]
  },
  {
   "cell_type": "markdown",
   "id": "4dc66831",
   "metadata": {},
   "source": [
    "### Saving preprocessed spectra"
   ]
  },
  {
   "cell_type": "code",
   "execution_count": null,
   "id": "709cca93",
   "metadata": {},
   "outputs": [],
   "source": [
    "# np.savetxt(data_path + 'preprocessed_hexene.csv', reagent0, delimiter = '\\t')\n",
    "# np.savetxt(data_path + 'preprocessed_triethylsilane.csv', reagent1, delimiter = '\\t')\n",
    "# np.savetxt(data_path + 'preprocessed_product.csv', reagent2, delimiter = '\\t')\n",
    "\n",
    "# if whole_mixture_or_regions == 'whole':\n",
    "#     np.savetxt(data_path + 'preprocessed_mixture_whole.csv', mixture_time_data, delimiter = '\\t')\n",
    "    \n",
    "# elif whole_mixture_or_regions == 'regions':\n",
    "#     np.savetxt(data_path + 'preprocessed_mixture_cut_to_regions.csv', mixture_time_data, delimiter = '\\t')"
   ]
  }
 ],
 "metadata": {
  "kernelspec": {
   "display_name": "Python 3 (ipykernel)",
   "language": "python",
   "name": "python3"
  },
  "language_info": {
   "codemirror_mode": {
    "name": "ipython",
    "version": 3
   },
   "file_extension": ".py",
   "mimetype": "text/x-python",
   "name": "python",
   "nbconvert_exporter": "python",
   "pygments_lexer": "ipython3",
   "version": "3.12.3"
  }
 },
 "nbformat": 4,
 "nbformat_minor": 5
}
