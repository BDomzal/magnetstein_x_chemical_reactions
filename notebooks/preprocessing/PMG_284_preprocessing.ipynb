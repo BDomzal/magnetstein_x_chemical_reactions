{
 "cells": [
  {
   "cell_type": "markdown",
   "id": "dd4a8039",
   "metadata": {},
   "source": [
    "### Imports"
   ]
  },
  {
   "cell_type": "code",
   "execution_count": null,
   "id": "41a186ab",
   "metadata": {},
   "outputs": [],
   "source": [
    "import sys\n",
    "import numpy as np\n",
    "import pandas as pd\n",
    "import os\n",
    "from masserstein import NMRSpectrum, estimate_proportions\n",
    "import matplotlib.pyplot as plt\n",
    "import pulp\n",
    "import pickle"
   ]
  },
  {
   "cell_type": "markdown",
   "id": "963c9b4b",
   "metadata": {},
   "source": [
    "### Data"
   ]
  },
  {
   "cell_type": "code",
   "execution_count": null,
   "id": "f7f53440",
   "metadata": {},
   "outputs": [],
   "source": [
    "experiment_name = 'PMG 284 monitoring with full mixture spectrum'"
   ]
  },
  {
   "cell_type": "code",
   "execution_count": null,
   "id": "31a53838",
   "metadata": {},
   "outputs": [],
   "source": [
    "if experiment_name == 'PMG 284 monitoring':\n",
    "    whole_mixture_or_regions = 'regions'\n",
    "elif experiment_name == 'PMG 284 monitoring with full mixture spectrum':\n",
    "    whole_mixture_or_regions = 'whole'\n",
    "\n",
    "if whole_mixture_or_regions == 'regions':\n",
    "    data_path = '../../data/PMG_284/'\n",
    "    mixture_path = data_path + '284_edited_corrected.csv'\n",
    "\n",
    "elif whole_mixture_or_regions == 'whole':\n",
    "    data_path = '../../data/PMG_284_full_mixture_spectrum/'\n",
    "    mixture_path = data_path + '284_edited_corrected_no_cut.csv'\n",
    "\n",
    "mixture_separator = '\\t'"
   ]
  },
  {
   "cell_type": "markdown",
   "id": "61199f4a",
   "metadata": {},
   "source": [
    "#### Mixture in time"
   ]
  },
  {
   "cell_type": "code",
   "execution_count": null,
   "id": "b5a5d141",
   "metadata": {},
   "outputs": [],
   "source": [
    "mixture_time_data = pd.read_csv(mixture_path, sep = mixture_separator).iloc[:,:-2]"
   ]
  },
  {
   "cell_type": "code",
   "execution_count": null,
   "id": "29d33365",
   "metadata": {},
   "outputs": [],
   "source": [
    "mixture_time_data"
   ]
  },
  {
   "cell_type": "code",
   "execution_count": null,
   "id": "52e21181",
   "metadata": {},
   "outputs": [],
   "source": [
    "names = ['ppm'] + ['t' + str(nb) for nb in range(1, mixture_time_data.shape[1])]"
   ]
  },
  {
   "cell_type": "code",
   "execution_count": null,
   "id": "4816e860",
   "metadata": {},
   "outputs": [],
   "source": [
    "mixture_time_data.columns = names"
   ]
  },
  {
   "cell_type": "code",
   "execution_count": null,
   "id": "1508df37",
   "metadata": {},
   "outputs": [],
   "source": [
    "def load_spectrum(mixture_time_data, moment_of_time):\n",
    "    ppm = mixture_time_data['ppm']\n",
    "    intensity = mixture_time_data['t'+str(moment_of_time)]\n",
    "    sp = NMRSpectrum(confs = list(zip(ppm, intensity)))\n",
    "    return sp"
   ]
  },
  {
   "cell_type": "code",
   "execution_count": null,
   "id": "e4420055",
   "metadata": {},
   "outputs": [],
   "source": [
    "#%matplotlib notebook"
   ]
  },
  {
   "cell_type": "code",
   "execution_count": null,
   "id": "276d9661",
   "metadata": {},
   "outputs": [],
   "source": [
    "plt.gca().invert_xaxis()\n",
    "NMRSpectrum.plot_all([load_spectrum(mixture_time_data, 1),\n",
    "                     load_spectrum(mixture_time_data, 999)], profile=True)"
   ]
  },
  {
   "cell_type": "markdown",
   "id": "081a0830",
   "metadata": {},
   "source": [
    "#### Reagents"
   ]
  },
  {
   "cell_type": "code",
   "execution_count": null,
   "id": "33114c18",
   "metadata": {},
   "outputs": [],
   "source": [
    "reagents_sp = []\n",
    "\n",
    "mix920 = pd.DataFrame(load_spectrum(mixture_time_data, 920).confs)\n",
    "\n",
    "#2-pentene\n",
    "reagent0 = mix920[mix920[0].apply(lambda x: (x>5.3 and x<5.6)\n",
    "                                 )]\n",
    "ppm = reagent0.iloc[:,0]\n",
    "ints = reagent0.iloc[:,1]\n",
    "reagents_sp.append(NMRSpectrum(confs = list(zip(ppm, ints))))\n",
    "\n",
    "\n",
    "#triethylsilane                           \n",
    "reagent1 = mix920[mix920[0].apply(lambda x: (x>3.6 and x<3.95)\n",
    "                                 )]\n",
    "ppm = reagent1.iloc[:,0]\n",
    "ints = reagent1.iloc[:,1]\n",
    "reagents_sp.append(NMRSpectrum(confs = list(zip(ppm, ints))))\n",
    "\n",
    "#product                              \n",
    "reagent2 = mix920[mix920[0].apply(lambda x: (x>1.16 and x<1.36) \n",
    "                                 )]\n",
    "ppm = reagent2.iloc[:,0]\n",
    "ints = reagent2.iloc[:,1]\n",
    "reagents_sp.append(NMRSpectrum(confs = list(zip(ppm, ints))))"
   ]
  },
  {
   "cell_type": "code",
   "execution_count": null,
   "id": "feab69f1",
   "metadata": {},
   "outputs": [],
   "source": [
    "mix920_sp = load_spectrum(mixture_time_data, 920)\n",
    "plt.gca().invert_xaxis()\n",
    "#plt.xlim(1.8, 1.14)\n",
    "NMRSpectrum.plot_all([mix920_sp] + reagents_sp, profile=True)"
   ]
  },
  {
   "cell_type": "markdown",
   "id": "8f4c1338",
   "metadata": {},
   "source": [
    "### Mixture"
   ]
  },
  {
   "cell_type": "code",
   "execution_count": null,
   "id": "a59d6253",
   "metadata": {},
   "outputs": [],
   "source": [
    "if whole_mixture_or_regions == 'whole':\n",
    "    pass\n",
    "elif whole_mixture_or_regions == 'regions':\n",
    "    mixture_time_data = mixture_time_data[mixture_time_data['ppm'].apply(lambda x: \n",
    "                                                        (x>5.3 and x<5.6) or \n",
    "                                                        (x>3.6 and x<3.95) or \n",
    "                                                        (x>1.16 and x<1.36) \n",
    "                                     )]"
   ]
  },
  {
   "cell_type": "code",
   "execution_count": null,
   "id": "62e3c04d",
   "metadata": {},
   "outputs": [],
   "source": [
    "plt.gca().invert_xaxis()\n",
    "NMRSpectrum.plot_all([load_spectrum(mixture_time_data, 1),\n",
    "                 load_spectrum(mixture_time_data, 999)], profile=True)"
   ]
  },
  {
   "cell_type": "markdown",
   "id": "4dc66831",
   "metadata": {},
   "source": [
    "### Saving preprocessed spectra"
   ]
  },
  {
   "cell_type": "code",
   "execution_count": null,
   "id": "709cca93",
   "metadata": {},
   "outputs": [],
   "source": [
    "np.savetxt(data_path + 'preprocessed_pentene.csv', reagent0, delimiter = '\\t')\n",
    "np.savetxt(data_path + 'preprocessed_triethylsilane.csv', reagent1, delimiter = '\\t')\n",
    "np.savetxt(data_path + 'preprocessed_product.csv', reagent2, delimiter = '\\t')\n",
    "\n",
    "if whole_mixture_or_regions == 'whole':\n",
    "    np.savetxt(data_path + 'preprocessed_mixture_whole.csv', mixture_time_data, delimiter = '\\t')\n",
    "    \n",
    "elif whole_mixture_or_regions == 'regions':\n",
    "    np.savetxt(data_path + 'preprocessed_mixture_cut_to_regions.csv', mixture_time_data, delimiter = '\\t')"
   ]
  },
  {
   "cell_type": "code",
   "execution_count": null,
   "id": "0d8eced1",
   "metadata": {},
   "outputs": [],
   "source": []
  }
 ],
 "metadata": {
  "kernelspec": {
   "display_name": "Python 3 (ipykernel)",
   "language": "python",
   "name": "python3"
  },
  "language_info": {
   "codemirror_mode": {
    "name": "ipython",
    "version": 3
   },
   "file_extension": ".py",
   "mimetype": "text/x-python",
   "name": "python",
   "nbconvert_exporter": "python",
   "pygments_lexer": "ipython3",
   "version": "3.12.3"
  }
 },
 "nbformat": 4,
 "nbformat_minor": 5
}
