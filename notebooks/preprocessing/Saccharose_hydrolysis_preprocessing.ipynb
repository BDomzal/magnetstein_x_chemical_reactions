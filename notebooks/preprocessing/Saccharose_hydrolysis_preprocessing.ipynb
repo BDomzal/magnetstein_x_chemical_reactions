{
 "cells": [
  {
   "cell_type": "markdown",
   "id": "dd4a8039",
   "metadata": {},
   "source": [
    "### Imports"
   ]
  },
  {
   "cell_type": "code",
   "execution_count": null,
   "id": "41a186ab",
   "metadata": {},
   "outputs": [],
   "source": [
    "import sys\n",
    "import numpy as np\n",
    "import pandas as pd\n",
    "import os\n",
    "from masserstein import NMRSpectrum, estimate_proportions\n",
    "import matplotlib.pyplot as plt\n",
    "import pulp\n",
    "import pickle"
   ]
  },
  {
   "cell_type": "markdown",
   "id": "963c9b4b",
   "metadata": {},
   "source": [
    "### Data"
   ]
  },
  {
   "cell_type": "code",
   "execution_count": null,
   "id": "f7f53440",
   "metadata": {},
   "outputs": [],
   "source": [
    "experiment_name = 'Saccharose hydrolysis'"
   ]
  },
  {
   "cell_type": "code",
   "execution_count": null,
   "id": "31a53838",
   "metadata": {},
   "outputs": [],
   "source": [
    "mixture_path = '../../data/saccharose_hydrolysis/sucrose_better_baseline_constant_region_sizes.csv'\n",
    "\n",
    "reagents_names = ['saccharose', 'alpha-glucose','beta-glucose', 'fructose']\n",
    "\n",
    "mixture_separator = '\\t'\n",
    "\n",
    "data_path = '../../data/saccharose_hydrolysis/'"
   ]
  },
  {
   "cell_type": "markdown",
   "id": "61199f4a",
   "metadata": {},
   "source": [
    "#### Mixture in time"
   ]
  },
  {
   "cell_type": "code",
   "execution_count": null,
   "id": "b5a5d141",
   "metadata": {},
   "outputs": [],
   "source": [
    "mixture_time_data = pd.read_csv(mixture_path, sep = mixture_separator).iloc[:,:-1]"
   ]
  },
  {
   "cell_type": "code",
   "execution_count": null,
   "id": "29d33365",
   "metadata": {},
   "outputs": [],
   "source": [
    "mixture_time_data = mixture_time_data.dropna()"
   ]
  },
  {
   "cell_type": "code",
   "execution_count": null,
   "id": "52e21181",
   "metadata": {},
   "outputs": [],
   "source": [
    "names = ['ppm'] + ['t' + str(nb) for nb in range(1, mixture_time_data.shape[1])]"
   ]
  },
  {
   "cell_type": "code",
   "execution_count": null,
   "id": "4816e860",
   "metadata": {},
   "outputs": [],
   "source": [
    "mixture_time_data.columns = names"
   ]
  },
  {
   "cell_type": "code",
   "execution_count": null,
   "id": "1508df37",
   "metadata": {},
   "outputs": [],
   "source": [
    "def load_spectrum(mixture_time_data, moment_of_time):\n",
    "    ppm = mixture_time_data['ppm']\n",
    "    intensity = mixture_time_data['t'+str(moment_of_time)]\n",
    "    sp = NMRSpectrum(confs = list(zip(ppm, intensity)))\n",
    "    return sp"
   ]
  },
  {
   "cell_type": "code",
   "execution_count": null,
   "id": "e4420055",
   "metadata": {},
   "outputs": [],
   "source": [
    "%matplotlib notebook"
   ]
  },
  {
   "cell_type": "code",
   "execution_count": null,
   "id": "39365ffd",
   "metadata": {},
   "outputs": [],
   "source": [
    "plt.gca().invert_xaxis()\n",
    "NMRSpectrum.plot_all([load_spectrum(mixture_time_data, 1),\n",
    "                     load_spectrum(mixture_time_data, 1000)], profile=True)"
   ]
  },
  {
   "cell_type": "markdown",
   "id": "081a0830",
   "metadata": {},
   "source": [
    "#### Reagents"
   ]
  },
  {
   "cell_type": "code",
   "execution_count": null,
   "id": "4a5c9f2d",
   "metadata": {},
   "outputs": [],
   "source": [
    "# saccharose: (5.39173, 5.44305)\n",
    "# alpha-glucose: (5.2178, 5.26134)\n",
    "# beta-glucose: (4.62026, 4.67207)\n",
    "# fructose: (3.97917, 4.01542)"
   ]
  },
  {
   "cell_type": "code",
   "execution_count": null,
   "id": "de749b9b",
   "metadata": {},
   "outputs": [],
   "source": [
    "mix1001 = pd.DataFrame(load_spectrum(mixture_time_data, 1001).confs)\n",
    "\n",
    "reagent0 = mix1001[mix1001.iloc[:,0].apply(lambda x: (x>=5.39173 and x<=5.44305))]\n",
    "\n",
    "reagent1 = mix1001[mix1001.iloc[:,0].apply(lambda x: (x>=5.2178 and x<=5.26134))]\n",
    "\n",
    "reagent2 = mix1001[mix1001.iloc[:,0].apply(lambda x: (x>=4.62026 and x<=4.67207))]\n",
    "\n",
    "reagent3 = mix1001[mix1001.iloc[:,0].apply(lambda x: (x>=3.97917 and x<=4.01542))]\n",
    "\n",
    "reagents = [reagent0, reagent1, reagent2, reagent3]\n",
    "reagents_sp = []\n",
    "\n",
    "for reagent in reagents:\n",
    "    ppm = reagent.iloc[:,0]\n",
    "    ints = reagent.iloc[:,1]\n",
    "    reagents_sp.append(NMRSpectrum(confs = list(zip(ppm, ints))))\n",
    "\n",
    "for sp in reagents_sp:\n",
    "    sp.trim_negative_intensities()\n",
    "    sp.normalize()"
   ]
  },
  {
   "cell_type": "code",
   "execution_count": null,
   "id": "1c5c05c8",
   "metadata": {},
   "outputs": [],
   "source": [
    "mix_to_plot = load_spectrum(mixture_time_data, 1)\n",
    "mix_to_plot.normalize()\n",
    "\n",
    "plt.gca().invert_xaxis()\n",
    "NMRSpectrum.plot_all([mix_to_plot] + reagents_sp, profile=True)"
   ]
  },
  {
   "cell_type": "markdown",
   "id": "3bd20acb",
   "metadata": {},
   "source": [
    "### Mixture"
   ]
  },
  {
   "cell_type": "code",
   "execution_count": null,
   "id": "ade88ec4",
   "metadata": {},
   "outputs": [],
   "source": [
    "mixture_time_data = mixture_time_data[mixture_time_data['ppm'].apply(lambda x: \n",
    "                                                                        (x>=5.39173 and x<=5.44305) or\n",
    "                                                                        (x>=5.2178 and x<=5.26134) or \n",
    "                                                                        (x>=4.62026 and x<=4.67207) or\n",
    "                                                                        (x>=3.97917 and x<=4.01542)\n",
    "                                                                    )]"
   ]
  },
  {
   "cell_type": "code",
   "execution_count": null,
   "id": "2c24f703",
   "metadata": {},
   "outputs": [],
   "source": [
    "#baseline correction\n",
    "# for colname in ['t' + str(nb) for nb in range(1, mixture_time_data.shape[1])]:\n",
    "#     mixture_time_data[colname] = mixture_time_data[colname].apply(lambda x: x-0.0395)"
   ]
  },
  {
   "cell_type": "code",
   "execution_count": null,
   "id": "436c2e7e",
   "metadata": {},
   "outputs": [],
   "source": [
    "plt.gca().invert_xaxis()\n",
    "NMRSpectrum.plot_all([load_spectrum(mixture_time_data, 1),\n",
    "                     load_spectrum(mixture_time_data, 1000)], profile=True)"
   ]
  },
  {
   "cell_type": "markdown",
   "id": "2b08352d",
   "metadata": {},
   "source": [
    "### Figures"
   ]
  },
  {
   "cell_type": "code",
   "execution_count": null,
   "id": "6d41d021",
   "metadata": {},
   "outputs": [],
   "source": [
    "mix_to_plot = load_spectrum(mixture_time_data, 1)\n",
    "mix_to_plot.trim_negative_intensities()\n",
    "mix_to_plot.normalize()\n",
    "\n",
    "plt.gca().invert_xaxis()\n",
    "NMRSpectrum.plot_all([mix_to_plot] + reagents_sp, profile=False)"
   ]
  },
  {
   "cell_type": "markdown",
   "id": "4dc66831",
   "metadata": {},
   "source": [
    "### Saving preprocessed spectra"
   ]
  },
  {
   "cell_type": "code",
   "execution_count": null,
   "id": "709cca93",
   "metadata": {},
   "outputs": [],
   "source": [
    "np.savetxt(data_path + 'preprocessed_saccharose.csv', reagent0, delimiter = '\\t')\n",
    "np.savetxt(data_path + 'preprocessed_alpha_glucose.csv', reagent1, delimiter = '\\t')\n",
    "np.savetxt(data_path + 'preprocessed_beta_glucose.csv', reagent2, delimiter = '\\t')\n",
    "np.savetxt(data_path + 'preprocessed_fructose.csv', reagent3, delimiter = '\\t')"
   ]
  },
  {
   "cell_type": "code",
   "execution_count": null,
   "id": "24dceaa2",
   "metadata": {},
   "outputs": [],
   "source": [
    "np.savetxt(data_path + 'preprocessed_mixture.csv', mixture_time_data, delimiter = '\\t')"
   ]
  }
 ],
 "metadata": {
  "kernelspec": {
   "display_name": "Python 3 (ipykernel)",
   "language": "python",
   "name": "python3"
  },
  "language_info": {
   "codemirror_mode": {
    "name": "ipython",
    "version": 3
   },
   "file_extension": ".py",
   "mimetype": "text/x-python",
   "name": "python",
   "nbconvert_exporter": "python",
   "pygments_lexer": "ipython3",
   "version": "3.12.3"
  }
 },
 "nbformat": 4,
 "nbformat_minor": 5
}
