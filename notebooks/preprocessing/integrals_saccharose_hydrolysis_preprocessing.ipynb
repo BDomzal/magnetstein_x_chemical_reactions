{
 "cells": [
  {
   "cell_type": "markdown",
   "id": "dd4a8039",
   "metadata": {},
   "source": [
    "### Imports"
   ]
  },
  {
   "cell_type": "code",
   "execution_count": 1,
   "id": "50e3ef75",
   "metadata": {},
   "outputs": [],
   "source": [
    "import sys\n",
    "mypath = \"/home/basia/Documents/spectroscopy/magnetstein\"\n",
    "sys.path.insert(0, mypath)"
   ]
  },
  {
   "cell_type": "code",
   "execution_count": 2,
   "id": "41a186ab",
   "metadata": {},
   "outputs": [],
   "source": [
    "import numpy as np\n",
    "import pandas as pd\n",
    "import os\n",
    "from masserstein import NMRSpectrum, estimate_proportions\n",
    "import matplotlib.pyplot as plt\n",
    "import pulp\n",
    "import pickle"
   ]
  },
  {
   "cell_type": "markdown",
   "id": "963c9b4b",
   "metadata": {},
   "source": [
    "### Data"
   ]
  },
  {
   "cell_type": "code",
   "execution_count": 3,
   "id": "f7f53440",
   "metadata": {},
   "outputs": [],
   "source": [
    "experiment_name = 'Saccharose hydrolysis'"
   ]
  },
  {
   "cell_type": "code",
   "execution_count": 4,
   "id": "31a53838",
   "metadata": {},
   "outputs": [],
   "source": [
    "integrals_path = '../../mnova_integrals/calki_better_baseline.csv'\n",
    "\n",
    "reagents_names = ['saccharose', 'alpha-glucose','beta-glucose', 'fructose']\n",
    "\n",
    "integrals_separator = '\\t'\n",
    "\n",
    "output_path = '../../mnova_integrals/'"
   ]
  },
  {
   "cell_type": "markdown",
   "id": "61199f4a",
   "metadata": {},
   "source": [
    "#### Mixture in time"
   ]
  },
  {
   "cell_type": "code",
   "execution_count": 5,
   "id": "b5a5d141",
   "metadata": {},
   "outputs": [],
   "source": [
    "integrals = pd.read_csv(integrals_path, sep = integrals_separator).iloc[:,[1,3,5,7]]\n",
    "integrals.fillna(0., inplace=True)\n",
    "integrals.columns = ['saccharose', 'alpha-glucose', 'beta-glucose', 'fructose']"
   ]
  },
  {
   "cell_type": "code",
   "execution_count": 6,
   "id": "db77d0c2",
   "metadata": {},
   "outputs": [],
   "source": [
    "integrals[integrals < 0] = 0"
   ]
  },
  {
   "cell_type": "code",
   "execution_count": 7,
   "id": "cd1a710c",
   "metadata": {},
   "outputs": [
    {
     "data": {
      "text/html": [
       "<div>\n",
       "<style scoped>\n",
       "    .dataframe tbody tr th:only-of-type {\n",
       "        vertical-align: middle;\n",
       "    }\n",
       "\n",
       "    .dataframe tbody tr th {\n",
       "        vertical-align: top;\n",
       "    }\n",
       "\n",
       "    .dataframe thead th {\n",
       "        text-align: right;\n",
       "    }\n",
       "</style>\n",
       "<table border=\"1\" class=\"dataframe\">\n",
       "  <thead>\n",
       "    <tr style=\"text-align: right;\">\n",
       "      <th></th>\n",
       "      <th>saccharose</th>\n",
       "      <th>alpha-glucose</th>\n",
       "      <th>beta-glucose</th>\n",
       "      <th>fructose</th>\n",
       "    </tr>\n",
       "  </thead>\n",
       "  <tbody>\n",
       "    <tr>\n",
       "      <th>0</th>\n",
       "      <td>50.93800</td>\n",
       "      <td>0.056052</td>\n",
       "      <td>0.008912</td>\n",
       "      <td>0.053207</td>\n",
       "    </tr>\n",
       "    <tr>\n",
       "      <th>1</th>\n",
       "      <td>50.88760</td>\n",
       "      <td>0.081185</td>\n",
       "      <td>0.010048</td>\n",
       "      <td>0.113395</td>\n",
       "    </tr>\n",
       "    <tr>\n",
       "      <th>2</th>\n",
       "      <td>50.83320</td>\n",
       "      <td>0.103627</td>\n",
       "      <td>0.009586</td>\n",
       "      <td>0.118683</td>\n",
       "    </tr>\n",
       "    <tr>\n",
       "      <th>3</th>\n",
       "      <td>50.95250</td>\n",
       "      <td>0.123608</td>\n",
       "      <td>0.009394</td>\n",
       "      <td>0.120440</td>\n",
       "    </tr>\n",
       "    <tr>\n",
       "      <th>4</th>\n",
       "      <td>50.86830</td>\n",
       "      <td>0.129540</td>\n",
       "      <td>0.009982</td>\n",
       "      <td>0.143952</td>\n",
       "    </tr>\n",
       "    <tr>\n",
       "      <th>...</th>\n",
       "      <td>...</td>\n",
       "      <td>...</td>\n",
       "      <td>...</td>\n",
       "      <td>...</td>\n",
       "    </tr>\n",
       "    <tr>\n",
       "      <th>1018</th>\n",
       "      <td>9.63685</td>\n",
       "      <td>4.015500</td>\n",
       "      <td>1.292990</td>\n",
       "      <td>20.481900</td>\n",
       "    </tr>\n",
       "    <tr>\n",
       "      <th>1019</th>\n",
       "      <td>9.18937</td>\n",
       "      <td>3.721350</td>\n",
       "      <td>1.206830</td>\n",
       "      <td>24.095000</td>\n",
       "    </tr>\n",
       "    <tr>\n",
       "      <th>1020</th>\n",
       "      <td>10.08660</td>\n",
       "      <td>4.146410</td>\n",
       "      <td>1.323030</td>\n",
       "      <td>21.367800</td>\n",
       "    </tr>\n",
       "    <tr>\n",
       "      <th>1021</th>\n",
       "      <td>9.26886</td>\n",
       "      <td>3.901810</td>\n",
       "      <td>1.276830</td>\n",
       "      <td>19.683100</td>\n",
       "    </tr>\n",
       "    <tr>\n",
       "      <th>1022</th>\n",
       "      <td>10.03510</td>\n",
       "      <td>4.016770</td>\n",
       "      <td>1.322970</td>\n",
       "      <td>21.392800</td>\n",
       "    </tr>\n",
       "  </tbody>\n",
       "</table>\n",
       "<p>1023 rows × 4 columns</p>\n",
       "</div>"
      ],
      "text/plain": [
       "      saccharose  alpha-glucose  beta-glucose   fructose\n",
       "0       50.93800       0.056052      0.008912   0.053207\n",
       "1       50.88760       0.081185      0.010048   0.113395\n",
       "2       50.83320       0.103627      0.009586   0.118683\n",
       "3       50.95250       0.123608      0.009394   0.120440\n",
       "4       50.86830       0.129540      0.009982   0.143952\n",
       "...          ...            ...           ...        ...\n",
       "1018     9.63685       4.015500      1.292990  20.481900\n",
       "1019     9.18937       3.721350      1.206830  24.095000\n",
       "1020    10.08660       4.146410      1.323030  21.367800\n",
       "1021     9.26886       3.901810      1.276830  19.683100\n",
       "1022    10.03510       4.016770      1.322970  21.392800\n",
       "\n",
       "[1023 rows x 4 columns]"
      ]
     },
     "execution_count": 7,
     "metadata": {},
     "output_type": "execute_result"
    }
   ],
   "source": [
    "integrals"
   ]
  },
  {
   "cell_type": "code",
   "execution_count": 8,
   "id": "bee18259",
   "metadata": {},
   "outputs": [
    {
     "data": {
      "image/png": "[encoded data removed]",
      "text/plain": [
       "<Figure size 640x480 with 1 Axes>"
      ]
     },
     "metadata": {},
     "output_type": "display_data"
    }
   ],
   "source": [
    "for i in range(integrals.shape[1]):\n",
    "    plt.plot(range(1,1024), integrals.iloc[:,i], '.')"
   ]
  },
  {
   "cell_type": "markdown",
   "id": "4dc66831",
   "metadata": {},
   "source": [
    "### Saving preprocessed spectra"
   ]
  },
  {
   "cell_type": "code",
   "execution_count": 9,
   "id": "24dceaa2",
   "metadata": {},
   "outputs": [],
   "source": [
    "integrals.to_csv(output_path + 'sacharoza_calki_nowe.csv', '\\t', index=False)"
   ]
  },
  {
   "cell_type": "code",
   "execution_count": null,
   "id": "34d908e2",
   "metadata": {},
   "outputs": [],
   "source": []
  }
 ],
 "metadata": {
  "kernelspec": {
   "display_name": "Python 3 (ipykernel)",
   "language": "python",
   "name": "python3"
  },
  "language_info": {
   "codemirror_mode": {
    "name": "ipython",
    "version": 3
   },
   "file_extension": ".py",
   "mimetype": "text/x-python",
   "name": "python",
   "nbconvert_exporter": "python",
   "pygments_lexer": "ipython3",
   "version": "3.10.12"
  }
 },
 "nbformat": 4,
 "nbformat_minor": 5
}
