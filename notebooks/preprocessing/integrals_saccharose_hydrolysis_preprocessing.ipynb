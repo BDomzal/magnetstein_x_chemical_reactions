{
 "cells": [
  {
   "cell_type": "markdown",
   "id": "dd4a8039",
   "metadata": {},
   "source": [
    "### Imports"
   ]
  },
  {
   "cell_type": "code",
   "execution_count": null,
   "id": "41a186ab",
   "metadata": {},
   "outputs": [],
   "source": [
    "import sys\n",
    "import numpy as np\n",
    "import pandas as pd\n",
    "import os\n",
    "from masserstein import NMRSpectrum, estimate_proportions\n",
    "import matplotlib.pyplot as plt\n",
    "import pulp\n",
    "import pickle"
   ]
  },
  {
   "cell_type": "markdown",
   "id": "963c9b4b",
   "metadata": {},
   "source": [
    "### Data"
   ]
  },
  {
   "cell_type": "code",
   "execution_count": null,
   "id": "f7f53440",
   "metadata": {},
   "outputs": [],
   "source": [
    "experiment_name = 'Saccharose hydrolysis'"
   ]
  },
  {
   "cell_type": "code",
   "execution_count": null,
   "id": "31a53838",
   "metadata": {},
   "outputs": [],
   "source": [
    "integrals_path = '../../mnova_integrals/sucrose_better_baseline_constant_region_sizes_calki.csv'\n",
    "\n",
    "reagents_names = ['saccharose', 'alpha-glucose','beta-glucose', 'fructose']\n",
    "\n",
    "integrals_separator = ','\n",
    "\n",
    "output_path = '../../mnova_integrals/'"
   ]
  },
  {
   "cell_type": "markdown",
   "id": "61199f4a",
   "metadata": {},
   "source": [
    "#### Mixture in time"
   ]
  },
  {
   "cell_type": "code",
   "execution_count": null,
   "id": "b5a5d141",
   "metadata": {},
   "outputs": [],
   "source": [
    "integrals = pd.read_csv(integrals_path, sep = integrals_separator, skiprows=2).iloc[:,[2,4,6,8]]\n",
    "integrals.fillna(0., inplace=True)\n",
    "integrals.columns = ['saccharose', 'alpha-glucose', 'beta-glucose', 'fructose']"
   ]
  },
  {
   "cell_type": "code",
   "execution_count": null,
   "id": "db77d0c2",
   "metadata": {},
   "outputs": [],
   "source": [
    "integrals[integrals < 0] = 0"
   ]
  },
  {
   "cell_type": "code",
   "execution_count": null,
   "id": "cd1a710c",
   "metadata": {},
   "outputs": [],
   "source": [
    "integrals"
   ]
  },
  {
   "cell_type": "code",
   "execution_count": null,
   "id": "bee18259",
   "metadata": {},
   "outputs": [],
   "source": [
    "for i in range(integrals.shape[1]):\n",
    "    plt.plot(range(1,1024), integrals.iloc[:,i], '.')"
   ]
  },
  {
   "cell_type": "markdown",
   "id": "4dc66831",
   "metadata": {},
   "source": [
    "### Saving preprocessed spectra"
   ]
  },
  {
   "cell_type": "code",
   "execution_count": null,
   "id": "24dceaa2",
   "metadata": {},
   "outputs": [],
   "source": [
    "integrals.to_csv(output_path + 'sacharoza_calki_nowe.csv', '\\t', index=False)"
   ]
  }
 ],
 "metadata": {
  "kernelspec": {
   "display_name": "Python 3 (ipykernel)",
   "language": "python",
   "name": "python3"
  },
  "language_info": {
   "codemirror_mode": {
    "name": "ipython",
    "version": 3
   },
   "file_extension": ".py",
   "mimetype": "text/x-python",
   "name": "python",
   "nbconvert_exporter": "python",
   "pygments_lexer": "ipython3",
   "version": "3.12.3"
  }
 },
 "nbformat": 4,
 "nbformat_minor": 5
}
