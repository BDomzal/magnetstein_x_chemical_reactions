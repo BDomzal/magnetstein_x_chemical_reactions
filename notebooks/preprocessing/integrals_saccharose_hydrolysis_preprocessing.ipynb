{
 "cells": [
  {
   "cell_type": "markdown",
   "id": "dd4a8039",
   "metadata": {},
   "source": [
    "### Imports"
   ]
  },
  {
   "cell_type": "code",
   "execution_count": 1,
   "id": "50e3ef75",
   "metadata": {},
   "outputs": [],
   "source": [
    "import sys\n",
    "mypath = \"/home/basia/Documents/spectroscopy/magnetstein\"\n",
    "sys.path.insert(0, mypath)"
   ]
  },
  {
   "cell_type": "code",
   "execution_count": 2,
   "id": "41a186ab",
   "metadata": {},
   "outputs": [],
   "source": [
    "import numpy as np\n",
    "import pandas as pd\n",
    "import os\n",
    "from masserstein import NMRSpectrum, estimate_proportions\n",
    "import matplotlib.pyplot as plt\n",
    "import pulp\n",
    "import pickle"
   ]
  },
  {
   "cell_type": "markdown",
   "id": "963c9b4b",
   "metadata": {},
   "source": [
    "### Data"
   ]
  },
  {
   "cell_type": "code",
   "execution_count": 3,
   "id": "f7f53440",
   "metadata": {},
   "outputs": [],
   "source": [
    "experiment_name = 'Saccharose hydrolysis'"
   ]
  },
  {
   "cell_type": "code",
   "execution_count": 16,
   "id": "31a53838",
   "metadata": {},
   "outputs": [],
   "source": [
    "integrals_path = '../../mnova_integrals/sucrose_better_baseline_constant_region_sizes_calki.csv'\n",
    "\n",
    "reagents_names = ['saccharose', 'alpha-glucose','beta-glucose', 'fructose']\n",
    "\n",
    "integrals_separator = ','\n",
    "\n",
    "output_path = '../../mnova_integrals/'"
   ]
  },
  {
   "cell_type": "markdown",
   "id": "61199f4a",
   "metadata": {},
   "source": [
    "#### Mixture in time"
   ]
  },
  {
   "cell_type": "code",
   "execution_count": 20,
   "id": "b5a5d141",
   "metadata": {},
   "outputs": [],
   "source": [
    "integrals = pd.read_csv(integrals_path, sep = integrals_separator, skiprows=2).iloc[:,[2,4,6,8]]\n",
    "integrals.fillna(0., inplace=True)\n",
    "integrals.columns = ['saccharose', 'alpha-glucose', 'beta-glucose', 'fructose']"
   ]
  },
  {
   "cell_type": "code",
   "execution_count": 22,
   "id": "db77d0c2",
   "metadata": {},
   "outputs": [],
   "source": [
    "integrals[integrals < 0] = 0"
   ]
  },
  {
   "cell_type": "code",
   "execution_count": 23,
   "id": "cd1a710c",
   "metadata": {},
   "outputs": [
    {
     "data": {
      "text/html": [
       "<div>\n",
       "<style scoped>\n",
       "    .dataframe tbody tr th:only-of-type {\n",
       "        vertical-align: middle;\n",
       "    }\n",
       "\n",
       "    .dataframe tbody tr th {\n",
       "        vertical-align: top;\n",
       "    }\n",
       "\n",
       "    .dataframe thead th {\n",
       "        text-align: right;\n",
       "    }\n",
       "</style>\n",
       "<table border=\"1\" class=\"dataframe\">\n",
       "  <thead>\n",
       "    <tr style=\"text-align: right;\">\n",
       "      <th></th>\n",
       "      <th>saccharose</th>\n",
       "      <th>alpha-glucose</th>\n",
       "      <th>beta-glucose</th>\n",
       "      <th>fructose</th>\n",
       "    </tr>\n",
       "  </thead>\n",
       "  <tbody>\n",
       "    <tr>\n",
       "      <th>0</th>\n",
       "      <td>51.049167</td>\n",
       "      <td>0.048710</td>\n",
       "      <td>0.010364</td>\n",
       "      <td>0.029105</td>\n",
       "    </tr>\n",
       "    <tr>\n",
       "      <th>1</th>\n",
       "      <td>50.986505</td>\n",
       "      <td>0.075655</td>\n",
       "      <td>0.011411</td>\n",
       "      <td>0.074084</td>\n",
       "    </tr>\n",
       "    <tr>\n",
       "      <th>2</th>\n",
       "      <td>50.932221</td>\n",
       "      <td>0.098318</td>\n",
       "      <td>0.009855</td>\n",
       "      <td>0.077647</td>\n",
       "    </tr>\n",
       "    <tr>\n",
       "      <th>3</th>\n",
       "      <td>51.076414</td>\n",
       "      <td>0.118059</td>\n",
       "      <td>0.010687</td>\n",
       "      <td>0.067180</td>\n",
       "    </tr>\n",
       "    <tr>\n",
       "      <th>4</th>\n",
       "      <td>50.986019</td>\n",
       "      <td>0.122927</td>\n",
       "      <td>0.010848</td>\n",
       "      <td>0.078415</td>\n",
       "    </tr>\n",
       "    <tr>\n",
       "      <th>...</th>\n",
       "      <td>...</td>\n",
       "      <td>...</td>\n",
       "      <td>...</td>\n",
       "      <td>...</td>\n",
       "    </tr>\n",
       "    <tr>\n",
       "      <th>1018</th>\n",
       "      <td>9.840785</td>\n",
       "      <td>3.946724</td>\n",
       "      <td>1.234089</td>\n",
       "      <td>23.648014</td>\n",
       "    </tr>\n",
       "    <tr>\n",
       "      <th>1019</th>\n",
       "      <td>9.410941</td>\n",
       "      <td>3.640959</td>\n",
       "      <td>1.144884</td>\n",
       "      <td>27.794347</td>\n",
       "    </tr>\n",
       "    <tr>\n",
       "      <th>1020</th>\n",
       "      <td>10.270648</td>\n",
       "      <td>4.085029</td>\n",
       "      <td>1.267191</td>\n",
       "      <td>24.720038</td>\n",
       "    </tr>\n",
       "    <tr>\n",
       "      <th>1021</th>\n",
       "      <td>9.474932</td>\n",
       "      <td>3.825599</td>\n",
       "      <td>1.218161</td>\n",
       "      <td>22.868467</td>\n",
       "    </tr>\n",
       "    <tr>\n",
       "      <th>1022</th>\n",
       "      <td>10.215505</td>\n",
       "      <td>3.948454</td>\n",
       "      <td>1.264693</td>\n",
       "      <td>24.742432</td>\n",
       "    </tr>\n",
       "  </tbody>\n",
       "</table>\n",
       "<p>1023 rows × 4 columns</p>\n",
       "</div>"
      ],
      "text/plain": [
       "      saccharose  alpha-glucose  beta-glucose   fructose\n",
       "0      51.049167       0.048710      0.010364   0.029105\n",
       "1      50.986505       0.075655      0.011411   0.074084\n",
       "2      50.932221       0.098318      0.009855   0.077647\n",
       "3      51.076414       0.118059      0.010687   0.067180\n",
       "4      50.986019       0.122927      0.010848   0.078415\n",
       "...          ...            ...           ...        ...\n",
       "1018    9.840785       3.946724      1.234089  23.648014\n",
       "1019    9.410941       3.640959      1.144884  27.794347\n",
       "1020   10.270648       4.085029      1.267191  24.720038\n",
       "1021    9.474932       3.825599      1.218161  22.868467\n",
       "1022   10.215505       3.948454      1.264693  24.742432\n",
       "\n",
       "[1023 rows x 4 columns]"
      ]
     },
     "execution_count": 23,
     "metadata": {},
     "output_type": "execute_result"
    }
   ],
   "source": [
    "integrals"
   ]
  },
  {
   "cell_type": "code",
   "execution_count": 24,
   "id": "bee18259",
   "metadata": {},
   "outputs": [
    {
     "data": {
      "image/png": "[encoded data removed]",
      "text/plain": [
       "<Figure size 640x480 with 1 Axes>"
      ]
     },
     "metadata": {},
     "output_type": "display_data"
    }
   ],
   "source": [
    "for i in range(integrals.shape[1]):\n",
    "    plt.plot(range(1,1024), integrals.iloc[:,i], '.')"
   ]
  },
  {
   "cell_type": "markdown",
   "id": "4dc66831",
   "metadata": {},
   "source": [
    "### Saving preprocessed spectra"
   ]
  },
  {
   "cell_type": "code",
   "execution_count": 25,
   "id": "24dceaa2",
   "metadata": {},
   "outputs": [],
   "source": [
    "integrals.to_csv(output_path + 'sacharoza_calki_nowe.csv', '\\t', index=False)"
   ]
  }
 ],
 "metadata": {
  "kernelspec": {
   "display_name": "Python 3 (ipykernel)",
   "language": "python",
   "name": "python3"
  },
  "language_info": {
   "codemirror_mode": {
    "name": "ipython",
    "version": 3
   },
   "file_extension": ".py",
   "mimetype": "text/x-python",
   "name": "python",
   "nbconvert_exporter": "python",
   "pygments_lexer": "ipython3",
   "version": "3.10.12"
  }
 },
 "nbformat": 4,
 "nbformat_minor": 5
}
