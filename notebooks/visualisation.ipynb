{
 "cells": [
  {
   "cell_type": "markdown",
   "id": "7c24b939",
   "metadata": {},
   "source": [
    "### Imports"
   ]
  },
  {
   "cell_type": "code",
   "execution_count": null,
   "id": "47abd4b8",
   "metadata": {},
   "outputs": [],
   "source": [
    "import sys\n",
    "import numpy as np\n",
    "import pandas as pd\n",
    "import os\n",
    "from masserstein import NMRSpectrum, estimate_proportions\n",
    "import matplotlib.pyplot as plt\n",
    "import pulp\n",
    "import pickle\n",
    "import itertools\n",
    "import matplotlib.pyplot as plt"
   ]
  },
  {
   "cell_type": "markdown",
   "id": "398dfa87",
   "metadata": {},
   "source": [
    "### Data"
   ]
  },
  {
   "cell_type": "code",
   "execution_count": null,
   "id": "7c9e61d9",
   "metadata": {},
   "outputs": [],
   "source": [
    "# What to change for PMG 287 whole mixture:\n",
    "\n",
    "#optionally add ylim(0,0.4) in plots"
   ]
  },
  {
   "cell_type": "code",
   "execution_count": null,
   "id": "f7f53440",
   "metadata": {},
   "outputs": [],
   "source": [
    "experiment_name = 'PMG 287 monitoring with full mixture spectrum'"
   ]
  },
  {
   "cell_type": "code",
   "execution_count": null,
   "id": "358a6a9a",
   "metadata": {},
   "outputs": [],
   "source": [
    "mixture_paths = {'Saccharose hydrolysis': '../data/saccharose_hydrolysis/preprocessed_mixture.csv',\n",
    "                'PMG 284 monitoring': '../data/PMG_284/preprocessed_mixture.csv',\n",
    "                'PMG 287 monitoring': '../data/PMG_287/preprocessed_mixture_cut_to_regions.csv',\n",
    "                'Saccharose hydrolysis with full mixture spectrum': '../data/saccharose_hydrolysis_full_mixture_spectrum/preprocessed_mixture.csv',\n",
    "                'PMG 284 monitoring with full mixture spectrum': '../data/PMG_284_full_mixture_spectrum/preprocessed_mixture_whole.csv',\n",
    "                'PMG 287 monitoring with full mixture spectrum': '../data/PMG_287_full_mixture_spectrum/preprocessed_mixture_whole.csv'\n",
    "                }\n",
    "\n",
    "sucrose_time_axis_path = '../data/saccharose_hydrolysis/time_axis_sucrose_hydrolysis.txt'\n",
    "\n",
    "reagents_paths = {'Saccharose hydrolysis': ['../data/saccharose_hydrolysis/preprocessed_saccharose.csv',\n",
    "                                            '../data/saccharose_hydrolysis/preprocessed_alpha_glucose.csv',\n",
    "                                            '../data/saccharose_hydrolysis/preprocessed_beta_glucose.csv',\n",
    "                                            '../data/saccharose_hydrolysis/preprocessed_fructose.csv'],\n",
    "                'PMG 284 monitoring': ['../data/PMG_284/preprocessed_pentene.csv',\n",
    "                                      '../data/PMG_284/preprocessed_triethylsilane.csv',\n",
    "                                      '../data/PMG_284/preprocessed_product.csv'],\n",
    "                'PMG 287 monitoring': ['../data/PMG_287/preprocessed_hexene.csv',\n",
    "                                       '../data/PMG_287/preprocessed_triethylsilane.csv',\n",
    "                                       '../data/PMG_287/preprocessed_product.csv'],\n",
    "                'Saccharose hydrolysis with full mixture spectrum':\n",
    "                                      ['../data/saccharose_hydrolysis_full_mixture_spectrum/preprocessed_saccharose.csv',\n",
    "                                        '../data/saccharose_hydrolysis_full_mixture_spectrum/preprocessed_alpha_glucose.csv',\n",
    "                                       '../data/saccharose_hydrolysis_full_mixture_spectrum/preprocessed_beta_glucose.csv',\n",
    "                                       '../data/saccharose_hydrolysis_full_mixture_spectrum/preprocessed_fructose.csv'],\n",
    "                'PMG 284 monitoring with full mixture spectrum': ['../data/PMG_284_full_mixture_spectrum/preprocessed_pentene.csv',\n",
    "                                                               '../data/PMG_284_full_mixture_spectrum/preprocessed_triethylsilane.csv',\n",
    "                                                               '../data/PMG_284_full_mixture_spectrum/preprocessed_product.csv'],\n",
    "                'PMG 287 monitoring with full mixture spectrum': ['../data/PMG_287_full_mixture_spectrum/preprocessed_hexene.csv',\n",
    "                                                               '../data/PMG_287_full_mixture_spectrum/preprocessed_triethylsilane.csv',\n",
    "                                                               '../data/PMG_287_full_mixture_spectrum/preprocessed_product.csv'],\n",
    "                 }\n",
    "\n",
    "mixture_separators = {'Saccharose hydrolysis': '\\t',\n",
    "                'PMG 284 monitoring': '\\t',\n",
    "                'PMG 287 monitoring': '\\t',\n",
    "                'Saccharose hydrolysis with full mixture spectrum': '\\t',\n",
    "                'PMG 284 monitoring with full mixture spectrum': '\\t',\n",
    "                'PMG 287 monitoring with full mixture spectrum': '\\t'\n",
    "                }\n",
    "\n",
    "reagents_separators = {'Saccharose hydrolysis': '\\t',\n",
    "                 'PMG 284 monitoring': '\\t',\n",
    "                'PMG 287 monitoring': '\\t',\n",
    "                'Saccharose hydrolysis with full mixture spectrum': '\\t',\n",
    "                'PMG 284 monitoring with full mixture spectrum': '\\t',\n",
    "                'PMG 287 monitoring with full mixture spectrum': '\\t'\n",
    "                }\n",
    "\n",
    "results_paths = {\n",
    "                'Saccharose hydrolysis': '../results/saccharose_hydrolysis/',\n",
    "                'PMG 284 monitoring': '../results/PMG_284/',\n",
    "                'PMG 287 monitoring': '../results/PMG_287/',\n",
    "                'Saccharose hydrolysis with full mixture spectrum': '../results/saccharose_hydrolysis_full_mixture_spectrum/',\n",
    "                'PMG 284 monitoring with full mixture spectrum': '../results/PMG_284_full_mixture_spectrum/',\n",
    "                'PMG 287 monitoring with full mixture spectrum': '../results/PMG_287_full_mixture_spectrum/'\n",
    "                }\n",
    "\n",
    "substances_names = {'Saccharose hydrolysis': ['sucrose', 'alpha-glucose', 'beta-glucose', 'fructose'],\n",
    "                    'PMG 284 monitoring': ['2-pentene', 'triethylsilane', '2-pentyl-1-triethylsilane'],\n",
    "                    'PMG 287 monitoring': ['1-hexene', 'triethylsilane', 'hexyl-triethylsilane'],\n",
    "                    'Saccharose hydrolysis with full mixture spectrum': ['sucrose', 'alpha-glucose', 'beta-glucose', 'fructose'],\n",
    "                    'PMG 284 monitoring with full mixture spectrum': ['2-pentene', 'triethylsilane', '2-pentyl-1-triethylsilane'],\n",
    "                    'PMG 287 monitoring with full mixture spectrum': ['1-hexene', 'triethylsilane', 'hexyl-triethylsilane'],\n",
    "                    }\n",
    "\n",
    "integrals_to_compare_with = {'Saccharose hydrolysis': '../mnova_integrals/sacharoza_calki_nowe.csv',\n",
    "                    'PMG 284 monitoring': '../mnova_integrals/284_edited_corrected_calki.csv',\n",
    "                    'PMG 287 monitoring': '../mnova_integrals/287_calki_zsumowane.csv',\n",
    "                    'Saccharose hydrolysis with full mixture spectrum': '../mnova_integrals/sacharoza_calki_nowe.csv',\n",
    "                    'PMG 284 monitoring with full mixture spectrum': '../mnova_integrals/284_edited_corrected_calki.csv',\n",
    "                    'PMG 287 monitoring with full mixture spectrum': '../mnova_integrals/287_calki_zsumowane.csv'\n",
    "                            }\n",
    "\n",
    "integrals_separators = {'Saccharose hydrolysis': '\\t',\n",
    "                    'PMG 284 monitoring': ',',\n",
    "                    'PMG 287 monitoring': ';',\n",
    "                    'Saccharose hydrolysis with full mixture spectrum': '\\t',\n",
    "                    'PMG 284 monitoring with full mixture spectrum': ',',\n",
    "                    'PMG 287 monitoring with full mixture spectrum': ';'\n",
    "                            }\n",
    "\n",
    "python_integrals_to_compare_with = {'Saccharose hydrolysis': '../python_integrals/python_integral_Saccharose_hydrolysis.csv',\n",
    "                    'PMG 284 monitoring': '../python_integrals/python_integral_PMG_284_monitoring.csv',\n",
    "                    'PMG 287 monitoring': '../python_integrals/python_integral_PMG_287_monitoring.csv',\n",
    "                    'Saccharose hydrolysis with full mixture spectrum': '../python_integrals/python_integral_Saccharose_hydrolysis.csv',\n",
    "                    'PMG 284 monitoring with full mixture spectrum': '../python_integrals/python_integral_PMG_284_monitoring.csv',\n",
    "                    'PMG 287 monitoring with full mixture spectrum': '../python_integrals/python_integral_PMG_287_monitoring.csv'\n",
    "                                    }\n",
    "\n",
    "python_integrals_separators = {'Saccharose hydrolysis': ',',\n",
    "                    'PMG 284 monitoring': ',',\n",
    "                    'PMG 287 monitoring': ',',\n",
    "                    'Saccharose hydrolysis with full mixture spectrum': ',',\n",
    "                    'PMG 284 monitoring with full mixture spectrum': ',',\n",
    "                    'PMG 287 monitoring with full mixture spectrum': ','\n",
    "                            }\n",
    "\n",
    "colors_for_components = {'Saccharose hydrolysis': ['#f5cacc', '#e2eac4', '#c0f5ce', '#c4f1ef'],\n",
    "                         'PMG 284 monitoring': ['#f5cacc', '#e2eac4', '#c0f5ce'],\n",
    "                        'PMG 287 monitoring': ['#decdee', '#eed5cd', '#cdeeee'],\n",
    "                         'Saccharose hydrolysis with full mixture spectrum': ['#f5cacc', '#e2eac4', '#c0f5ce', '#c4f1ef'],\n",
    "                         'PMG 284 monitoring with full mixture spectrum': ['#f5cacc', '#e2eac4', '#c0f5ce'],\n",
    "                         'PMG 287 monitoring with full mixture spectrum': ['#decdee', '#eed5cd', '#cdeeee']\n",
    "                        }\n",
    "\n",
    "saturated_colors_for_components = {'Saccharose hydrolysis': ['#e07676', '#b3ba97', '#88c398', '#2bbcb7'],\n",
    "                         'PMG 284 monitoring': ['#e07676', '#b3ba97', '#88c398'],\n",
    "                        'PMG 287 monitoring': ['#a06fce', '#cb8067', '#67cbcb'],\n",
    "                        'Saccharose hydrolysis with full mixture spectrum': ['#e07676', '#b3ba97', '#88c398', '#2bbcb7'],\n",
    "                         'PMG 284 monitoring with full mixture spectrum': ['#e07676', '#b3ba97', '#88c398'],\n",
    "                        'PMG 287 monitoring with full mixture spectrum': ['#a06fce', '#cb8067', '#67cbcb']\n",
    "                        }"
   ]
  },
  {
   "cell_type": "markdown",
   "id": "89997eb3",
   "metadata": {},
   "source": [
    "### Finding all values of kappa, kappa_th"
   ]
  },
  {
   "cell_type": "code",
   "execution_count": null,
   "id": "5f3382ff",
   "metadata": {},
   "outputs": [],
   "source": [
    "def convert(txt):\n",
    "    k = float(txt)\n",
    "    if k%1 ==0:\n",
    "        return int(k)\n",
    "    return k"
   ]
  },
  {
   "cell_type": "code",
   "execution_count": null,
   "id": "5d3c1983",
   "metadata": {},
   "outputs": [],
   "source": [
    "all_kappas = []\n",
    "all_kappas_th = []\n",
    "for file in os.listdir(results_paths[experiment_name]):\n",
    "    if file.startswith('noise_proportions_in_times'):\n",
    "        kappa = convert(file.split('_')[4])\n",
    "        all_kappas.append(kappa)\n",
    "        kappa_th = convert(file.split('_')[5][:-4])\n",
    "        all_kappas_th.append(kappa_th)\n",
    "        \n",
    "all_kappas = sorted(list(set(all_kappas)))\n",
    "all_kappas_th = sorted(list(set(all_kappas_th)))"
   ]
  },
  {
   "cell_type": "code",
   "execution_count": null,
   "id": "6c16970f",
   "metadata": {},
   "outputs": [],
   "source": [
    "kappas_to_remove = [1.2, 0.75]\n",
    "kappas_th_to_remove = [1.2, 0.75]\n",
    "\n",
    "if experiment_name == 'Saccharose hydrolysis with full mixture spectrum':\n",
    "    kappas_to_remove = [0.05, 0.5, 0.75, 1, 1.2]\n",
    "    kappas_th_to_remove = [0.05, 0.5, 0.75, 1, 1.2]\n",
    "\n",
    "if experiment_name == 'PMG 284 monitoring with full mixture spectrum':\n",
    "    kappas_to_remove = [0.5]\n",
    "    kappas_th_to_remove = [0.5]"
   ]
  },
  {
   "cell_type": "code",
   "execution_count": null,
   "id": "a7fcf74c",
   "metadata": {},
   "outputs": [],
   "source": [
    "all_kappas = sorted(list(set(all_kappas) - set(kappas_to_remove)))\n",
    "all_kappas_th = sorted(list(set(all_kappas_th) - set(kappas_th_to_remove)))"
   ]
  },
  {
   "cell_type": "markdown",
   "id": "bb41cca5",
   "metadata": {},
   "source": [
    "\n",
    "### Reading results for different values of kappa, kappa_th"
   ]
  },
  {
   "cell_type": "code",
   "execution_count": null,
   "id": "3e806fe3",
   "metadata": {},
   "outputs": [],
   "source": [
    "results_dict = {}\n",
    "\n",
    "for kappa in all_kappas:\n",
    "    for kappa_th in all_kappas_th:\n",
    "        try:\n",
    "            with open(results_paths[experiment_name] + 'proportions_in_times_' +\n",
    "                                  str(kappa)+'_'+str(kappa_th)+'.pkl', 'rb') as f:\n",
    "                y = pickle.load(f)\n",
    "                y = np.array(y)\n",
    "                results_dict[(kappa, kappa_th)] = y\n",
    "        except FileNotFoundError:\n",
    "            results_dict[(kappa, kappa_th)] = None"
   ]
  },
  {
   "cell_type": "markdown",
   "id": "d10c8c36",
   "metadata": {},
   "source": [
    "### Loading integrals computed in MNova"
   ]
  },
  {
   "cell_type": "code",
   "execution_count": null,
   "id": "ad290b58",
   "metadata": {},
   "outputs": [],
   "source": [
    "integrals = pd.read_csv(integrals_to_compare_with[experiment_name], sep=integrals_separators[experiment_name])\n",
    "\n",
    "if experiment_name == 'PMG 287 monitoring with full mixture spectrum':\n",
    "    how_to_divide = 'whole spectrum'\n",
    "else:\n",
    "    how_to_divide = 'sum'\n",
    "\n",
    "if experiment_name == 'Saccharose hydrolysis' or experiment_name == 'Saccharose hydrolysis with full mixture spectrum':\n",
    "    integrals = integrals.iloc[1:,:]\n",
    "    integrals.columns = ['saccharose', 'alpha-glucose', 'beta-glucose', 'fructose']\n",
    "    integrals = integrals.apply(pd.to_numeric)\n",
    "    nominator = np.array(integrals[['saccharose', 'alpha-glucose', 'beta-glucose', 'fructose']])\n",
    "    if how_to_divide == 'whole spectrum':\n",
    "        denominator = np.array(integrals[['whole spectrum']])\n",
    "    elif how_to_divide == 'sum':\n",
    "        denominator = np.array(integrals[['saccharose', 'alpha-glucose', \n",
    "                                          'beta-glucose', 'fructose']]).sum(axis=1).reshape(-1,1)\n",
    "    mnova_integrals_proportions = nominator/denominator\n",
    "    \n",
    "if experiment_name == 'PMG 284 monitoring' or experiment_name == 'PMG 284 monitoring with full mixture spectrum':\n",
    "    integrals = integrals.iloc[1:,[2,6,8,10]]\n",
    "    integrals.rename(columns={'Y(X)': 'penten',\n",
    "                             'Y2(X)': 'silan',\n",
    "                             'Y3(X)': 'produkt',\n",
    "                             'Unnamed: 10': 'cale widmo'}, inplace=True)\n",
    "    integrals = integrals[['penten', 'silan', 'produkt', 'cale widmo']]\n",
    "    integrals = integrals.apply(pd.to_numeric)\n",
    "    nominator = np.array(integrals[['penten', 'silan', 'produkt']])\n",
    "    if how_to_divide == 'whole spectrum':\n",
    "        denominator = np.array(integrals[['cale widmo']])\n",
    "    elif how_to_divide == 'sum':\n",
    "        denominator = np.array(integrals[['penten', 'silan', 'produkt']]).sum(axis=1).reshape(-1,1)\n",
    "    mnova_integrals_proportions = nominator/denominator\n",
    "    \n",
    "if experiment_name == 'PMG 287 monitoring' or experiment_name == 'PMG 287 monitoring with full mixture spectrum':\n",
    "    integrals = integrals[['hexene sum', 'silane sum', 'product sum', 'all']].iloc[1:]\n",
    "    for col in integrals.columns:\n",
    "        integrals[col] = integrals[col].apply(lambda x: float(x.replace(',', '.')))\n",
    "        \n",
    "    nominator = np.array(integrals[['hexene sum', 'silane sum', 'product sum']])\n",
    "    if how_to_divide == 'whole spectrum':\n",
    "        denominator = np.array(integrals[['all']])\n",
    "    elif how_to_divide == 'sum':\n",
    "        denominator = np.array(integrals[['hexene sum', 'silane sum', 'product sum']]).sum(axis=1).reshape(-1,1)\n",
    "    mnova_integrals_proportions = nominator/denominator"
   ]
  },
  {
   "cell_type": "markdown",
   "id": "9e23d06e",
   "metadata": {},
   "source": [
    "### Loading integrals computed in Python"
   ]
  },
  {
   "cell_type": "code",
   "execution_count": null,
   "id": "e8f37268",
   "metadata": {},
   "outputs": [],
   "source": [
    "integrals = pd.read_csv(python_integrals_to_compare_with[experiment_name], \n",
    "                        sep=python_integrals_separators[experiment_name])\n",
    "\n",
    "if experiment_name == 'PMG 287 monitoring with full mixture spectrum':\n",
    "    how_to_divide = 'whole spectrum'\n",
    "else:\n",
    "    how_to_divide = 'sum'\n",
    "\n",
    "if experiment_name == 'Saccharose hydrolysis' or experiment_name == 'Saccharose hydrolysis with full mixture spectrum':\n",
    "    integrals = integrals.apply(pd.to_numeric)\n",
    "    nominator = np.array(integrals.iloc[:,:4])\n",
    "    if how_to_divide == 'whole spectrum':\n",
    "        denominator = np.array(integrals[['whole_spectrum']])\n",
    "    elif how_to_divide == 'sum':\n",
    "        denominator = np.array(integrals.iloc[:,:4].sum(axis=1)).reshape(-1,1)\n",
    "    python_integrals_proportions = nominator/denominator\n",
    "    \n",
    "if experiment_name == 'PMG 284 monitoring' or experiment_name == 'PMG 284 monitoring with full mixture spectrum':\n",
    "    integrals = integrals.apply(pd.to_numeric)\n",
    "    nominator = np.array(integrals.iloc[:,:3])\n",
    "    if how_to_divide == 'whole spectrum':\n",
    "        denominator = np.array(integrals[['whole_spectrum']])\n",
    "    elif how_to_divide == 'sum':\n",
    "        denominator = np.array(integrals.iloc[:,:3]).sum(axis=1).reshape(-1,1)\n",
    "    python_integrals_proportions = nominator/denominator\n",
    "    \n",
    "if experiment_name == 'PMG 287 monitoring' or experiment_name == 'PMG 287 monitoring with full mixture spectrum':\n",
    "    integrals = integrals.apply(pd.to_numeric)\n",
    "    nominator = np.array(integrals.iloc[:,:3])\n",
    "    if how_to_divide == 'whole spectrum':\n",
    "        denominator = np.array(integrals[['whole_spectrum']])\n",
    "    elif how_to_divide == 'sum':\n",
    "        denominator = np.array(integrals.iloc[:,:3]).sum(axis=1).reshape(-1,1)\n",
    "    python_integrals_proportions = nominator/denominator"
   ]
  },
  {
   "cell_type": "markdown",
   "id": "d8950168",
   "metadata": {},
   "source": [
    "### Setting time for particular experiments"
   ]
  },
  {
   "cell_type": "code",
   "execution_count": null,
   "id": "2af71f72",
   "metadata": {},
   "outputs": [],
   "source": [
    "time_range = {\n",
    "                'Saccharose hydrolysis': (1/60)*np.loadtxt(sucrose_time_axis_path)[::10],\n",
    "                'PMG 284 monitoring': [(1/60)*5*(el-1) for el in list(range(1,1000,10))],\n",
    "                'PMG 287 monitoring': [(1/60)*5*(el-1) for el in list(range(1,1000,10))],\n",
    "                'Saccharose hydrolysis with full mixture spectrum': (1/60)*np.loadtxt(sucrose_time_axis_path)[::10],\n",
    "                'PMG 284 monitoring with full mixture spectrum': [(1/60)*5*(el-1) for el in list(range(1,1000,10))],\n",
    "                'PMG 287 monitoring with full mixture spectrum': [(1/60)*5*(el-1) for el in list(range(1,1000,10))]\n",
    "}\n",
    "\n",
    "time_range_integrals_python = {\n",
    "                'Saccharose hydrolysis': (1/60)*np.loadtxt(sucrose_time_axis_path),\n",
    "                'PMG 284 monitoring': [(1/60)*5*(el-1) for el in list(range(1,1000))],\n",
    "                'PMG 287 monitoring': [(1/60)*5*(el-1) for el in list(range(1,1000))],\n",
    "                'Saccharose hydrolysis with full mixture spectrum': (1/60)*np.loadtxt(sucrose_time_axis_path),\n",
    "                'PMG 284 monitoring with full mixture spectrum': [(1/60)*5*(el-1) for el in list(range(1,1000))],\n",
    "                'PMG 287 monitoring with full mixture spectrum': [(1/60)*5*(el-1) for el in list(range(1,1000))]\n",
    "}\n",
    "\n",
    "time_range_integrals_mnova = {\n",
    "                'Saccharose hydrolysis': (1/60)*np.loadtxt(sucrose_time_axis_path)[:-1],\n",
    "                'PMG 284 monitoring': [(1/60)*5*(el-1) for el in list(range(1,1001))],\n",
    "                'PMG 287 monitoring': [(1/60)*5*(el-1) for el in list(range(1,1001))],\n",
    "                'Saccharose hydrolysis with full mixture spectrum': (1/60)*np.loadtxt(sucrose_time_axis_path)[:-1],\n",
    "                'PMG 284 monitoring with full mixture spectrum': [(1/60)*5*(el-1) for el in list(range(1,1001))],\n",
    "                'PMG 287 monitoring with full mixture spectrum': [(1/60)*5*(el-1) for el in list(range(1,1001))]\n",
    "\n",
    "}"
   ]
  },
  {
   "cell_type": "markdown",
   "id": "7fafc5ee",
   "metadata": {},
   "source": [
    "### Visualising results for different parameters, different components"
   ]
  },
  {
   "cell_type": "code",
   "execution_count": null,
   "id": "46f450f6",
   "metadata": {},
   "outputs": [],
   "source": [
    "component_nr = 0"
   ]
  },
  {
   "cell_type": "code",
   "execution_count": null,
   "id": "09be2567",
   "metadata": {},
   "outputs": [],
   "source": [
    "lin_regr = False"
   ]
  },
  {
   "cell_type": "code",
   "execution_count": null,
   "id": "3ee2a08b",
   "metadata": {},
   "outputs": [],
   "source": [
    "fig, axs = plt.subplots(len(all_kappas), len(all_kappas_th), sharex='all', sharey='all')\n",
    "fig.suptitle('Proportion of ' + substances_names[experiment_name][component_nr], fontsize=50)\n",
    "fig.set_size_inches(30, 18, forward=True)\n",
    "\n",
    "fig.text(0.5, 0.92, 'Kappa components', ha='center', size=25)\n",
    "fig.text(0.06, 0.5, 'Kappa mixture', va='center', rotation='vertical', size=25)\n",
    "\n",
    "for i, ax in enumerate(axs):\n",
    "    kappa = all_kappas[i]\n",
    "    for j, axx in enumerate(ax):\n",
    "        kappa_th = all_kappas_th[j]\n",
    "        try:\n",
    "            y = results_dict[(kappa, kappa_th)][:, component_nr]\n",
    "            axx.plot(time_range[experiment_name], y, 'p', markersize=5, \n",
    "                     color=saturated_colors_for_components[experiment_name][component_nr])\n",
    "            if lin_regr:\n",
    "                t = np.array(time_range[experiment_name])\n",
    "                t_and_ones = np.vstack([t, np.ones(len(t))]).T\n",
    "                slope, intercept = np.linalg.lstsq(t_and_ones, y)[0]\n",
    "                axx.plot(time_range[experiment_name], slope*t+intercept, linewidth=2.5)\n",
    "        except TypeError:\n",
    "            axx.plot(0,0)\n",
    "        \n",
    "cols = [str(kappa_th) for kappa_th in all_kappas_th]\n",
    "rows = [str(kappa) for kappa in all_kappas]       \n",
    "\n",
    "for ax, col in zip(axs[0], cols):\n",
    "    ax.set_title(col, size=20)\n",
    "    ax.set_ylim(0,1)\n",
    "    \n",
    "for ax, col in zip(axs[-1], cols):\n",
    "        ax.set_xlabel('Time [min]', size=10)\n",
    "\n",
    "for ax, row in zip(axs[:,0], rows):\n",
    "    ax.set_ylabel(row, rotation=90, size=20)\n",
    "#fig.savefig(results_paths[experiment_name]+'comparison_for_different_kappas_'+ substances_names[experiment_name][component_nr]+'.png')"
   ]
  },
  {
   "cell_type": "markdown",
   "id": "8f313537",
   "metadata": {},
   "source": [
    "### Visualising results for different parameters, all components together"
   ]
  },
  {
   "cell_type": "code",
   "execution_count": null,
   "id": "c358777f",
   "metadata": {},
   "outputs": [],
   "source": [
    "if experiment_name == 'Saccharose hydrolysis with full mixture spectrum' or experiment_name == 'PMG 284 monitoring with full mixture spectrum':\n",
    "    fig, axs = plt.subplots(len(all_kappas), len(all_kappas_th), sharex='all')\n",
    "else:\n",
    "    fig, axs = plt.subplots(len(all_kappas), len(all_kappas_th), sharex='all', sharey='all')\n",
    "#fig.suptitle('Proportion of substrates and product', fontsize=50)\n",
    "fig.set_size_inches(30, 18, forward=True)\n",
    "\n",
    "ylims_dict_sacch_hydr_full_mix = {0.005: 0.05, 0.01: 0.05, 0.1: 0.21, 0.25: 0.63, 0.5:1.}\n",
    "ylims_dict_sacch_hydr_full_mix = {0.005: 0.05, 0.01: 0.05, 0.1: 0.21, 0.25: 0.63, 0.5:1.}\n",
    "\n",
    "\n",
    "fig.text(0.5, 0.92, 'Kappa components', ha='center', size=35)\n",
    "fig.text(0.06, 0.5, 'Kappa mixture', va='center', rotation='vertical', size=35)\n",
    "\n",
    "for i, ax in enumerate(axs):\n",
    "    kappa = all_kappas[i]\n",
    "    for j, axx in enumerate(ax):\n",
    "        kappa_th = all_kappas_th[j]\n",
    "        try:\n",
    "            y = results_dict[(kappa, kappa_th)]\n",
    "            for i in range(y.shape[1]):\n",
    "                if experiment_name == 'Saccharose hydrolysis with full mixture spectrum':\n",
    "                    axx.axis(ymin=0, ymax=ylims_dict_sacch_hydr_full_mix[kappa])\n",
    "                    axx.plot(time_range[experiment_name], y[:,i], 'p', markersize=5, \n",
    "                             label=substances_names[experiment_name][i],\n",
    "                            color=saturated_colors_for_components[experiment_name][i])\n",
    "                else:\n",
    "                    axx.plot(time_range[experiment_name], y[:,i], 'p', markersize=5, \n",
    "                             label=substances_names[experiment_name][i],\n",
    "                            color=saturated_colors_for_components[experiment_name][i])\n",
    "        except TypeError:\n",
    "            axx.plot(0,0)\n",
    "        except AttributeError:\n",
    "            axx.plot(0,0)\n",
    "        \n",
    "cols = [str(kappa_th) for kappa_th in all_kappas_th]\n",
    "rows = [str(kappa) for kappa in all_kappas]       \n",
    "\n",
    "for ax, col in zip(axs[0], cols):\n",
    "    ax.set_title(col, size=30)\n",
    "    if experiment_name == 'Saccharose hydrolysis with full mixture spectrum' or experiment_name == 'PMG 287 monitoring with full mixture spectrum' or experiment_name == 'PMG 284 monitoring with full mixture spectrum':\n",
    "        pass\n",
    "    else:\n",
    "        ax.set_ylim(0,1)\n",
    "\n",
    "for ax, col in zip(axs[-1], cols):\n",
    "    ax.set_xlabel('Time [min]', size=15)\n",
    "\n",
    "for ax, row in zip(axs[:,0], rows):\n",
    "    ax.set_ylabel(row, rotation=90, size=30)\n",
    "handles, labels = ax.get_legend_handles_labels()\n",
    "\n",
    "if experiment_name == 'Saccharose hydrolysis' or experiment_name == 'Saccharose hydrolysis with full mixture spectrum':\n",
    "    fig.legend(handles, labels, loc='upper right', prop={'size': 20}, markerscale=5)\n",
    "else:\n",
    "    fig.legend(handles, labels, loc='upper right', prop={'size': 25}, markerscale=5)\n",
    "#fig.savefig(results_paths[experiment_name]+'comparison_for_different_kappas_components_separately.png')"
   ]
  },
  {
   "cell_type": "markdown",
   "id": "85166898",
   "metadata": {},
   "source": [
    "### Visualising results for different parameters, all components together + integrals"
   ]
  },
  {
   "cell_type": "code",
   "execution_count": null,
   "id": "b75c8ec0",
   "metadata": {},
   "outputs": [],
   "source": [
    "# colors_list = ['#1f77b4', '#ff7f0e', '#2ca02c', '#d62728', '#9467bd', '#8c564b', '#e377c2',\n",
    "#              '#7f7f7f', '#bcbd22', '#17becf']\n",
    "\n",
    "ylims_dict_sacch_hydr_full_mix = {0.01: 0.05, 0.1: 0.21, 0.25: 0.63, 0.5:1.}\n",
    "\n",
    "python_or_mnova = 'Mnova'\n",
    "if python_or_mnova == 'Mnova':\n",
    "    integrals_proportions = mnova_integrals_proportions\n",
    "    time_range_integrals = time_range_integrals_mnova\n",
    "elif python_or_mnova == 'Python':\n",
    "    integrals_proportions = python_integrals_proportions\n",
    "    time_range_integrals = time_range_integrals_python\n",
    "\n",
    "if experiment_name == 'Saccharose hydrolysis with full mixture spectrum':\n",
    "    fig, axs = plt.subplots(len(all_kappas), len(all_kappas_th), sharex='all')\n",
    "else:\n",
    "    fig, axs = plt.subplots(len(all_kappas), len(all_kappas_th), sharex='all', sharey='all')\n",
    "fig.suptitle('Proportions of substrates and products', fontsize=80)\n",
    "fig.set_size_inches(40, 25, forward=True)\n",
    "\n",
    "fig.text(0.5, 0.92, 'Kappa components', ha='center', size=40)\n",
    "fig.text(0.06, 0.5, 'Kappa mixture', va='center', rotation='vertical', size=40)\n",
    "\n",
    "for i, ax in enumerate(axs):\n",
    "    kappa = all_kappas[i]\n",
    "    for j, axx in enumerate(ax):\n",
    "        kappa_th = all_kappas_th[j]\n",
    "        y = results_dict[(kappa, kappa_th)]\n",
    "        if experiment_name == 'Saccharose hydrolysis with full mixture spectrum':\n",
    "            pass\n",
    "        else:\n",
    "            for i in range(integrals_proportions.shape[1]):\n",
    "                axx.plot(time_range_integrals[experiment_name], integrals_proportions[:,i], 'p', \n",
    "                         markersize=5, label=python_or_mnova + ' normalized integral for ' + substances_names[experiment_name][i],\n",
    "                         color=colors_for_components[experiment_name][i]\n",
    "                         #alpha=0.1\n",
    "                        )\n",
    "        for i in range(y.shape[1]):\n",
    "            if experiment_name == 'Saccharose hydrolysis with full mixture spectrum':\n",
    "                axx.axis(ymin=0, ymax=ylims_dict_sacch_hydr_full_mix[kappa])\n",
    "                axx.plot(time_range[experiment_name], y[:,i], 'p', markersize=5, \n",
    "                        label=substances_names[experiment_name][i],\n",
    "                        color=saturated_colors_for_components[experiment_name][i])\n",
    "            else:\n",
    "                axx.plot(time_range[experiment_name], y[:,i], 'p', markersize=5, \n",
    "                         label=substances_names[experiment_name][i],\n",
    "                        color=saturated_colors_for_components[experiment_name][i])\n",
    "            axx.tick_params(axis='both', which='major', labelsize=20)\n",
    "\n",
    "\n",
    "#         except AttributeError:\n",
    "#             axx.plot(0,0)\n",
    "        \n",
    "cols = [str(kappa_th) for kappa_th in all_kappas_th]\n",
    "rows = [str(kappa) for kappa in all_kappas]       \n",
    "\n",
    "for ax, col in zip(axs[0], cols):\n",
    "    ax.set_title(col, size=40)\n",
    "    if experiment_name == 'Saccharose hydrolysis with full mixture spectrum' or experiment_name == 'PMG 287 monitoring with full mixture spectrum':\n",
    "        pass\n",
    "    else:\n",
    "        ax.set_ylim(0,1)\n",
    "    \n",
    "for ax, col in zip(axs[-1], cols):\n",
    "    ax.set_xlabel('Time [min]', size=20)\n",
    "\n",
    "for ax, row in zip(axs[:,0], rows):\n",
    "    ax.set_ylabel(row, rotation=90, size=40)\n",
    "handles, labels = ax.get_legend_handles_labels()\n",
    "\n",
    "legend = fig.legend(handles, labels, loc='upper right', prop={'size': 30}, markerscale=5)\n",
    "\n",
    "# for lh in legend.legendHandles[i+1:]: \n",
    "#     lh.set_alpha(0.5)\n",
    "\n",
    "# if experiment_name == 'Saccharose hydrolysis with full mixture spectrum':\n",
    "#     fig.savefig(results_paths[experiment_name] +\n",
    "#                                         'comparison_for_different_kappas_components_separately.png')\n",
    "\n",
    "# else:\n",
    "#     fig.savefig(results_paths[experiment_name] +\n",
    "#                                         'comparison_for_different_kappas_components_separately_plus_integrals_' +\n",
    "#                                         python_or_mnova +\n",
    "#                                         '.png')"
   ]
  },
  {
   "cell_type": "markdown",
   "id": "03bdfa6f",
   "metadata": {},
   "source": [
    "### Single plot magnetstein + integral (chosen values of parameters)"
   ]
  },
  {
   "cell_type": "code",
   "execution_count": null,
   "id": "7976b8c3",
   "metadata": {},
   "outputs": [],
   "source": [
    "# saccharose: anything works, PMG 284: anything works, PMG 287: 0.1, 1\n",
    "best_kappa = 0.5\n",
    "best_kappa_th = 0.5"
   ]
  },
  {
   "cell_type": "code",
   "execution_count": null,
   "id": "ae901985",
   "metadata": {},
   "outputs": [],
   "source": [
    "with open(results_paths[experiment_name]+'proportions_in_times_'+str(best_kappa)+'_'+str(best_kappa_th)+'.pkl', 'rb') as f:\n",
    "    y = pickle.load(f)\n",
    "    y = np.array(y)"
   ]
  },
  {
   "cell_type": "code",
   "execution_count": null,
   "id": "f1409bb3",
   "metadata": {},
   "outputs": [],
   "source": [
    "# colors_list = ['#1f77b4', '#ff7f0e', '#2ca02c', '#d62728', '#9467bd', '#8c564b', '#e377c2',\n",
    "#              '#7f7f7f', '#bcbd22', '#17becf']\n",
    "\n",
    "include_ticks = True\n",
    "\n",
    "ylims_dict_sacch_hydr_full_mix = {0.01: 0.05, 0.1: 0.21, 0.25: 0.63, 0.5:1.}\n",
    "\n",
    "python_or_mnova = 'Mnova'\n",
    "if python_or_mnova == 'Mnova':\n",
    "    integrals_proportions = mnova_integrals_proportions\n",
    "    time_range_integrals = time_range_integrals_mnova\n",
    "elif python_or_mnova == 'Python':\n",
    "    integrals_proportions = python_integrals_proportions\n",
    "    time_range_integrals = time_range_integrals_python\n",
    "\n",
    "include_integrals = True\n",
    "if include_integrals:\n",
    "    for i in range(integrals_proportions.shape[1]):\n",
    "        plt.plot(time_range_integrals[experiment_name], integrals_proportions[:,i], 'p', \n",
    "                 markersize=5, label=python_or_mnova + ' integration, ' + substances_names[experiment_name][i],\n",
    "                 color = colors_for_components[experiment_name][i]\n",
    "                 #alpha=0.1\n",
    "                )\n",
    "for i in range(y.shape[1]):\n",
    "    if experiment_name == 'Saccharose hydrolysis with full mixture spectrum':\n",
    "        plt.plot(time_range[experiment_name], y[:, i], 'p', \n",
    "                 label = 'Magnetstein, ' + substances_names[experiment_name][i],\n",
    "                color=saturated_colors_for_components[experiment_name][i])\n",
    "        plt.ylim(0, ylims_dict_sacch_hydr_full_mix[best_kappa])\n",
    "    else:\n",
    "        plt.plot(time_range[experiment_name], y[:, i], 'p', \n",
    "                 label = 'Magnetstein, ' + substances_names[experiment_name][i],\n",
    "                color=saturated_colors_for_components[experiment_name][i])\n",
    "        if experiment_name == 'PMG 287 monitoring with full mixture spectrum':\n",
    "            plt.ylim(0, 0.4)\n",
    "        else:\n",
    "            plt.ylim(0,1)\n",
    "\n",
    "if include_ticks:\n",
    "    plt.xlabel('Time [min]', size=15)\n",
    "    plt.ylabel('Proportion', size=15)\n",
    "    plt.xticks(fontsize=12)\n",
    "    plt.yticks(fontsize=12)\n",
    "else:\n",
    "    plt.xlabel('Time', size=15)\n",
    "    plt.xticks([])\n",
    "    plt.yticks([])\n",
    "    \n",
    "leg = plt.legend(title='Method, substance')    \n",
    "plt.gcf().set_size_inches(10, 5)\n",
    "\n",
    "# for lh in leg.legendHandles[:y.shape[1]]: \n",
    "#     lh.set_alpha(0.4)\n",
    "\n",
    "# if include_ticks:\n",
    "#     plt.savefig(results_paths[experiment_name]+'all_components_on_one_plot_plus_integrals_'+\n",
    "#                                                         python_or_mnova +\n",
    "#                                                         '_kappa_' +\n",
    "#                                                     str(best_kappa)+'_kappa_th_' + \n",
    "#                                                     str(best_kappa_th) +'.png', dpi=300)\n",
    "# else:\n",
    "#     plt.savefig(results_paths[experiment_name]+'all_components_on_one_plot_plus_integrals_'+\n",
    "#                                                         python_or_mnova +\n",
    "#                                                         '_kappa_' +\n",
    "#                                                     str(best_kappa)+'_kappa_th_' + \n",
    "#                                                     str(best_kappa_th) +'_no_labels.png', dpi=300)"
   ]
  },
  {
   "cell_type": "markdown",
   "id": "276e8b89",
   "metadata": {},
   "source": [
    "### Single plot for magnetstein (for chosen values of parameters)"
   ]
  },
  {
   "cell_type": "code",
   "execution_count": null,
   "id": "e4d874a0",
   "metadata": {},
   "outputs": [],
   "source": [
    "# saccharose, PMG 284, PMG 287: anything works\n",
    "best_kappa = 0.5\n",
    "best_kappa_th = 0.5"
   ]
  },
  {
   "cell_type": "code",
   "execution_count": null,
   "id": "bd99eae9",
   "metadata": {},
   "outputs": [],
   "source": [
    "with open(results_paths[experiment_name]+'proportions_in_times_'+str(best_kappa)+'_'+str(best_kappa_th)+'.pkl', 'rb') as f:\n",
    "    y = pickle.load(f)\n",
    "    y = np.array(y)"
   ]
  },
  {
   "cell_type": "code",
   "execution_count": null,
   "id": "f90435ab",
   "metadata": {},
   "outputs": [],
   "source": [
    "# colors_list = ['#1f77b4', '#ff7f0e', '#2ca02c', '#d62728', '#9467bd', '#8c564b', '#e377c2',\n",
    "#              '#7f7f7f', '#bcbd22', '#17becf']\n",
    "\n",
    "for i in range(y.shape[1]):\n",
    "    if experiment_name == 'Saccharose hydrolysis with full mixture spectrum':\n",
    "        plt.plot(time_range[experiment_name], y[:, i], 'p', \n",
    "                 label = 'Magnetstein, ' + substances_names[experiment_name][i],\n",
    "                color=saturated_colors_for_components[experiment_name][i])\n",
    "    else:\n",
    "        plt.plot(time_range[experiment_name], y[:, i], 'p', \n",
    "                 label = 'Magnetstein, ' + substances_names[experiment_name][i],\n",
    "                color=saturated_colors_for_components[experiment_name][i])\n",
    "\n",
    "plt.xlabel('Time', size=15)\n",
    "plt.ylabel('Relative amount', size=15)\n",
    "# plt.xticks([])\n",
    "# plt.yticks([])\n",
    " \n",
    "plt.gcf().set_size_inches(10, 5)\n",
    "\n",
    "# for lh in leg.legendHandles[:y.shape[1]]: \n",
    "#     lh.set_alpha(0.4)\n",
    "\n",
    "# plt.savefig(results_paths[experiment_name]+'all_components_on_one_plot_magnetstein_only'+\n",
    "#                                                     '_kappa_' +\n",
    "#                                                 str(best_kappa)+'_kappa_th_' + \n",
    "#                                                 str(best_kappa_th) +'.png', dpi=300)"
   ]
  },
  {
   "cell_type": "markdown",
   "id": "3bdd9fe1",
   "metadata": {},
   "source": [
    "### Single plot magnetstein + MNova + Python (chosen values of parameters)"
   ]
  },
  {
   "cell_type": "code",
   "execution_count": null,
   "id": "ff054266",
   "metadata": {},
   "outputs": [],
   "source": [
    "# saccharose: anything works, PMG 284: anything works, PMG 287: 0.1, 1\n",
    "best_kappa = 0.5\n",
    "best_kappa_th = 0.5"
   ]
  },
  {
   "cell_type": "code",
   "execution_count": null,
   "id": "79523293",
   "metadata": {},
   "outputs": [],
   "source": [
    "with open(results_paths[experiment_name]+'proportions_in_times_'+str(best_kappa)+'_'+str(best_kappa_th)+'.pkl', 'rb') as f:\n",
    "    y = pickle.load(f)\n",
    "    y = np.array(y)"
   ]
  },
  {
   "cell_type": "code",
   "execution_count": null,
   "id": "1b8560d5",
   "metadata": {},
   "outputs": [],
   "source": [
    "#%matplotlib notebook"
   ]
  },
  {
   "cell_type": "code",
   "execution_count": null,
   "id": "822bda1c",
   "metadata": {},
   "outputs": [],
   "source": [
    "include_integrals = True\n",
    "if include_integrals:\n",
    "    for i in range(mnova_integrals_proportions.shape[1]):\n",
    "        plt.plot(time_range_integrals_mnova[experiment_name], mnova_integrals_proportions[:,i], 'p', \n",
    "                 markersize=5, label='MNova integration, ' + substances_names[experiment_name][i],\n",
    "                 color = colors_for_components[experiment_name][i]\n",
    "                 #alpha=0.1\n",
    "                )\n",
    "    for i in range(python_integrals_proportions.shape[1]):\n",
    "        plt.plot(time_range_integrals_python[experiment_name], python_integrals_proportions[:,i], 'v', \n",
    "                 markersize=5, label='Python integration, ' + substances_names[experiment_name][i],\n",
    "                 color = colors_for_components[experiment_name][i]\n",
    "                 #alpha=0.1\n",
    "                )\n",
    "for i in range(y.shape[1]):\n",
    "    plt.plot(time_range[experiment_name], y[:, i], 'p', \n",
    "             label = 'Magnetstein, ' + substances_names[experiment_name][i],\n",
    "            color=saturated_colors_for_components[experiment_name][i])\n",
    "\n",
    "    plt.title('Proportions in time')\n",
    "    \n",
    "plt.xlabel('Time [min]')\n",
    "    \n",
    "if experiment_name == 'PMG 287 monitoring with full mixture spectrum':\n",
    "    plt.ylim(0, 0.4)\n",
    "else:\n",
    "    plt.ylim(0,1)\n",
    "    \n",
    "leg = plt.legend(title='Method, substance')    \n",
    "# for lh in leg.legendHandles[:y.shape[1]]: \n",
    "#     lh.set_alpha(0.4)\n",
    "plt.gcf().set_size_inches(10, 5)\n",
    "# plt.savefig(results_paths[experiment_name]+'all_components_on_one_plot_plus_integrals_MNova_Python'+\n",
    "#                                                     '_kappa_' +\n",
    "#                                                 str(best_kappa)+'_kappa_th_' + \n",
    "#                                                 str(best_kappa_th) +'.png')"
   ]
  },
  {
   "cell_type": "markdown",
   "id": "538a6857",
   "metadata": {},
   "source": [
    "### Integral only"
   ]
  },
  {
   "cell_type": "code",
   "execution_count": null,
   "id": "aa3ddb82",
   "metadata": {},
   "outputs": [],
   "source": [
    "# colors_list = ['#1f77b4', '#ff7f0e', '#2ca02c', '#d62728', '#9467bd', '#8c564b', '#e377c2',\n",
    "#              '#7f7f7f', '#bcbd22', '#17becf']\n",
    "\n",
    "python_or_mnova = 'Mnova'\n",
    "if python_or_mnova == 'Mnova':\n",
    "    integrals_proportions = mnova_integrals_proportions\n",
    "    time_range_integrals = time_range_integrals_mnova\n",
    "elif python_or_mnova == 'Python':\n",
    "    integrals_proportions = python_integrals_proportions\n",
    "    time_range_integrals = time_range_integrals_python\n",
    "\n",
    "    \n",
    "for i in range(integrals_proportions.shape[1]):\n",
    "    plt.plot(time_range_integrals[experiment_name], integrals_proportions[:,i], 'p', \n",
    "             markersize=5, label=python_or_mnova + ' normalized integral for ' + substances_names[experiment_name][i],\n",
    "             color = colors_for_components[experiment_name][i]#, alpha=0.03\n",
    "            )\n",
    "\n",
    "plt.title('Proportions in time')\n",
    "\n",
    "plt.xlabel('Time [min]')\n",
    "    \n",
    "#plt.ylim(0,1)\n",
    "    \n",
    "leg = plt.legend()    \n",
    "\n",
    "plt.gcf().set_size_inches(10, 5)\n",
    "# plt.savefig(results_paths[experiment_name]+'all_components_integrals_on_one_plot_plus_integrals_' +\n",
    "#                                                     python_or_mnova +\n",
    "#                                                     '_kappa' +\n",
    "#                                                 str(best_kappa)+'_kappa_th_' + \n",
    "#                                                 str(best_kappa_th) +'.png')"
   ]
  },
  {
   "cell_type": "markdown",
   "id": "e4b36fc1",
   "metadata": {},
   "source": [
    "### Visualising results for different parameters, all components added + integrals"
   ]
  },
  {
   "cell_type": "code",
   "execution_count": null,
   "id": "caf92e27",
   "metadata": {},
   "outputs": [],
   "source": [
    "components_numbers = [0]\n",
    "product_numbers = [1,2]\n",
    "\n",
    "python_or_mnova = 'Mnova'\n",
    "if python_or_mnova == 'Mnova':\n",
    "    integrals_proportions = mnova_integrals_proportions\n",
    "    time_range_integrals = time_range_integrals_mnova\n",
    "elif python_or_mnova == 'Python':\n",
    "    integrals_proportions = python_integrals_proportions\n",
    "    time_range_integrals = time_range_integrals_python\n",
    "\n",
    "colors_list = ['grey', 'purple']\n",
    "\n",
    "fig, axs = plt.subplots(len(all_kappas), len(all_kappas_th), sharex='all', sharey='all')\n",
    "fig.suptitle('Proportion of substrates and product', fontsize=50)\n",
    "fig.set_size_inches(40, 25, forward=True)\n",
    "\n",
    "fig.text(0.5, 0.92, 'Kappa components', ha='center', size=25)\n",
    "fig.text(0.06, 0.5, 'Kappa mixture', va='center', rotation='vertical', size=25)\n",
    "\n",
    "for i, ax in enumerate(axs):\n",
    "    kappa = all_kappas[i]\n",
    "    for j, axx in enumerate(ax):\n",
    "        kappa_th = all_kappas_th[j]\n",
    "\n",
    "        #components\n",
    "        y = 0\n",
    "        for nr in components_numbers:\n",
    "            y = y + results_dict[(kappa, kappa_th)][:, nr]\n",
    "        axx.plot(time_range[experiment_name], y, 'p', markersize=5,\n",
    "                label='substrates',\n",
    "                    color = colors_list[0])\n",
    "        #product\n",
    "        y = 0\n",
    "        for nr in product_numbers:\n",
    "            y = y + results_dict[(kappa, kappa_th)][:, nr]\n",
    "        axx.plot(time_range[experiment_name], y, 'p', markersize=5,\n",
    "                label='product',\n",
    "                    color = colors_list[1])\n",
    "        y = results_dict[(kappa, kappa_th)]\n",
    "        axx.plot(time_range_integrals[experiment_name], integrals_proportions[:,components_numbers].sum(axis=1), 'p', \n",
    "                     markersize=5, label=python_or_mnova + ' normalized integral for substrates',\n",
    "                     color = colors_list[0], alpha=0.03\n",
    "                    )\n",
    "        axx.plot(time_range_integrals[experiment_name], integrals_proportions[:,product_numbers].sum(axis=1), 'p', \n",
    "                     markersize=5, label=python_or_mnova + ' normalized integral for products',\n",
    "                     color = colors_list[1], alpha=0.03\n",
    "                    )\n",
    "        \n",
    "cols = [str(kappa_th) for kappa_th in all_kappas_th]\n",
    "rows = [str(kappa) for kappa in all_kappas]       \n",
    "\n",
    "for ax, col in zip(axs[0], cols):\n",
    "    ax.set_title(col, size=20)\n",
    "    ax.set_ylim(0,1)\n",
    "    \n",
    "for ax, col in zip(axs[-1], cols):\n",
    "    ax.set_xlabel('Time [min]', size=10)\n",
    "\n",
    "for ax, row in zip(axs[:,0], rows):\n",
    "    ax.set_ylabel(row, rotation=90, size=20)\n",
    "handles, labels = ax.get_legend_handles_labels()\n",
    "\n",
    "legend = fig.legend(handles, labels, loc='upper right', prop={'size': 25}, markerscale=5)\n",
    "\n",
    "#fig.savefig(results_paths[experiment_name]+\n",
    "#                 'comparison_for_different_kappas_components_together_plus_integrals_' +\n",
    "#                 python_or_mnova + \n",
    "#                 '.png')"
   ]
  },
  {
   "cell_type": "markdown",
   "id": "40725a43",
   "metadata": {},
   "source": [
    "### Components together"
   ]
  },
  {
   "cell_type": "code",
   "execution_count": null,
   "id": "11dc9e5b",
   "metadata": {},
   "outputs": [],
   "source": [
    "components_numbers = [0]\n",
    "lin_regr = False"
   ]
  },
  {
   "cell_type": "code",
   "execution_count": null,
   "id": "0f29bead",
   "metadata": {},
   "outputs": [],
   "source": [
    "names = [substances_names[experiment_name][nr] for nr in components_numbers]\n",
    "\n",
    "fig, axs = plt.subplots(len(all_kappas), len(all_kappas_th), sharex='all', sharey='all')\n",
    "fig.suptitle('Added proportion of components: ' + str(names), fontsize=50)\n",
    "fig.set_size_inches(30, 18, forward=True)\n",
    "\n",
    "fig.text(0.5, 0.92, 'Kappa components', ha='center', size=25)\n",
    "fig.text(0.06, 0.5, 'Kappa mixture', va='center', rotation='vertical', size=25)\n",
    "\n",
    "for i, ax in enumerate(axs):\n",
    "    kappa = all_kappas[i]\n",
    "    for j, axx in enumerate(ax):\n",
    "        kappa_th = all_kappas_th[j]\n",
    "        try:\n",
    "            y = 0\n",
    "            for nr in components_numbers:\n",
    "                y = y + results_dict[(kappa, kappa_th)][:, nr]\n",
    "            axx.plot(time_range[experiment_name], y, 'p', markersize=5,\n",
    "                    color='grey')\n",
    "\n",
    "            if lin_regr:\n",
    "                t = np.array(time_range[experiment_name])\n",
    "                t_and_ones = np.vstack([t, np.ones(len(t))]).T\n",
    "                slope, intercept = np.linalg.lstsq(t_and_ones, y)[0]\n",
    "                slope, intercept = np.linalg.lstsq(t_and_ones, y)[0]\n",
    "                axx.plot(time_range[experiment_name], slope*t+intercept, linewidth=2.5)\n",
    "        except TypeError:\n",
    "            axx.plot(0,0)\n",
    "        \n",
    "cols = [str(kappa_th) for kappa_th in all_kappas_th]\n",
    "rows = [str(kappa) for kappa in all_kappas]       \n",
    "\n",
    "for ax, col in zip(axs[0], cols):\n",
    "    ax.set_title(col, size=20)\n",
    "    ax.set_ylim(0,1)\n",
    "    \n",
    "for ax, col in zip(axs[-1], cols):\n",
    "    ax.set_xlabel('Time [min]', size=10)\n",
    "\n",
    "for ax, row in zip(axs[:,0], rows):\n",
    "    ax.set_ylabel(row, rotation=90, size=20)\n",
    "#fig.savefig(results_paths[experiment_name]+'comparison_for_different_kappas_sum_of_components_' +\n",
    "#                                                   str(names) +'.png')"
   ]
  },
  {
   "cell_type": "markdown",
   "id": "2440ca6e",
   "metadata": {},
   "source": [
    "### Single plot for chosen values of parameters"
   ]
  },
  {
   "cell_type": "markdown",
   "id": "d5011180",
   "metadata": {},
   "source": [
    "#### Components separately"
   ]
  },
  {
   "cell_type": "code",
   "execution_count": null,
   "id": "76808443",
   "metadata": {},
   "outputs": [],
   "source": [
    "best_kappa = 0.5\n",
    "best_kappa_th = 0.5"
   ]
  },
  {
   "cell_type": "code",
   "execution_count": null,
   "id": "1b9faf7d",
   "metadata": {},
   "outputs": [],
   "source": [
    "with open(results_paths[experiment_name]+'proportions_in_times_'+str(best_kappa)+'_'+str(best_kappa_th)+'.pkl', 'rb') as f:\n",
    "    y = pickle.load(f)\n",
    "    y = np.array(y)"
   ]
  },
  {
   "cell_type": "code",
   "execution_count": null,
   "id": "1054cfd3",
   "metadata": {},
   "outputs": [],
   "source": [
    "component_nr = 2\n",
    "lin_regr = False"
   ]
  },
  {
   "cell_type": "code",
   "execution_count": null,
   "id": "94c5d214",
   "metadata": {},
   "outputs": [],
   "source": [
    "plt.plot(time_range[experiment_name], y[:, component_nr], 'p',\n",
    "        color = saturated_colors_for_components[experiment_name][component_nr])\n",
    "if lin_regr:\n",
    "    t = np.array(time_range[experiment_name])\n",
    "    t_and_ones = np.vstack([t, np.ones(len(t))]).T\n",
    "    slope, intercept = np.linalg.lstsq(t_and_ones, y[:, component_nr])[0]\n",
    "    plt.plot(time_range[experiment_name], slope*t+intercept)\n",
    "#plt.title('Proportion of '+substances_names[experiment_name][component_nr])\n",
    "plt.title('Proportion of ' + substances_names[experiment_name][component_nr])\n",
    "\n",
    "for ax, col in zip(axs[-1], cols):\n",
    "    plt.xlabel('Time [min]')"
   ]
  },
  {
   "cell_type": "markdown",
   "id": "fecbd0bd",
   "metadata": {},
   "source": [
    "#### Components added together"
   ]
  },
  {
   "cell_type": "code",
   "execution_count": null,
   "id": "5ecbda9b",
   "metadata": {},
   "outputs": [],
   "source": [
    "best_kappa = 0.5\n",
    "best_kappa_th = 0.5"
   ]
  },
  {
   "cell_type": "code",
   "execution_count": null,
   "id": "7ae78565",
   "metadata": {},
   "outputs": [],
   "source": [
    "component_numbers = [0]\n",
    "lin_regr = False"
   ]
  },
  {
   "cell_type": "code",
   "execution_count": null,
   "id": "45d57cd9",
   "metadata": {},
   "outputs": [],
   "source": [
    "with open(results_paths[experiment_name]+'proportions_in_times_'+str(best_kappa)+'_'+str(best_kappa_th)+'.pkl', 'rb') as f:\n",
    "    y = pickle.load(f)\n",
    "    y = np.array(y)"
   ]
  },
  {
   "cell_type": "code",
   "execution_count": null,
   "id": "f3f3892f",
   "metadata": {},
   "outputs": [],
   "source": [
    "plt.plot(time_range[experiment_name], y[:,component_numbers].sum(1), 'p',\n",
    "        color='grey')\n",
    "if lin_regr:\n",
    "    t = np.array(time_range[experiment_name])\n",
    "    t_and_ones = np.vstack([t, np.ones(len(t))]).T\n",
    "    slope, intercept = np.linalg.lstsq(t_and_ones, y[:, component_nr])[0]\n",
    "    plt.plot(time_range[experiment_name], slope*t+intercept)\n",
    "plt.title('Proportion of components: ' + str(component_numbers))\n",
    "\n",
    "for ax, col in zip(axs[-1], cols):\n",
    "    plt.xlabel('Time [min]')\n",
    "#plt.ylim(0.5,1)"
   ]
  },
  {
   "cell_type": "markdown",
   "id": "82f1c79e",
   "metadata": {},
   "source": [
    "#### Noise proportion"
   ]
  },
  {
   "cell_type": "code",
   "execution_count": null,
   "id": "0596a6d0",
   "metadata": {},
   "outputs": [],
   "source": [
    "best_kappa = 0.5\n",
    "best_kappa_th = 0.5"
   ]
  },
  {
   "cell_type": "code",
   "execution_count": null,
   "id": "7d667ee8",
   "metadata": {},
   "outputs": [],
   "source": [
    "with open(results_paths[experiment_name]+'proportions_in_times_'+str(best_kappa)+'_'+str(best_kappa_th)+'.pkl', 'rb') as f:\n",
    "    y = pickle.load(f)\n",
    "    y = np.array(y)"
   ]
  },
  {
   "cell_type": "code",
   "execution_count": null,
   "id": "09a2a7a1",
   "metadata": {},
   "outputs": [],
   "source": [
    "plt.plot(time_range[experiment_name], 1-y.sum(axis=1), 'p',\n",
    "        color='grey')\n",
    "plt.title('Proportion of noise in mixture')\n",
    "\n",
    "for ax, col in zip(axs[-1], cols):\n",
    "    plt.xlabel('Time [min]')"
   ]
  },
  {
   "cell_type": "markdown",
   "id": "19fa9560",
   "metadata": {},
   "source": [
    "Another way:"
   ]
  },
  {
   "cell_type": "code",
   "execution_count": null,
   "id": "94b5e6ff",
   "metadata": {},
   "outputs": [],
   "source": [
    "with open(results_paths[experiment_name]+'noise_'+str(best_kappa)+'_'+str(best_kappa_th)+'.pkl', 'rb') as f:\n",
    "    y = pickle.load(f)\n",
    "    y = [sum(l) for l in y]"
   ]
  },
  {
   "cell_type": "code",
   "execution_count": null,
   "id": "9d0948d6",
   "metadata": {},
   "outputs": [],
   "source": [
    "plt.plot(time_range[experiment_name], y, 'p',\n",
    "        color='grey')\n",
    "plt.title('Proportion of noise in mixture')\n",
    "for ax, col in zip(axs[-1], cols):\n",
    "    plt.xlabel('Time [min]')"
   ]
  },
  {
   "cell_type": "markdown",
   "id": "3a6ab8b0",
   "metadata": {},
   "source": [
    "#### Product and substrates together"
   ]
  },
  {
   "cell_type": "code",
   "execution_count": null,
   "id": "0a1419fb",
   "metadata": {},
   "outputs": [],
   "source": [
    "best_kappa = 0.5\n",
    "best_kappa_th = 0.5"
   ]
  },
  {
   "cell_type": "code",
   "execution_count": null,
   "id": "736a6993",
   "metadata": {},
   "outputs": [],
   "source": [
    "component_numbers = [0]\n",
    "product_numbers = [1, 2]\n",
    "lin_regr = False"
   ]
  },
  {
   "cell_type": "code",
   "execution_count": null,
   "id": "62f2c55e",
   "metadata": {},
   "outputs": [],
   "source": [
    "with open(results_paths[experiment_name]+'proportions_in_times_'+str(best_kappa)+'_'+str(best_kappa_th)+'.pkl', 'rb') as f:\n",
    "    y = pickle.load(f)\n",
    "    y = np.array(y)"
   ]
  },
  {
   "cell_type": "code",
   "execution_count": null,
   "id": "d04ce42f",
   "metadata": {},
   "outputs": [],
   "source": [
    "#Version when we don't have spectrum of product (i.e. we assume that noise in mixture is product)\n",
    "\n",
    "colors_list = ['grey', 'purple']\n",
    "\n",
    "python_or_mnova = 'Python'\n",
    "if python_or_mnova == 'Mnova':\n",
    "    integrals_proportions = mnova_integrals_proportions\n",
    "    time_range_integrals = time_range_integrals_mnova\n",
    "elif python_or_mnova == 'Python':\n",
    "    integrals_proportions = python_integrals_proportions\n",
    "    time_range_integrals = time_range_integrals_python\n",
    "\n",
    "include_integrals = True\n",
    "if include_integrals:\n",
    "    plt.plot(time_range_integrals[experiment_name], integrals_proportions[:,component_numbers].sum(axis=1), 'p', \n",
    "                 markersize=5, label=python_or_mnova + ' normalized integral for substartes',\n",
    "                 color = colors_list[0], alpha=0.03\n",
    "                )\n",
    "    plt.plot(time_range_integrals[experiment_name], integrals_proportions[:,product_numbers].sum(axis=1), 'p', \n",
    "                 markersize=5, label=python_or_mnova + ' normalized integral for products',\n",
    "                 color = colors_list[1], alpha=0.03\n",
    "                )\n",
    "\n",
    "plt.plot(time_range[experiment_name], y[:,component_numbers].sum(1), 'p', label='Substrates', color = colors_list[0])\n",
    "plt.plot(time_range[experiment_name], y[:,product_numbers].sum(1), 'p', label='Product', color = colors_list[1])\n",
    "\n",
    "plt.ylim(0,1)\n",
    "#plt.plot(list(range(y.shape[0]*10))[::10], 1-y.sum(axis=1), 'p', label='Product')\n",
    "\n",
    "#leg = plt.legend(loc='center left', bbox_to_anchor=(1, 0.5))    \n",
    "leg = plt.legend(loc='upper left', prop = {\"size\": 7})    \n",
    "\n",
    "plt.gcf().set_size_inches(10, 5)\n",
    "\n",
    "plt.title('Proportion of substrates/product in time')\n",
    "\n",
    "for ax, col in zip(axs[-1], cols):\n",
    "    plt.xlabel('Time [min]')\n",
    "        \n",
    "#plt.savefig(results_paths[experiment_name]+\n",
    "#                             'substrates_and_product_together_plus_integrals_' + \n",
    "#                             python_or_mnova + \n",
    "#                             '_kappa_' + \n",
    "#                             str(best_kappa) +\n",
    "#                             '_kappa_th_' +\n",
    "#                             str(best_kappa_th)\n",
    "#                             +'.png')"
   ]
  },
  {
   "cell_type": "code",
   "execution_count": null,
   "id": "774e3c09",
   "metadata": {},
   "outputs": [],
   "source": [
    "#Version when we have spectrum of product\n",
    "\n",
    "colors_list = ['grey', 'purple']\n",
    "\n",
    "#Below: version with rescaled time (every 10th measurement was checked)\n",
    "plt.plot(time_range[experiment_name], y[:,component_numbers].sum(1), 'p', label='Substrates',\n",
    "        color=colors_list[0])\n",
    "#plt.ylim(0.5,1)\n",
    "plt.plot(time_range[experiment_name], y[:,product_numbers].sum(1), 'p', label='Product',\n",
    "        color=colors_list[1])\n",
    "plt.title('Proportion of substrates/product in time')\n",
    "\n",
    "for ax, col in zip(axs[-1], cols):\n",
    "    plt.xlabel('Time [min]')\n",
    "        \n",
    "plt.legend()\n",
    "# plt.savefig(results_paths[experiment_name]+'substrates_and_product_together_' + str(best_kappa) +'_'+str(best_kappa_th)+'.png')"
   ]
  },
  {
   "cell_type": "markdown",
   "id": "e5972148",
   "metadata": {},
   "source": [
    "### Noise in components"
   ]
  },
  {
   "cell_type": "code",
   "execution_count": null,
   "id": "59c49d8c",
   "metadata": {},
   "outputs": [],
   "source": [
    "best_kappa = 0.5\n",
    "best_kappa_th = 0.5"
   ]
  },
  {
   "cell_type": "code",
   "execution_count": null,
   "id": "02532ca1",
   "metadata": {},
   "outputs": [],
   "source": [
    "with open(results_paths[experiment_name]+'noise_proportions_in_times_'+str(best_kappa)+'_'+str(best_kappa_th)+'.pkl', 'rb') as f:\n",
    "    y = pickle.load(f)\n",
    "    y = np.array(y)"
   ]
  },
  {
   "cell_type": "code",
   "execution_count": null,
   "id": "695b4e8d",
   "metadata": {},
   "outputs": [],
   "source": [
    "plt.plot(time_range[experiment_name], y, 'p', \n",
    "        color='grey')\n",
    "plt.title('Proportion of noise in components')\n",
    "\n",
    "for ax, col in zip(axs[-1], cols):\n",
    "    plt.xlabel('Time [min]')"
   ]
  },
  {
   "cell_type": "markdown",
   "id": "929947ed",
   "metadata": {},
   "source": [
    "### Noise proportion"
   ]
  },
  {
   "cell_type": "code",
   "execution_count": null,
   "id": "a821ac4e",
   "metadata": {},
   "outputs": [],
   "source": [
    "components_numbers = list(range(len(substances_names[experiment_name])))\n",
    "lin_regr = False"
   ]
  },
  {
   "cell_type": "code",
   "execution_count": null,
   "id": "6623ceae",
   "metadata": {},
   "outputs": [],
   "source": [
    "names = [substances_names[experiment_name][nr] for nr in components_numbers]\n",
    "\n",
    "fig, axs = plt.subplots(len(all_kappas), len(all_kappas_th), sharex='all', sharey='all')\n",
    "fig.suptitle('Proportion of signal removed from mixture', fontsize=50)\n",
    "fig.set_size_inches(30, 18, forward=True)\n",
    "\n",
    "fig.text(0.5, 0.92, 'Kappa components', ha='center', size=25)\n",
    "fig.text(0.06, 0.5, 'Kappa mixture', va='center', rotation='vertical', size=25)\n",
    "\n",
    "for i, ax in enumerate(axs):\n",
    "    kappa = all_kappas[i]\n",
    "    for j, axx in enumerate(ax):\n",
    "        kappa_th = all_kappas_th[j]\n",
    "        try:\n",
    "            y = 1\n",
    "            for nr in components_numbers:\n",
    "                y = y - results_dict[(kappa, kappa_th)][:, nr]\n",
    "            axx.plot(time_range[experiment_name], y, 'p', markersize=5,\n",
    "                    color='grey')\n",
    "            if lin_regr:\n",
    "                t = np.array(time_range[experiment_name])\n",
    "                t_and_ones = np.vstack([t, np.ones(len(t))]).T\n",
    "                slope, intercept = np.linalg.lstsq(t_and_ones, y)[0]\n",
    "                slope, intercept = np.linalg.lstsq(t_and_ones, y)[0]\n",
    "                axx.plot(time_range[experiment_name], slope*t+intercept, linewidth=2.5)\n",
    "        except TypeError:\n",
    "            axx.plot(0,0)\n",
    "        \n",
    "cols = [str(kappa_th) for kappa_th in all_kappas_th]\n",
    "rows = [str(kappa) for kappa in all_kappas]       \n",
    "\n",
    "for ax, col in zip(axs[0], cols):\n",
    "    ax.set_title(col, size=20)\n",
    "    ax.set_ylim(0,1)\n",
    "    \n",
    "for ax, col in zip(axs[-1], cols):\n",
    "    ax.set_xlabel('Time [min]', size=10)\n",
    "\n",
    "for ax, row in zip(axs[:,0], rows):\n",
    "    ax.set_ylabel(row, rotation=90, size=20)\n",
    "#fig.savefig(results_paths[experiment_name]+'proportion_of_removed_signal.png')"
   ]
  },
  {
   "cell_type": "markdown",
   "id": "c543c086",
   "metadata": {},
   "source": [
    "### Visualisation of removed signal in mixture"
   ]
  },
  {
   "cell_type": "code",
   "execution_count": null,
   "id": "1b7aa743",
   "metadata": {},
   "outputs": [],
   "source": [
    "best_kappa = 0.5\n",
    "best_kappa_th = 0.5"
   ]
  },
  {
   "cell_type": "code",
   "execution_count": null,
   "id": "f4da011e",
   "metadata": {},
   "outputs": [],
   "source": [
    "with open(results_paths[experiment_name]+'noise_'+str(best_kappa)+'_'+str(best_kappa_th)+'.pkl', 'rb') as f:\n",
    "    y = pickle.load(f)\n",
    "    y = np.array(y)"
   ]
  },
  {
   "cell_type": "code",
   "execution_count": null,
   "id": "d2b3be6b",
   "metadata": {},
   "outputs": [],
   "source": [
    "with open(results_paths[experiment_name]+'common_horizontal_axis_'+str(best_kappa)+'_'+str(best_kappa_th)+'.pkl', 'rb') as f:\n",
    "    cha = pickle.load(f)\n",
    "    cha = np.array(cha)"
   ]
  },
  {
   "cell_type": "code",
   "execution_count": null,
   "id": "096db2ae",
   "metadata": {},
   "outputs": [],
   "source": [
    "moment_of_time = 1"
   ]
  },
  {
   "cell_type": "code",
   "execution_count": null,
   "id": "4dbcd9aa",
   "metadata": {},
   "outputs": [],
   "source": [
    "noise = y[moment_of_time-1,:]"
   ]
  },
  {
   "cell_type": "code",
   "execution_count": null,
   "id": "fdb29610",
   "metadata": {},
   "outputs": [],
   "source": [
    "mixture_time_data = pd.read_csv(mixture_paths[experiment_name], sep = mixture_separators[experiment_name])\n",
    "if experiment_name == 'Saccharose hydrolysis' or experiment_name == 'Saccharose hydrolysis with full mixture spectrum':\n",
    "    ppm = mixture_time_data.iloc[:,:-1].iloc[:,0:1]\n",
    "    every_10th = mixture_time_data.iloc[:,:-1].iloc[:,1:].iloc[:,::10]\n",
    "    mixture_time_data = pd.concat((ppm, every_10th), axis=1)\n",
    "elif experiment_name == 'PMG 284 monitoring' or experiment_name == 'PMG 284 monitoring with full mixture spectrum':\n",
    "    ppm = mixture_time_data.iloc[:,:-1].iloc[:,0:1]\n",
    "    every_10th = mixture_time_data.iloc[:,:-1].iloc[:,1:].iloc[:,::10]\n",
    "    mixture_time_data = pd.concat((ppm, every_10th), axis=1)\n",
    "elif experiment_name == 'PMG 287 monitoring' or experiment_name == 'PMG 287 monitoring with full mixture spectrum':\n",
    "    ppm = mixture_time_data.iloc[:,:-1].iloc[:,0:1]\n",
    "    every_10th = mixture_time_data.iloc[:,:-1].iloc[:,1:].iloc[:,::10]\n",
    "    mixture_time_data = pd.concat((ppm, every_10th), axis=1)"
   ]
  },
  {
   "cell_type": "code",
   "execution_count": null,
   "id": "99c472fe",
   "metadata": {},
   "outputs": [],
   "source": [
    "if experiment_name == 'PMG 284 monitoring' or experiment_name == 'PMG 284 monitoring with full mixture spectrum':\n",
    "    mixture_time_data.fillna(0, inplace=True)"
   ]
  },
  {
   "cell_type": "code",
   "execution_count": null,
   "id": "19f7a7c1",
   "metadata": {},
   "outputs": [],
   "source": [
    "names = ['ppm'] + ['t' + str(nb) for nb in range(1, mixture_time_data.shape[1])]"
   ]
  },
  {
   "cell_type": "code",
   "execution_count": null,
   "id": "80e66cdb",
   "metadata": {},
   "outputs": [],
   "source": [
    "mixture_time_data.columns = names"
   ]
  },
  {
   "cell_type": "code",
   "execution_count": null,
   "id": "97e4410d",
   "metadata": {},
   "outputs": [],
   "source": [
    "def load_spectrum(mixture_time_data, moment_of_time):\n",
    "    ppm = mixture_time_data['ppm']\n",
    "    intensity = mixture_time_data['t'+str(moment_of_time)]\n",
    "    sp = NMRSpectrum(confs = list(zip(ppm, intensity)))\n",
    "    return sp"
   ]
  },
  {
   "cell_type": "code",
   "execution_count": null,
   "id": "a69888a0",
   "metadata": {},
   "outputs": [],
   "source": [
    "mix = load_spectrum(mixture_time_data, moment_of_time)\n",
    "mix.normalize()"
   ]
  },
  {
   "cell_type": "code",
   "execution_count": null,
   "id": "adfe6fce-df7d-44bf-880e-096dcbc7febf",
   "metadata": {},
   "outputs": [],
   "source": [
    "%matplotlib widget"
   ]
  },
  {
   "cell_type": "code",
   "execution_count": null,
   "id": "ade90402-6469-4d10-8e32-6a3c93c03d7a",
   "metadata": {},
   "outputs": [],
   "source": [
    "bar_width = np.mean([cha[i]-cha[i-1] for i in range(1, len(cha))])\n",
    "\n",
    "plt.gca().invert_xaxis()\n",
    "NMRSpectrum.plot_all([mix], profile=True)\n",
    "plt.bar(cha, noise, alpha=0.7, label='signal removed from mixture', width=bar_width)\n",
    "plt.legend()\n",
    "plt.savefig(results_paths[experiment_name] + 'noise_removed_from_mixture.png')"
   ]
  },
  {
   "cell_type": "markdown",
   "id": "97988b59",
   "metadata": {},
   "source": [
    "### Visualisation of removed signal from mixture + spectra of products"
   ]
  },
  {
   "cell_type": "code",
   "execution_count": null,
   "id": "5e8aadde",
   "metadata": {},
   "outputs": [],
   "source": [
    "best_kappa = 0.5\n",
    "best_kappa_th = 0.5"
   ]
  },
  {
   "cell_type": "code",
   "execution_count": null,
   "id": "e0f5bd8a",
   "metadata": {},
   "outputs": [],
   "source": [
    "with open(results_paths[experiment_name]+'noise_'+str(best_kappa)+'_'+str(best_kappa_th)+'.pkl', 'rb') as f:\n",
    "    y = pickle.load(f)\n",
    "    y = np.array(y)"
   ]
  },
  {
   "cell_type": "code",
   "execution_count": null,
   "id": "5e93144a",
   "metadata": {},
   "outputs": [],
   "source": [
    "with open(results_paths[experiment_name]+'common_horizontal_axis_'+str(best_kappa)+'_'+str(best_kappa_th)+'.pkl', 'rb') as f:\n",
    "    cha = pickle.load(f)\n",
    "    cha = np.array(cha)"
   ]
  },
  {
   "cell_type": "code",
   "execution_count": null,
   "id": "149f304c",
   "metadata": {},
   "outputs": [],
   "source": [
    "moment_of_time = 1"
   ]
  },
  {
   "cell_type": "code",
   "execution_count": null,
   "id": "6614d3ef",
   "metadata": {},
   "outputs": [],
   "source": [
    "noise = y[moment_of_time-1,:]"
   ]
  },
  {
   "cell_type": "code",
   "execution_count": null,
   "id": "d522fd27",
   "metadata": {},
   "outputs": [],
   "source": [
    "reagents = []\n",
    "for i, path in enumerate(reagents_paths[experiment_name]):\n",
    "    reag = pd.read_csv(path, sep = reagents_separators[experiment_name])\n",
    "    if experiment_name == 'PMG 284 monitoring' and i==2:\n",
    "        reag.fillna(0, inplace=True)\n",
    "    sp = NMRSpectrum(confs = list(zip(reag.iloc[:,0], reag.iloc[:,1])))\n",
    "    sp.normalize()\n",
    "    reagents.append(sp)"
   ]
  },
  {
   "cell_type": "code",
   "execution_count": null,
   "id": "c9befad7",
   "metadata": {},
   "outputs": [],
   "source": [
    "if experiment_name == 'Saccharose hydrolysis':\n",
    "    products = reagents[-2:]\n",
    "else:\n",
    "    products = reagents[-1:]"
   ]
  },
  {
   "cell_type": "code",
   "execution_count": null,
   "id": "f8e132ef",
   "metadata": {},
   "outputs": [],
   "source": [
    "bar_width = np.mean([cha[i]-cha[i-1] for i in range(1, len(cha))])\n",
    "\n",
    "plt.gca().invert_xaxis()\n",
    "NMRSpectrum.plot_all(products, profile=True)\n",
    "plt.bar(cha, noise, alpha=0.7, label='noise', width=bar_width)\n",
    "plt.legend()"
   ]
  },
  {
   "cell_type": "markdown",
   "id": "7ddb2d4c",
   "metadata": {},
   "source": [
    "### Visualisation of removed signal in components"
   ]
  },
  {
   "cell_type": "markdown",
   "id": "1216c408",
   "metadata": {},
   "source": [
    "This plot will not work for saccharose hydrolysis, because the common mass axis is not saved for this experiment (because it's different for every time point due to baseline correction)."
   ]
  },
  {
   "cell_type": "code",
   "execution_count": null,
   "id": "778e0414",
   "metadata": {},
   "outputs": [],
   "source": [
    "best_kappa = 0.5\n",
    "best_kappa_th = 0.5"
   ]
  },
  {
   "cell_type": "code",
   "execution_count": null,
   "id": "582b907e",
   "metadata": {},
   "outputs": [],
   "source": [
    "moment_of_time = 60"
   ]
  },
  {
   "cell_type": "code",
   "execution_count": null,
   "id": "07a20c6f",
   "metadata": {},
   "outputs": [],
   "source": [
    "components_nrs = [0]"
   ]
  },
  {
   "cell_type": "code",
   "execution_count": null,
   "id": "a855180f",
   "metadata": {},
   "outputs": [],
   "source": [
    "with open(results_paths[experiment_name]+'proportions_in_times_'+str(best_kappa)+'_'+str(best_kappa_th)+'.pkl', 'rb') as f:\n",
    "    y = pickle.load(f)\n",
    "    y = np.array(y)\n",
    "    current_proportions = y[moment_of_time-1, components_nrs]"
   ]
  },
  {
   "cell_type": "code",
   "execution_count": null,
   "id": "c6af7c40",
   "metadata": {},
   "outputs": [],
   "source": [
    "with open(results_paths[experiment_name]+'noise_in_components_'+str(best_kappa)+'_'+str(best_kappa_th)+'.pkl', 'rb') as f:\n",
    "    y = pickle.load(f)\n",
    "    y = np.array(y)"
   ]
  },
  {
   "cell_type": "code",
   "execution_count": null,
   "id": "f5c08f1e",
   "metadata": {},
   "outputs": [],
   "source": [
    "with open(results_paths[experiment_name]+'common_horizontal_axis_'+str(best_kappa)+'_'+str(best_kappa_th)+'.pkl', 'rb') as f:\n",
    "    cha = pickle.load(f)\n",
    "    cha = np.array(cha)"
   ]
  },
  {
   "cell_type": "code",
   "execution_count": null,
   "id": "e0a654d7",
   "metadata": {},
   "outputs": [],
   "source": [
    "noise_in_components = y[moment_of_time-1,:]"
   ]
  },
  {
   "cell_type": "code",
   "execution_count": null,
   "id": "447111b4",
   "metadata": {},
   "outputs": [],
   "source": [
    "reagents = []\n",
    "for i, path in enumerate(reagents_paths[experiment_name]):\n",
    "    reag = pd.read_csv(path, sep = reagents_separators[experiment_name])\n",
    "    if experiment_name == 'PMG 284 monitoring' and i==2:\n",
    "        reag.fillna(0, inplace=True)\n",
    "    sp = NMRSpectrum(confs = list(zip(reag.iloc[:,0], reag.iloc[:,1])))\n",
    "    sp.normalize()\n",
    "    reagents.append(sp)"
   ]
  },
  {
   "cell_type": "code",
   "execution_count": null,
   "id": "80208cc8",
   "metadata": {},
   "outputs": [],
   "source": [
    "%matplotlib notebook"
   ]
  },
  {
   "cell_type": "code",
   "execution_count": null,
   "id": "43f2fb9a",
   "metadata": {},
   "outputs": [],
   "source": [
    "bar_width = np.mean([cha[i]-cha[i-1] for i in range(1, len(cha))])\n",
    "\n",
    "plt.gca().invert_xaxis()\n",
    "for i in components_nrs:\n",
    "    reagents[i].plot(profile=True,\n",
    "                    color=saturated_colors_for_components[experiment_name][i])\n",
    "plt.bar(cha, noise_in_components, alpha=0.7, label='noise in components', width=bar_width, color='grey')\n",
    "plt.legend()"
   ]
  },
  {
   "cell_type": "markdown",
   "id": "2b104d98",
   "metadata": {},
   "source": [
    "### Mixture and components"
   ]
  },
  {
   "cell_type": "code",
   "execution_count": null,
   "id": "bf411f85",
   "metadata": {},
   "outputs": [],
   "source": [
    "reagents = []\n",
    "for i, path in enumerate(reagents_paths[experiment_name]):\n",
    "    reag = pd.read_csv(path, sep = reagents_separators[experiment_name])\n",
    "    sp = NMRSpectrum(confs = list(zip(reag.iloc[:,0], reag.iloc[:,1])))\n",
    "    sp.normalize()\n",
    "    reagents.append(sp)"
   ]
  },
  {
   "cell_type": "code",
   "execution_count": null,
   "id": "70dd63b3",
   "metadata": {},
   "outputs": [],
   "source": [
    "mixture_time_data = pd.read_csv(mixture_paths[experiment_name], sep = mixture_separators[experiment_name])\n",
    "if experiment_name == 'Saccharose hydrolysis':\n",
    "    ppm = mixture_time_data.iloc[:,:-1].iloc[:,0:1]\n",
    "    every_10th = mixture_time_data.iloc[:,:-1].iloc[:,1:].iloc[:,::10]\n",
    "    mixture_time_data = pd.concat((ppm, every_10th), axis=1)\n",
    "elif experiment_name == 'PMG 284 monitoring':\n",
    "    ppm = mixture_time_data.iloc[:,:-1].iloc[:,0:1]\n",
    "    every_10th = mixture_time_data.iloc[:,:-1].iloc[:,1:].iloc[:,::10]\n",
    "    mixture_time_data = pd.concat((ppm, every_10th), axis=1)\n",
    "elif experiment_name == 'PMG 287 monitoring':\n",
    "    ppm = mixture_time_data.iloc[:,:-1].iloc[:,0:1]\n",
    "    every_10th = mixture_time_data.iloc[:,:-1].iloc[:,1:].iloc[:,::10]\n",
    "    mixture_time_data = pd.concat((ppm, every_10th), axis=1)"
   ]
  },
  {
   "cell_type": "code",
   "execution_count": null,
   "id": "5146aced",
   "metadata": {},
   "outputs": [],
   "source": [
    "if experiment_name == 'PMG 284 monitoring':\n",
    "    mixture_time_data.fillna(0, inplace=True)"
   ]
  },
  {
   "cell_type": "code",
   "execution_count": null,
   "id": "02fe6cf3",
   "metadata": {},
   "outputs": [],
   "source": [
    "names = ['ppm'] + ['t' + str(nb) for nb in range(1, mixture_time_data.shape[1])]"
   ]
  },
  {
   "cell_type": "code",
   "execution_count": null,
   "id": "f9ffb27e",
   "metadata": {},
   "outputs": [],
   "source": [
    "mixture_time_data.columns = names"
   ]
  },
  {
   "cell_type": "code",
   "execution_count": null,
   "id": "62c17ce4",
   "metadata": {},
   "outputs": [],
   "source": [
    "def load_spectrum(mixture_time_data, moment_of_time):\n",
    "    ppm = mixture_time_data['ppm']\n",
    "    intensity = mixture_time_data['t'+str(moment_of_time)]\n",
    "    sp = NMRSpectrum(confs = list(zip(ppm, intensity)))\n",
    "    sp.normalize()\n",
    "    return sp"
   ]
  },
  {
   "cell_type": "code",
   "execution_count": null,
   "id": "72123623",
   "metadata": {},
   "outputs": [],
   "source": [
    "plt.gca().invert_xaxis()\n",
    "NMRSpectrum.plot_all(reagents + [load_spectrum(mixture_time_data, 100)], profile=True)"
   ]
  },
  {
   "cell_type": "code",
   "execution_count": null,
   "id": "40fe9a3f",
   "metadata": {},
   "outputs": [],
   "source": [
    "plt.gca().invert_xaxis()\n",
    "NMRSpectrum.plot_all(reagents + [load_spectrum(mixture_time_data, 1)], profile=True)"
   ]
  },
  {
   "cell_type": "code",
   "execution_count": null,
   "id": "cfb936ef",
   "metadata": {},
   "outputs": [],
   "source": []
  }
 ],
 "metadata": {
  "kernelspec": {
   "display_name": "Python 3 (ipykernel)",
   "language": "python",
   "name": "python3"
  },
  "language_info": {
   "codemirror_mode": {
    "name": "ipython",
    "version": 3
   },
   "file_extension": ".py",
   "mimetype": "text/x-python",
   "name": "python",
   "nbconvert_exporter": "python",
   "pygments_lexer": "ipython3",
   "version": "3.12.3"
  }
 },
 "nbformat": 4,
 "nbformat_minor": 5
}
