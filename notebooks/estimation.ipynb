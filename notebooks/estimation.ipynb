{
 "cells": [
  {
   "cell_type": "markdown",
   "id": "dd4a8039",
   "metadata": {},
   "source": [
    "### Imports"
   ]
  },
  {
   "cell_type": "code",
   "execution_count": 1,
   "id": "50e3ef75",
   "metadata": {},
   "outputs": [],
   "source": [
    "import sys\n",
    "mypath = \"/home/basia/Documents/spectroscopy/magnetstein\"\n",
    "sys.path.insert(0, mypath)"
   ]
  },
  {
   "cell_type": "code",
   "execution_count": 2,
   "id": "41a186ab",
   "metadata": {},
   "outputs": [],
   "source": [
    "import numpy as np\n",
    "import pandas as pd\n",
    "import os\n",
    "from masserstein import NMRSpectrum, estimate_proportions\n",
    "import matplotlib.pyplot as plt\n",
    "import pulp\n",
    "import pickle"
   ]
  },
  {
   "cell_type": "markdown",
   "id": "963c9b4b",
   "metadata": {},
   "source": [
    "### Data"
   ]
  },
  {
   "cell_type": "code",
   "execution_count": 3,
   "id": "f7f53440",
   "metadata": {},
   "outputs": [],
   "source": [
    "experiment_name = 'PMG 287 monitoring with full mixture spectrum'"
   ]
  },
  {
   "cell_type": "code",
   "execution_count": 4,
   "id": "31a53838",
   "metadata": {},
   "outputs": [],
   "source": [
    "mixture_paths = {\n",
    "                'Saccharose hydrolysis': '../data/saccharose_hydrolysis/preprocessed_mixture.csv',\n",
    "                'PMG 284 monitoring': '../data/PMG_284/preprocessed_mixture.csv',\n",
    "                'PMG 287 monitoring': '../data/PMG_287/preprocessed_mixture_cut_to_regions.csv',\n",
    "                'Saccharose hydrolysis with full mixture spectrum': '../data/saccharose_hydrolysis_full_mixture_spectrum/preprocessed_mixture.csv',\n",
    "                'PMG 287 monitoring with full mixture spectrum': '../data/PMG_287_full_mixture_spectrum/preprocessed_mixture_whole.csv',\n",
    "                }\n",
    "\n",
    "reagents_paths = {\n",
    "                'Saccharose hydrolysis': ['../data/saccharose_hydrolysis/preprocessed_saccharose.csv', \n",
    "                                            '../data/saccharose_hydrolysis/preprocessed_alpha_glucose.csv',\n",
    "                                            '../data/saccharose_hydrolysis/preprocessed_beta_glucose.csv',\n",
    "                                            '../data/saccharose_hydrolysis/preprocessed_fructose.csv'],\n",
    "                'PMG 284 monitoring': ['../data/PMG_284/preprocessed_pentene.csv',\n",
    "                                      '../data/PMG_284/preprocessed_triethylsilane.csv',\n",
    "                                      '../data/PMG_284/preprocessed_product.csv'],\n",
    "                'PMG 287 monitoring': ['../data/PMG_287/preprocessed_hexene.csv',\n",
    "                                      '../data/PMG_287/preprocessed_triethylsilane.csv',\n",
    "                                      '../data/PMG_287/preprocessed_product.csv'],\n",
    "                'Saccharose hydrolysis with full mixture spectrum': [\n",
    "                                            '../data/saccharose_hydrolysis_full_mixture_spectrum/preprocessed_saccharose.csv', \n",
    "                                            '../data/saccharose_hydrolysis_full_mixture_spectrum/preprocessed_alpha_glucose.csv',\n",
    "                                            '../data/saccharose_hydrolysis_full_mixture_spectrum/preprocessed_beta_glucose.csv',\n",
    "                                            '../data/saccharose_hydrolysis_full_mixture_spectrum/preprocessed_fructose.csv'\n",
    "                                                                        ],\n",
    "                'PMG 287 monitoring with full mixture spectrum': ['../data/PMG_287_full_mixture_spectrum/preprocessed_hexene.csv',\n",
    "                                                                  '../data/PMG_287_full_mixture_spectrum/preprocessed_triethylsilane.csv',\n",
    "                                                                  '../data/PMG_287_full_mixture_spectrum/preprocessed_product.csv'],\n",
    "}\n",
    "\n",
    "mixture_separators = {\n",
    "                        'Saccharose hydrolysis': '\\t',\n",
    "                        'PMG 284 monitoring': '\\t',\n",
    "                        'PMG 287 monitoring': '\\t',\n",
    "                        'Saccharose hydrolysis with full mixture spectrum': '\\t',\n",
    "                        'PMG 287 monitoring with full mixture spectrum': '\\t'\n",
    "\n",
    "                        }\n",
    "\n",
    "reagents_separators = {\n",
    "                'Saccharose hydrolysis': '\\t',\n",
    "                'PMG 284 monitoring': '\\t',\n",
    "                'PMG 287 monitoring': '\\t',\n",
    "                'Saccharose hydrolysis with full mixture spectrum': '\\t',\n",
    "                'PMG 287 monitoring with full mixture spectrum': '\\t'\n",
    "                }\n",
    "\n",
    "results_paths = {\n",
    "                'Saccharose hydrolysis': '../results/saccharose_hydrolysis/',\n",
    "                'PMG 284 monitoring': '../results/PMG_284/',\n",
    "                'PMG 287 monitoring': '../results/PMG_287',\n",
    "                'Saccharose hydrolysis with full mixture spectrum': '../results/saccharose_hydrolysis_full_mixture_spectrum/',\n",
    "                'PMG 287 monitoring with full mixture spectrum': '../results/PMG_287_full_mixture_spectrum/',\n",
    "                }"
   ]
  },
  {
   "cell_type": "markdown",
   "id": "61199f4a",
   "metadata": {},
   "source": [
    "#### Mixture in time"
   ]
  },
  {
   "cell_type": "code",
   "execution_count": 5,
   "id": "b5a5d141",
   "metadata": {},
   "outputs": [],
   "source": [
    "mixture_time_data = pd.read_csv(mixture_paths[experiment_name], sep = mixture_separators[experiment_name])\n",
    "if experiment_name == 'Saccharose hydrolysis' or experiment_name == 'Saccharose hydrolysis with full mixture spectrum':\n",
    "    ppm = mixture_time_data.iloc[:,0:1]\n",
    "    every_10th = mixture_time_data.iloc[:,1:].iloc[:,::10]\n",
    "    mixture_time_data = pd.concat((ppm, every_10th), axis=1)\n",
    "elif experiment_name == 'PMG 284 monitoring':\n",
    "    ppm = mixture_time_data.iloc[:,:-1].iloc[:,0:1]\n",
    "    every_10th = mixture_time_data.iloc[:,:-1].iloc[:,1:].iloc[:,::10]\n",
    "    mixture_time_data = pd.concat((ppm, every_10th), axis=1)\n",
    "elif experiment_name == 'PMG 287 monitoring' or experiment_name == 'PMG 287 monitoring with full mixture spectrum':\n",
    "    ppm = mixture_time_data.iloc[:,:-1].iloc[:,0:1]\n",
    "    every_10th = mixture_time_data.iloc[:,:-1].iloc[:,1:].iloc[:,::10]\n",
    "    mixture_time_data = pd.concat((ppm, every_10th), axis=1)"
   ]
  },
  {
   "cell_type": "code",
   "execution_count": 6,
   "id": "71cacbf5",
   "metadata": {},
   "outputs": [],
   "source": [
    "names = ['ppm'] + ['t' + str(nb) for nb in range(1, mixture_time_data.shape[1])]"
   ]
  },
  {
   "cell_type": "code",
   "execution_count": 7,
   "id": "bab7ca01",
   "metadata": {},
   "outputs": [],
   "source": [
    "mixture_time_data.columns = names"
   ]
  },
  {
   "cell_type": "code",
   "execution_count": 8,
   "id": "1508df37",
   "metadata": {},
   "outputs": [],
   "source": [
    "def load_spectrum(mixture_time_data, moment_of_time):\n",
    "    ppm = mixture_time_data['ppm']\n",
    "    intensity = mixture_time_data['t'+str(moment_of_time)]\n",
    "    sp = NMRSpectrum(confs = list(zip(ppm, intensity)))\n",
    "    sp.trim_negative_intensities()\n",
    "    sp.normalize()\n",
    "    return sp"
   ]
  },
  {
   "cell_type": "markdown",
   "id": "081a0830",
   "metadata": {},
   "source": [
    "#### Reagents"
   ]
  },
  {
   "cell_type": "code",
   "execution_count": 9,
   "id": "de749b9b",
   "metadata": {},
   "outputs": [],
   "source": [
    "reagents_spectra = []\n",
    "for reagent in reagents_paths[experiment_name]:\n",
    "    reag = pd.read_csv(reagent, sep=reagents_separators[experiment_name], header=None).iloc[:,:2]\n",
    "    reagents_spectra.append(reag)"
   ]
  },
  {
   "cell_type": "code",
   "execution_count": 10,
   "id": "d1efdfc3",
   "metadata": {},
   "outputs": [],
   "source": [
    "reagents_spectra2 = []\n",
    "for reag in reagents_spectra:\n",
    "    ppm = reag.iloc[:,0]\n",
    "    ints = reag.iloc[:,1]\n",
    "    sp = NMRSpectrum(confs = list(zip(ppm, ints)))\n",
    "    reagents_spectra2.append(sp)\n",
    "reagents_spectra = reagents_spectra2\n",
    "del(reagents_spectra2)"
   ]
  },
  {
   "cell_type": "code",
   "execution_count": 11,
   "id": "d8d27b94",
   "metadata": {},
   "outputs": [],
   "source": [
    "for sp in reagents_spectra:\n",
    "    sp.trim_negative_intensities()\n",
    "    sp.normalize()"
   ]
  },
  {
   "cell_type": "code",
   "execution_count": 12,
   "id": "8b7d04e6",
   "metadata": {},
   "outputs": [
    {
     "data": {
      "text/plain": [
       "[<masserstein.nmr_spectrum.NMRSpectrum at 0x79359220e470>,\n",
       " <masserstein.nmr_spectrum.NMRSpectrum at 0x79359220fd60>,\n",
       " <masserstein.nmr_spectrum.NMRSpectrum at 0x7935351e7010>]"
      ]
     },
     "execution_count": 12,
     "metadata": {},
     "output_type": "execute_result"
    }
   ],
   "source": [
    "reagents_spectra"
   ]
  },
  {
   "cell_type": "code",
   "execution_count": 13,
   "id": "acdf29d1",
   "metadata": {},
   "outputs": [
    {
     "data": {
      "image/png": "[encoded data removed]",
      "text/plain": [
       "<Figure size 640x480 with 1 Axes>"
      ]
     },
     "metadata": {},
     "output_type": "display_data"
    }
   ],
   "source": [
    "plt.gca().invert_xaxis()\n",
    "NMRSpectrum.plot(load_spectrum(mixture_time_data, 30), profile=True)\n",
    "#NMRSpectrum.plot_all(reagents_spectra + [load_spectrum(mixture_time_data, 100)], profile=True)"
   ]
  },
  {
   "cell_type": "markdown",
   "id": "59f68317",
   "metadata": {},
   "source": [
    "### Estimation"
   ]
  },
  {
   "cell_type": "code",
   "execution_count": 14,
   "id": "de9e7a63",
   "metadata": {},
   "outputs": [],
   "source": [
    "kappa = 0.01\n",
    "kappa_th = 0.01"
   ]
  },
  {
   "cell_type": "code",
   "execution_count": 15,
   "id": "d28e1e51",
   "metadata": {},
   "outputs": [
    {
     "name": "stdout",
     "output_type": "stream",
     "text": [
      "This is timepoint 1.\n",
      "\n",
      "Set parameter Username\n",
      "Academic license - for non-commercial use only - expires 2025-12-20\n"
     ]
    },
    {
     "name": "stderr",
     "output_type": "stream",
     "text": [
      "/home/basia/.local/lib/python3.10/site-packages/pulp/pulp.py:1352: UserWarning: Spaces are not permitted in the name. Converted to '_'\n",
      "  warnings.warn(\"Spaces are not permitted in the name. Converted to '_'\")\n"
     ]
    },
    {
     "name": "stdout",
     "output_type": "stream",
     "text": [
      "Proportions:\n",
      "\n",
      "[0.1578503359377429, 0.21424912607159455, 0.12253813137045273]\n",
      "\n",
      "\n",
      "Proportion_of_noise_in_components:\n",
      "\n",
      "0.027926531982569155\n",
      "\n",
      "\n",
      "This is timepoint 2.\n",
      "\n"
     ]
    },
    {
     "ename": "KeyboardInterrupt",
     "evalue": "",
     "output_type": "error",
     "traceback": [
      "\u001b[0;31m---------------------------------------------------------------------------\u001b[0m",
      "\u001b[0;31mKeyboardInterrupt\u001b[0m                         Traceback (most recent call last)",
      "Cell \u001b[0;32mIn [15], line 11\u001b[0m\n\u001b[1;32m      9\u001b[0m mix\u001b[38;5;241m.\u001b[39mtrim_negative_intensities()\n\u001b[1;32m     10\u001b[0m mix\u001b[38;5;241m.\u001b[39mnormalize()\n\u001b[0;32m---> 11\u001b[0m estimation \u001b[38;5;241m=\u001b[39m \u001b[43mestimate_proportions\u001b[49m\u001b[43m(\u001b[49m\u001b[43mmix\u001b[49m\u001b[43m,\u001b[49m\u001b[43m \u001b[49m\u001b[43mreagents_spectra\u001b[49m\u001b[43m,\u001b[49m\u001b[43m \u001b[49m\u001b[43mwhat_to_compare\u001b[49m\u001b[38;5;241;43m=\u001b[39;49m\u001b[38;5;124;43m'\u001b[39;49m\u001b[38;5;124;43marea\u001b[39;49m\u001b[38;5;124;43m'\u001b[39;49m\u001b[43m,\u001b[49m\u001b[43m \u001b[49m\n\u001b[1;32m     12\u001b[0m \u001b[43m                                  \u001b[49m\u001b[43msolver\u001b[49m\u001b[38;5;241;43m=\u001b[39;49m\u001b[43mpulp\u001b[49m\u001b[38;5;241;43m.\u001b[39;49m\u001b[43mGUROBI\u001b[49m\u001b[43m(\u001b[49m\u001b[43mmsg\u001b[49m\u001b[38;5;241;43m=\u001b[39;49m\u001b[38;5;28;43;01mFalse\u001b[39;49;00m\u001b[43m)\u001b[49m\u001b[43m,\u001b[49m\n\u001b[1;32m     13\u001b[0m \u001b[43m                                 \u001b[49m\u001b[43mMTD\u001b[49m\u001b[38;5;241;43m=\u001b[39;49m\u001b[43mkappa\u001b[49m\u001b[43m,\u001b[49m\u001b[43m \u001b[49m\u001b[43mMTD_th\u001b[49m\u001b[38;5;241;43m=\u001b[39;49m\u001b[43mkappa_th\u001b[49m\u001b[43m)\u001b[49m\n\u001b[1;32m     14\u001b[0m proportions_in_times\u001b[38;5;241m.\u001b[39mappend(estimation[\u001b[38;5;124m'\u001b[39m\u001b[38;5;124mproportions\u001b[39m\u001b[38;5;124m'\u001b[39m])\n\u001b[1;32m     15\u001b[0m noise_proportions_in_times\u001b[38;5;241m.\u001b[39mappend(estimation[\u001b[38;5;124m'\u001b[39m\u001b[38;5;124mproportion_of_noise_in_components\u001b[39m\u001b[38;5;124m'\u001b[39m])\n",
      "File \u001b[0;32m~/Documents/spectroscopy/magnetstein/masserstein/deconv_simplex.py:810\u001b[0m, in \u001b[0;36mestimate_proportions\u001b[0;34m(spectrum, query, MTD, MDC, MMD, max_reruns, verbose, progress, MTD_th, solver, what_to_compare)\u001b[0m\n\u001b[1;32m    808\u001b[0m     dec \u001b[38;5;241m=\u001b[39m dualdeconv2(chunkSp, thrSp, MTD, quiet\u001b[38;5;241m=\u001b[39m\u001b[38;5;28;01mTrue\u001b[39;00m, solver\u001b[38;5;241m=\u001b[39msolver)\n\u001b[1;32m    809\u001b[0m \u001b[38;5;28;01melse\u001b[39;00m:\n\u001b[0;32m--> 810\u001b[0m     dec \u001b[38;5;241m=\u001b[39m \u001b[43mdualdeconv4\u001b[49m\u001b[43m(\u001b[49m\u001b[43mchunkSp\u001b[49m\u001b[43m,\u001b[49m\u001b[43m \u001b[49m\u001b[43mthrSp\u001b[49m\u001b[43m,\u001b[49m\u001b[43m \u001b[49m\u001b[43mMTD\u001b[49m\u001b[43m,\u001b[49m\u001b[43m \u001b[49m\u001b[43mMTD_th\u001b[49m\u001b[43m,\u001b[49m\u001b[43m \u001b[49m\u001b[43mquiet\u001b[49m\u001b[38;5;241;43m=\u001b[39;49m\u001b[38;5;28;43;01mTrue\u001b[39;49;00m\u001b[43m,\u001b[49m\u001b[43m \u001b[49m\u001b[43msolver\u001b[49m\u001b[38;5;241;43m=\u001b[39;49m\u001b[43msolver\u001b[49m\u001b[43m)\u001b[49m\n\u001b[1;32m    811\u001b[0m \u001b[38;5;28;01mif\u001b[39;00m dec[\u001b[38;5;124m'\u001b[39m\u001b[38;5;124mstatus\u001b[39m\u001b[38;5;124m'\u001b[39m] \u001b[38;5;241m==\u001b[39m \u001b[38;5;241m1\u001b[39m:\n\u001b[1;32m    812\u001b[0m         success\u001b[38;5;241m=\u001b[39m\u001b[38;5;28;01mTrue\u001b[39;00m\n",
      "File \u001b[0;32m~/Documents/spectroscopy/magnetstein/masserstein/deconv_simplex.py:536\u001b[0m, in \u001b[0;36mdualdeconv4\u001b[0;34m(exp_sp, thr_sps, penalty, penalty_th, quiet, solver)\u001b[0m\n\u001b[1;32m    534\u001b[0m \u001b[38;5;66;03m#Solving\u001b[39;00m\n\u001b[1;32m    535\u001b[0m LpSolverDefault\u001b[38;5;241m.\u001b[39mmsg \u001b[38;5;241m=\u001b[39m \u001b[38;5;129;01mnot\u001b[39;00m quiet\n\u001b[0;32m--> 536\u001b[0m \u001b[43mprogram\u001b[49m\u001b[38;5;241;43m.\u001b[39;49m\u001b[43msolve\u001b[49m\u001b[43m(\u001b[49m\u001b[43msolver\u001b[49m\u001b[43m \u001b[49m\u001b[38;5;241;43m=\u001b[39;49m\u001b[43m \u001b[49m\u001b[43msolver\u001b[49m\u001b[43m)\u001b[49m\n\u001b[1;32m    537\u001b[0m end \u001b[38;5;241m=\u001b[39m time()\n\u001b[1;32m    538\u001b[0m \u001b[38;5;28;01mif\u001b[39;00m \u001b[38;5;129;01mnot\u001b[39;00m quiet:\n",
      "File \u001b[0;32m~/.local/lib/python3.10/site-packages/pulp/pulp.py:1913\u001b[0m, in \u001b[0;36mLpProblem.solve\u001b[0;34m(self, solver, **kwargs)\u001b[0m\n\u001b[1;32m   1911\u001b[0m \u001b[38;5;66;03m# time it\u001b[39;00m\n\u001b[1;32m   1912\u001b[0m \u001b[38;5;28mself\u001b[39m\u001b[38;5;241m.\u001b[39mstartClock()\n\u001b[0;32m-> 1913\u001b[0m status \u001b[38;5;241m=\u001b[39m \u001b[43msolver\u001b[49m\u001b[38;5;241;43m.\u001b[39;49m\u001b[43mactualSolve\u001b[49m\u001b[43m(\u001b[49m\u001b[38;5;28;43mself\u001b[39;49m\u001b[43m,\u001b[49m\u001b[43m \u001b[49m\u001b[38;5;241;43m*\u001b[39;49m\u001b[38;5;241;43m*\u001b[39;49m\u001b[43mkwargs\u001b[49m\u001b[43m)\u001b[49m\n\u001b[1;32m   1914\u001b[0m \u001b[38;5;28mself\u001b[39m\u001b[38;5;241m.\u001b[39mstopClock()\n\u001b[1;32m   1915\u001b[0m \u001b[38;5;28mself\u001b[39m\u001b[38;5;241m.\u001b[39mrestoreObjective(wasNone, dummyVar)\n",
      "File \u001b[0;32m~/.local/lib/python3.10/site-packages/pulp/apis/gurobi_api.py:248\u001b[0m, in \u001b[0;36mGUROBI.actualSolve\u001b[0;34m(self, lp, callback)\u001b[0m\n\u001b[1;32m    241\u001b[0m \u001b[38;5;28;01mdef\u001b[39;00m \u001b[38;5;21mactualSolve\u001b[39m(\u001b[38;5;28mself\u001b[39m, lp, callback\u001b[38;5;241m=\u001b[39m\u001b[38;5;28;01mNone\u001b[39;00m):\n\u001b[1;32m    242\u001b[0m     \u001b[38;5;124;03m\"\"\"\u001b[39;00m\n\u001b[1;32m    243\u001b[0m \u001b[38;5;124;03m    Solve a well formulated lp problem\u001b[39;00m\n\u001b[1;32m    244\u001b[0m \n\u001b[1;32m    245\u001b[0m \u001b[38;5;124;03m    creates a gurobi model, variables and constraints and attaches\u001b[39;00m\n\u001b[1;32m    246\u001b[0m \u001b[38;5;124;03m    them to the lp model which it then solves\u001b[39;00m\n\u001b[1;32m    247\u001b[0m \u001b[38;5;124;03m    \"\"\"\u001b[39;00m\n\u001b[0;32m--> 248\u001b[0m     \u001b[38;5;28;43mself\u001b[39;49m\u001b[38;5;241;43m.\u001b[39;49m\u001b[43mbuildSolverModel\u001b[49m\u001b[43m(\u001b[49m\u001b[43mlp\u001b[49m\u001b[43m)\u001b[49m\n\u001b[1;32m    249\u001b[0m     \u001b[38;5;66;03m# set the initial solution\u001b[39;00m\n\u001b[1;32m    250\u001b[0m     log\u001b[38;5;241m.\u001b[39mdebug(\u001b[38;5;124m\"\u001b[39m\u001b[38;5;124mSolve the Model using gurobi\u001b[39m\u001b[38;5;124m\"\u001b[39m)\n",
      "File \u001b[0;32m~/.local/lib/python3.10/site-packages/pulp/apis/gurobi_api.py:225\u001b[0m, in \u001b[0;36mGUROBI.buildSolverModel\u001b[0;34m(self, lp)\u001b[0m\n\u001b[1;32m    222\u001b[0m log\u001b[38;5;241m.\u001b[39mdebug(\u001b[38;5;124m\"\u001b[39m\u001b[38;5;124madd the Constraints to the problem\u001b[39m\u001b[38;5;124m\"\u001b[39m)\n\u001b[1;32m    223\u001b[0m \u001b[38;5;28;01mfor\u001b[39;00m name, constraint \u001b[38;5;129;01min\u001b[39;00m lp\u001b[38;5;241m.\u001b[39mconstraints\u001b[38;5;241m.\u001b[39mitems():\n\u001b[1;32m    224\u001b[0m     \u001b[38;5;66;03m# build the expression\u001b[39;00m\n\u001b[0;32m--> 225\u001b[0m     expr \u001b[38;5;241m=\u001b[39m \u001b[43mgurobipy\u001b[49m\u001b[38;5;241;43m.\u001b[39;49m\u001b[43mLinExpr\u001b[49m\u001b[43m(\u001b[49m\n\u001b[1;32m    226\u001b[0m \u001b[43m        \u001b[49m\u001b[38;5;28;43mlist\u001b[39;49m\u001b[43m(\u001b[49m\u001b[43mconstraint\u001b[49m\u001b[38;5;241;43m.\u001b[39;49m\u001b[43mvalues\u001b[49m\u001b[43m(\u001b[49m\u001b[43m)\u001b[49m\u001b[43m)\u001b[49m\u001b[43m,\u001b[49m\u001b[43m \u001b[49m\u001b[43m[\u001b[49m\u001b[43mv\u001b[49m\u001b[38;5;241;43m.\u001b[39;49m\u001b[43msolverVar\u001b[49m\u001b[43m \u001b[49m\u001b[38;5;28;43;01mfor\u001b[39;49;00m\u001b[43m \u001b[49m\u001b[43mv\u001b[49m\u001b[43m \u001b[49m\u001b[38;5;129;43;01min\u001b[39;49;00m\u001b[43m \u001b[49m\u001b[43mconstraint\u001b[49m\u001b[38;5;241;43m.\u001b[39;49m\u001b[43mkeys\u001b[49m\u001b[43m(\u001b[49m\u001b[43m)\u001b[49m\u001b[43m]\u001b[49m\n\u001b[1;32m    227\u001b[0m \u001b[43m    \u001b[49m\u001b[43m)\u001b[49m\n\u001b[1;32m    228\u001b[0m     \u001b[38;5;28;01mif\u001b[39;00m constraint\u001b[38;5;241m.\u001b[39msense \u001b[38;5;241m==\u001b[39m constants\u001b[38;5;241m.\u001b[39mLpConstraintLE:\n\u001b[1;32m    229\u001b[0m         relation \u001b[38;5;241m=\u001b[39m gurobipy\u001b[38;5;241m.\u001b[39mGRB\u001b[38;5;241m.\u001b[39mLESS_EQUAL\n",
      "\u001b[0;31mKeyboardInterrupt\u001b[0m: "
     ]
    }
   ],
   "source": [
    "proportions_in_times = []\n",
    "noise_proportions_in_times = []\n",
    "noise = []\n",
    "noise_in_components = []\n",
    "\n",
    "for i in range(1, mixture_time_data.shape[1]):\n",
    "    print('This is timepoint '+str(i)+'.\\n')\n",
    "    mix = load_spectrum(mixture_time_data, i)\n",
    "    mix.trim_negative_intensities()\n",
    "    mix.normalize()\n",
    "    estimation = estimate_proportions(mix, reagents_spectra, what_to_compare='area', \n",
    "                                      solver=pulp.GUROBI(msg=False),\n",
    "                                     MTD=kappa, MTD_th=kappa_th)\n",
    "    proportions_in_times.append(estimation['proportions'])\n",
    "    noise_proportions_in_times.append(estimation['proportion_of_noise_in_components'])\n",
    "    noise.append(estimation['noise'])\n",
    "    noise_in_components.append(estimation['noise_in_components'])\n",
    "#     if i>1:\n",
    "#         assert estimation['common_horizontal_axis'] == common_horizontal_axis\n",
    "    common_horizontal_axis = estimation['common_horizontal_axis']\n",
    "    \n",
    "    print('Proportions:\\n')\n",
    "    print(estimation['proportions'])\n",
    "    print('\\n')\n",
    "    print('Proportion_of_noise_in_components:\\n')\n",
    "    print(estimation['proportion_of_noise_in_components'])\n",
    "    print('\\n')"
   ]
  },
  {
   "cell_type": "code",
   "execution_count": 16,
   "id": "8131684d",
   "metadata": {},
   "outputs": [
    {
     "data": {
      "text/plain": [
       "103"
      ]
     },
     "execution_count": 16,
     "metadata": {},
     "output_type": "execute_result"
    }
   ],
   "source": [
    "len(proportions_in_times)"
   ]
  },
  {
   "cell_type": "code",
   "execution_count": 17,
   "id": "41c1d0a8",
   "metadata": {},
   "outputs": [
    {
     "data": {
      "image/png": "[encoded data removed]",
      "text/plain": [
       "<Figure size 640x480 with 1 Axes>"
      ]
     },
     "metadata": {},
     "output_type": "display_data"
    }
   ],
   "source": [
    "for i in range(len(reagents_spectra)):\n",
    "    plt.plot(range(len(proportions_in_times)), [prop[i] for prop in proportions_in_times], 'p')"
   ]
  },
  {
   "cell_type": "code",
   "execution_count": 18,
   "id": "d42ebda4",
   "metadata": {},
   "outputs": [],
   "source": [
    "with open(results_paths[experiment_name]+'proportions_in_times_'+str(kappa)+'_'+str(kappa_th)+'.pkl', 'wb') as f:\n",
    "    pickle.dump(proportions_in_times, f)"
   ]
  },
  {
   "cell_type": "code",
   "execution_count": 19,
   "id": "eb07b78f",
   "metadata": {},
   "outputs": [],
   "source": [
    "with open(results_paths[experiment_name]+'noise_proportions_in_times_'+str(kappa)+'_'+str(kappa_th)+'.pkl', 'wb') as f:\n",
    "    pickle.dump(noise_proportions_in_times, f)"
   ]
  },
  {
   "cell_type": "code",
   "execution_count": 20,
   "id": "1f8024b1",
   "metadata": {},
   "outputs": [],
   "source": [
    "with open(results_paths[experiment_name]+'common_horizontal_axis_'+str(kappa)+'_'+str(kappa_th)+'.pkl', 'wb') as f:\n",
    "    pickle.dump(common_horizontal_axis, f)"
   ]
  },
  {
   "cell_type": "code",
   "execution_count": 21,
   "id": "123e2a5b",
   "metadata": {},
   "outputs": [],
   "source": [
    "with open(results_paths[experiment_name]+'noise_'+str(kappa)+'_'+str(kappa_th)+'.pkl', 'wb') as f:\n",
    "    pickle.dump(noise, f)"
   ]
  },
  {
   "cell_type": "code",
   "execution_count": 22,
   "id": "e5e89ff9",
   "metadata": {},
   "outputs": [],
   "source": [
    "with open(results_paths[experiment_name]+'noise_in_components_'+str(kappa)+'_'+str(kappa_th)+'.pkl', 'wb') as f:\n",
    "    pickle.dump(noise_in_components, f)"
   ]
  },
  {
   "cell_type": "code",
   "execution_count": null,
   "id": "0102b2e9",
   "metadata": {},
   "outputs": [],
   "source": []
  }
 ],
 "metadata": {
  "kernelspec": {
   "display_name": "Python 3 (ipykernel)",
   "language": "python",
   "name": "python3"
  },
  "language_info": {
   "codemirror_mode": {
    "name": "ipython",
    "version": 3
   },
   "file_extension": ".py",
   "mimetype": "text/x-python",
   "name": "python",
   "nbconvert_exporter": "python",
   "pygments_lexer": "ipython3",
   "version": "3.10.12"
  }
 },
 "nbformat": 4,
 "nbformat_minor": 5
}
