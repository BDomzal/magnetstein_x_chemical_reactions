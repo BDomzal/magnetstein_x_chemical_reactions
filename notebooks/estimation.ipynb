{
 "cells": [
  {
   "cell_type": "markdown",
   "id": "dd4a8039",
   "metadata": {},
   "source": [
    "### Imports"
   ]
  },
  {
   "cell_type": "code",
   "execution_count": null,
   "id": "41a186ab",
   "metadata": {},
   "outputs": [],
   "source": [
    "import sys\n",
    "import numpy as np\n",
    "import pandas as pd\n",
    "import os\n",
    "from masserstein import NMRSpectrum, estimate_proportions\n",
    "import matplotlib.pyplot as plt\n",
    "import pulp\n",
    "import pickle\n",
    "import time"
   ]
  },
  {
   "cell_type": "markdown",
   "id": "963c9b4b",
   "metadata": {},
   "source": [
    "### Data"
   ]
  },
  {
   "cell_type": "code",
   "execution_count": null,
   "id": "f7f53440",
   "metadata": {},
   "outputs": [],
   "source": [
    "experiment_name = 'PMG 287 monitoring with full mixture spectrum'"
   ]
  },
  {
   "cell_type": "code",
   "execution_count": null,
   "id": "31a53838",
   "metadata": {},
   "outputs": [],
   "source": [
    "mixture_paths = {\n",
    "                'Saccharose hydrolysis': '../data/saccharose_hydrolysis/preprocessed_mixture.csv',\n",
    "                'PMG 284 monitoring': '../data/PMG_284/preprocessed_mixture.csv',\n",
    "                'PMG 287 monitoring': '../data/PMG_287/preprocessed_mixture_cut_to_regions.csv',\n",
    "                'Saccharose hydrolysis with full mixture spectrum': '../data/saccharose_hydrolysis_full_mixture_spectrum/preprocessed_mixture.csv',\n",
    "                'PMG 284 monitoring with full mixture spectrum': '../data/PMG_284_full_mixture_spectrum/preprocessed_mixture_whole.csv',\n",
    "                'PMG 287 monitoring with full mixture spectrum': '../data/PMG_287_full_mixture_spectrum/preprocessed_mixture_whole.csv',\n",
    "                }\n",
    "\n",
    "reagents_paths = {\n",
    "                'Saccharose hydrolysis': ['../data/saccharose_hydrolysis/preprocessed_saccharose.csv', \n",
    "                                            '../data/saccharose_hydrolysis/preprocessed_alpha_glucose.csv',\n",
    "                                            '../data/saccharose_hydrolysis/preprocessed_beta_glucose.csv',\n",
    "                                            '../data/saccharose_hydrolysis/preprocessed_fructose.csv'],\n",
    "                'PMG 284 monitoring': ['../data/PMG_284/preprocessed_pentene.csv',\n",
    "                                      '../data/PMG_284/preprocessed_triethylsilane.csv',\n",
    "                                      '../data/PMG_284/preprocessed_product.csv'],\n",
    "                'PMG 287 monitoring': ['../data/PMG_287/preprocessed_hexene.csv',\n",
    "                                      '../data/PMG_287/preprocessed_triethylsilane.csv',\n",
    "                                      '../data/PMG_287/preprocessed_product.csv'],\n",
    "                'Saccharose hydrolysis with full mixture spectrum': [\n",
    "                                            '../data/saccharose_hydrolysis_full_mixture_spectrum/preprocessed_saccharose.csv', \n",
    "                                            '../data/saccharose_hydrolysis_full_mixture_spectrum/preprocessed_alpha_glucose.csv',\n",
    "                                            '../data/saccharose_hydrolysis_full_mixture_spectrum/preprocessed_beta_glucose.csv',\n",
    "                                            '../data/saccharose_hydrolysis_full_mixture_spectrum/preprocessed_fructose.csv'],\n",
    "                'PMG 284 monitoring with full mixture spectrum' : ['../data/PMG_284_full_mixture_spectrum/preprocessed_pentene.csv',\n",
    "                                                                  '../data/PMG_284_full_mixture_spectrum/preprocessed_triethylsilane.csv',\n",
    "                                                                  '../data/PMG_284_full_mixture_spectrum/preprocessed_product.csv'],\n",
    "    \n",
    "                'PMG 287 monitoring with full mixture spectrum': ['../data/PMG_287_full_mixture_spectrum/preprocessed_hexene.csv',\n",
    "                                                                  '../data/PMG_287_full_mixture_spectrum/preprocessed_triethylsilane.csv',\n",
    "                                                                  '../data/PMG_287_full_mixture_spectrum/preprocessed_product.csv'],\n",
    "}\n",
    "\n",
    "mixture_separators = {\n",
    "                        'Saccharose hydrolysis': '\\t',\n",
    "                        'PMG 284 monitoring': '\\t',\n",
    "                        'PMG 287 monitoring': '\\t',\n",
    "                        'Saccharose hydrolysis with full mixture spectrum': '\\t',\n",
    "                        'PMG 284 monitoring with full mixture spectrum': '\\t',\n",
    "                        'PMG 287 monitoring with full mixture spectrum': '\\t'\n",
    "\n",
    "                        }\n",
    "\n",
    "reagents_separators = {\n",
    "                'Saccharose hydrolysis': '\\t',\n",
    "                'PMG 284 monitoring': '\\t',\n",
    "                'PMG 287 monitoring': '\\t',\n",
    "                'Saccharose hydrolysis with full mixture spectrum': '\\t',\n",
    "                'PMG 284 monitoring with full mixture spectrum': '\\t',\n",
    "                'PMG 287 monitoring with full mixture spectrum': '\\t'\n",
    "                }\n",
    "\n",
    "results_paths = {\n",
    "                'Saccharose hydrolysis': '../results/saccharose_hydrolysis/',\n",
    "                'PMG 284 monitoring': '../results/PMG_284/',\n",
    "                'PMG 287 monitoring': '../results/PMG_287/',\n",
    "                'Saccharose hydrolysis with full mixture spectrum': '../results/saccharose_hydrolysis_full_mixture_spectrum/',\n",
    "                'PMG 284 monitoring with full mixture spectrum': '../results/PMG_284_full_mixture_spectrum/',\n",
    "                'PMG 287 monitoring with full mixture spectrum': '../results/PMG_287_full_mixture_spectrum/',\n",
    "                }"
   ]
  },
  {
   "cell_type": "markdown",
   "id": "61199f4a",
   "metadata": {},
   "source": [
    "#### Mixture in time"
   ]
  },
  {
   "cell_type": "code",
   "execution_count": null,
   "id": "b5a5d141",
   "metadata": {},
   "outputs": [],
   "source": [
    "mixture_time_data = pd.read_csv(mixture_paths[experiment_name], sep = mixture_separators[experiment_name])\n",
    "if experiment_name == 'Saccharose hydrolysis' or experiment_name == 'Saccharose hydrolysis with full mixture spectrum':\n",
    "    ppm = mixture_time_data.iloc[:,0:1]\n",
    "    every_10th = mixture_time_data.iloc[:,1:].iloc[:,::10]\n",
    "    mixture_time_data = pd.concat((ppm, every_10th), axis=1)\n",
    "elif experiment_name == 'PMG 284 monitoring' or experiment_name == 'PMG 284 monitoring with full mixture spectrum':\n",
    "    ppm = mixture_time_data.iloc[:,:-1].iloc[:,0:1]\n",
    "    every_10th = mixture_time_data.iloc[:,:-1].iloc[:,1:].iloc[:,::10]\n",
    "    mixture_time_data = pd.concat((ppm, every_10th), axis=1)\n",
    "elif experiment_name == 'PMG 287 monitoring' or experiment_name == 'PMG 287 monitoring with full mixture spectrum':\n",
    "    ppm = mixture_time_data.iloc[:,:-1].iloc[:,0:1]\n",
    "    every_10th = mixture_time_data.iloc[:,:-1].iloc[:,1:].iloc[:,::10]\n",
    "    mixture_time_data = pd.concat((ppm, every_10th), axis=1)"
   ]
  },
  {
   "cell_type": "code",
   "execution_count": null,
   "id": "71cacbf5",
   "metadata": {},
   "outputs": [],
   "source": [
    "names = ['ppm'] + ['t' + str(nb) for nb in range(1, mixture_time_data.shape[1])]"
   ]
  },
  {
   "cell_type": "code",
   "execution_count": null,
   "id": "bab7ca01",
   "metadata": {},
   "outputs": [],
   "source": [
    "mixture_time_data.columns = names"
   ]
  },
  {
   "cell_type": "code",
   "execution_count": null,
   "id": "1508df37",
   "metadata": {},
   "outputs": [],
   "source": [
    "def load_spectrum(mixture_time_data, moment_of_time):\n",
    "    ppm = mixture_time_data['ppm']\n",
    "    intensity = mixture_time_data['t'+str(moment_of_time)]\n",
    "    sp = NMRSpectrum(confs = list(zip(ppm, intensity)))\n",
    "    sp.trim_negative_intensities()\n",
    "    sp.normalize()\n",
    "    return sp"
   ]
  },
  {
   "cell_type": "markdown",
   "id": "081a0830",
   "metadata": {},
   "source": [
    "#### Reagents"
   ]
  },
  {
   "cell_type": "code",
   "execution_count": null,
   "id": "de749b9b",
   "metadata": {},
   "outputs": [],
   "source": [
    "reagents_spectra = []\n",
    "for reagent in reagents_paths[experiment_name]:\n",
    "    reag = pd.read_csv(reagent, sep=reagents_separators[experiment_name], header=None).iloc[:,:2]\n",
    "    reagents_spectra.append(reag)"
   ]
  },
  {
   "cell_type": "code",
   "execution_count": null,
   "id": "d1efdfc3",
   "metadata": {},
   "outputs": [],
   "source": [
    "reagents_spectra2 = []\n",
    "for reag in reagents_spectra:\n",
    "    ppm = reag.iloc[:,0]\n",
    "    ints = reag.iloc[:,1]\n",
    "    sp = NMRSpectrum(confs = list(zip(ppm, ints)))\n",
    "    reagents_spectra2.append(sp)\n",
    "reagents_spectra = reagents_spectra2\n",
    "del(reagents_spectra2)"
   ]
  },
  {
   "cell_type": "code",
   "execution_count": null,
   "id": "d8d27b94",
   "metadata": {},
   "outputs": [],
   "source": [
    "for sp in reagents_spectra:\n",
    "    sp.trim_negative_intensities()\n",
    "    sp.normalize()"
   ]
  },
  {
   "cell_type": "code",
   "execution_count": null,
   "id": "8b7d04e6",
   "metadata": {},
   "outputs": [],
   "source": [
    "reagents_spectra"
   ]
  },
  {
   "cell_type": "code",
   "execution_count": null,
   "id": "acdf29d1",
   "metadata": {},
   "outputs": [],
   "source": [
    "plt.gca().invert_xaxis()\n",
    "NMRSpectrum.plot(load_spectrum(mixture_time_data, 30), profile=True)\n",
    "#NMRSpectrum.plot_all(reagents_spectra + [load_spectrum(mixture_time_data, 100)], profile=True)"
   ]
  },
  {
   "cell_type": "markdown",
   "id": "59f68317",
   "metadata": {},
   "source": [
    "### Estimation"
   ]
  },
  {
   "cell_type": "code",
   "execution_count": null,
   "id": "de9e7a63",
   "metadata": {},
   "outputs": [],
   "source": [
    "kappa = 0.5\n",
    "kappa_th = 0.1"
   ]
  },
  {
   "cell_type": "code",
   "execution_count": null,
   "id": "d28e1e51",
   "metadata": {
    "scrolled": true
   },
   "outputs": [],
   "source": [
    "proportions_in_times = []\n",
    "noise_proportions_in_times = []\n",
    "noise = []\n",
    "noise_in_components = []\n",
    "\n",
    "start_time = time.time()\n",
    "\n",
    "for i in range(1, mixture_time_data.shape[1]):\n",
    "    print('This is timepoint '+str(i)+'.\\n')\n",
    "    mix = load_spectrum(mixture_time_data, i)\n",
    "    mix.trim_negative_intensities()\n",
    "    mix.normalize()\n",
    "    estimation = estimate_proportions(mix, reagents_spectra, what_to_compare='area', \n",
    "                                      solver=pulp.GUROBI(msg=False),\n",
    "                                     MTD=kappa, MTD_th=kappa_th)\n",
    "    proportions_in_times.append(estimation['proportions'])\n",
    "    noise_proportions_in_times.append(estimation['proportion_of_noise_in_components'])\n",
    "    noise.append(estimation['noise'])\n",
    "    noise_in_components.append(estimation['noise_in_components'])\n",
    "#     if i>1:\n",
    "#         assert estimation['common_horizontal_axis'] == common_horizontal_axis\n",
    "    common_horizontal_axis = estimation['common_horizontal_axis']\n",
    "    \n",
    "    print('Proportions:\\n')\n",
    "    print(estimation['proportions'])\n",
    "    print('\\n')\n",
    "    print('Proportion_of_noise_in_components:\\n')\n",
    "    print(estimation['proportion_of_noise_in_components'])\n",
    "    print('\\n')\n",
    "\n",
    "end_time = time.time()"
   ]
  },
  {
   "cell_type": "code",
   "execution_count": null,
   "id": "8131684d",
   "metadata": {},
   "outputs": [],
   "source": [
    "len(proportions_in_times)"
   ]
  },
  {
   "cell_type": "code",
   "execution_count": null,
   "id": "a084840f-dfc5-43fc-b8f4-36bab138ed48",
   "metadata": {},
   "outputs": [],
   "source": [
    "for i in range(len(reagents_spectra)):\n",
    "    plt.plot(range(len(proportions_in_times)), [prop[i] for prop in proportions_in_times], 'p')"
   ]
  },
  {
   "cell_type": "code",
   "execution_count": null,
   "id": "d42ebda4",
   "metadata": {},
   "outputs": [],
   "source": [
    "with open(results_paths[experiment_name]+'proportions_in_times_'+str(kappa)+'_'+str(kappa_th)+'.pkl', 'wb') as f:\n",
    "    pickle.dump(proportions_in_times, f)"
   ]
  },
  {
   "cell_type": "code",
   "execution_count": null,
   "id": "eb07b78f",
   "metadata": {},
   "outputs": [],
   "source": [
    "with open(results_paths[experiment_name]+'noise_proportions_in_times_'+str(kappa)+'_'+str(kappa_th)+'.pkl', 'wb') as f:\n",
    "    pickle.dump(noise_proportions_in_times, f)"
   ]
  },
  {
   "cell_type": "code",
   "execution_count": null,
   "id": "1f8024b1",
   "metadata": {},
   "outputs": [],
   "source": [
    "with open(results_paths[experiment_name]+'common_horizontal_axis_'+str(kappa)+'_'+str(kappa_th)+'.pkl', 'wb') as f:\n",
    "    pickle.dump(common_horizontal_axis, f)"
   ]
  },
  {
   "cell_type": "code",
   "execution_count": null,
   "id": "123e2a5b",
   "metadata": {},
   "outputs": [],
   "source": [
    "with open(results_paths[experiment_name]+'noise_'+str(kappa)+'_'+str(kappa_th)+'.pkl', 'wb') as f:\n",
    "    pickle.dump(noise, f)"
   ]
  },
  {
   "cell_type": "code",
   "execution_count": null,
   "id": "e5e89ff9",
   "metadata": {},
   "outputs": [],
   "source": [
    "with open(results_paths[experiment_name]+'noise_in_components_'+str(kappa)+'_'+str(kappa_th)+'.pkl', 'wb') as f:\n",
    "    pickle.dump(noise_in_components, f)"
   ]
  },
  {
   "cell_type": "code",
   "execution_count": null,
   "id": "45b0abc3-8040-43b8-a3a9-3ab681ad9e2e",
   "metadata": {},
   "outputs": [],
   "source": []
  }
 ],
 "metadata": {
  "kernelspec": {
   "display_name": "Python 3 (ipykernel)",
   "language": "python",
   "name": "python3"
  },
  "language_info": {
   "codemirror_mode": {
    "name": "ipython",
    "version": 3
   },
   "file_extension": ".py",
   "mimetype": "text/x-python",
   "name": "python",
   "nbconvert_exporter": "python",
   "pygments_lexer": "ipython3",
   "version": "3.12.3"
  }
 },
 "nbformat": 4,
 "nbformat_minor": 5
}
