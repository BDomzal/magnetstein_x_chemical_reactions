{
 "cells": [
  {
   "cell_type": "markdown",
   "id": "dd4a8039",
   "metadata": {},
   "source": [
    "### Imports"
   ]
  },
  {
   "cell_type": "code",
   "execution_count": 1,
   "id": "50e3ef75",
   "metadata": {},
   "outputs": [],
   "source": [
    "import sys\n",
    "mypath = \"/home/basia/Documents/spectroscopy/magnetstein\"\n",
    "sys.path.insert(0, mypath)"
   ]
  },
  {
   "cell_type": "code",
   "execution_count": 2,
   "id": "41a186ab",
   "metadata": {},
   "outputs": [],
   "source": [
    "import numpy as np\n",
    "import pandas as pd\n",
    "import os\n",
    "from masserstein import NMRSpectrum, estimate_proportions\n",
    "import matplotlib.pyplot as plt\n",
    "import pulp\n",
    "import pickle"
   ]
  },
  {
   "cell_type": "markdown",
   "id": "963c9b4b",
   "metadata": {},
   "source": [
    "### Data"
   ]
  },
  {
   "cell_type": "code",
   "execution_count": 3,
   "id": "f7f53440",
   "metadata": {},
   "outputs": [],
   "source": [
    "experiment_name = 'PMG 284 monitoring'"
   ]
  },
  {
   "cell_type": "code",
   "execution_count": 4,
   "id": "31a53838",
   "metadata": {},
   "outputs": [],
   "source": [
    "mixture_paths = {'Saccharose hydrolysis': '../data/saccharose_hydrolysis/all.csv',\n",
    "                'PMG 284 monitoring': '../data/PMG_284/seria1.csv',\n",
    "                'PMG 287 monitoring': '../data/PMG_287/preprocessed_mixture.csv'\n",
    "                }\n",
    "\n",
    "mixture_separators = {'Saccharose hydrolysis': '\\t',\n",
    "                'PMG 284 monitoring': '\\t',\n",
    "                'PMG 287 monitoring': '\\t'\n",
    "                }\n",
    "\n",
    "python_integrals_paths = {'Saccharose hydrolysis': '../python_integrals/',\n",
    "                        'PMG 284 monitoring': '../python_integrals/',\n",
    "                        'PMG 287 monitoring': '../python_integrals/'}\n",
    "\n",
    "substances_names = {'Saccharose hydrolysis': ['saccharose', 'alpha-glucose', 'beta-glucose', 'fructose'],\n",
    "                    'PMG 284 monitoring': ['2-pentene', 'triethylsilane', 'products'],\n",
    "                    'PMG 287 monitoring': ['1-hexene', 'triethylsilane', 'product']\n",
    "                   }\n",
    "\n",
    "integration_intervals = {'Saccharose hydrolysis': [(5.185803, 5.246521), (5.013715, 5.056501), \n",
    "                                                   (4.419116, 4.465992), (3.776692, 3.805767)],\n",
    "                    'PMG 284 monitoring': [(5.302060, 5.596931), (3.598789, 3.920281),\n",
    "                                           (0.814595, 0.889757)],\n",
    "                    'PMG 287 monitoring': []\n",
    "                   }"
   ]
  },
  {
   "cell_type": "markdown",
   "id": "61199f4a",
   "metadata": {},
   "source": [
    "#### Mixture in time"
   ]
  },
  {
   "cell_type": "code",
   "execution_count": 5,
   "id": "b5a5d141",
   "metadata": {},
   "outputs": [],
   "source": [
    "mixture_time_data = pd.read_csv(mixture_paths[experiment_name], sep = mixture_separators[experiment_name])\n",
    "if experiment_name == 'Saccharose hydrolysis':\n",
    "    ppm = mixture_time_data.iloc[:,:-1].iloc[:,0:1]\n",
    "    every_10th = mixture_time_data = mixture_time_data.iloc[:,:-1].iloc[:,1:]\n",
    "    mixture_time_data = pd.concat((ppm, every_10th), axis=1)\n",
    "elif experiment_name == 'PMG 284 monitoring':\n",
    "    ppm = mixture_time_data.iloc[:,:-1].iloc[:,0:1]\n",
    "    every_10th = mixture_time_data = mixture_time_data.iloc[:,:-1].iloc[:,1:]\n",
    "    mixture_time_data = pd.concat((ppm, every_10th), axis=1)\n",
    "elif experiment_name == 'PMG 287 monitoring':\n",
    "    ppm = mixture_time_data.iloc[:,:-1].iloc[:,0:1]\n",
    "    every_10th = mixture_time_data = mixture_time_data.iloc[:,:-1].iloc[:,1:]\n",
    "    mixture_time_data = pd.concat((ppm, every_10th), axis=1)"
   ]
  },
  {
   "cell_type": "code",
   "execution_count": 6,
   "id": "71cacbf5",
   "metadata": {},
   "outputs": [],
   "source": [
    "names = ['ppm'] + ['t' + str(nb) for nb in range(1, mixture_time_data.shape[1])]"
   ]
  },
  {
   "cell_type": "code",
   "execution_count": 7,
   "id": "bab7ca01",
   "metadata": {},
   "outputs": [],
   "source": [
    "mixture_time_data.columns = names"
   ]
  },
  {
   "cell_type": "code",
   "execution_count": 8,
   "id": "1508df37",
   "metadata": {},
   "outputs": [],
   "source": [
    "def load_spectrum(mixture_time_data, moment_of_time):\n",
    "    ppm = mixture_time_data['ppm']\n",
    "    intensity = mixture_time_data['t'+str(moment_of_time)]\n",
    "    sp = NMRSpectrum(confs = list(zip(ppm, intensity)))\n",
    "    sp.trim_negative_intensities()\n",
    "    sp.normalize()\n",
    "    return sp"
   ]
  },
  {
   "cell_type": "code",
   "execution_count": 9,
   "id": "8fd1442e",
   "metadata": {},
   "outputs": [],
   "source": [
    "#load_spectrum(mixture_time_data, 1000).plot(profile=True)"
   ]
  },
  {
   "cell_type": "markdown",
   "id": "a1f88a96",
   "metadata": {},
   "source": [
    "### Baseline correction for saccharose hydrolysis"
   ]
  },
  {
   "cell_type": "code",
   "execution_count": 10,
   "id": "0743222f",
   "metadata": {},
   "outputs": [],
   "source": [
    "# if experiment_name == 'Saccharose hydrolysis':\n",
    "#     for colname in ['t' + str(nb) for nb in range(1, mixture_time_data.shape[1])]:\n",
    "#         mixture_time_data[colname] = mixture_time_data[colname].apply(lambda x: x-0.0395)"
   ]
  },
  {
   "cell_type": "markdown",
   "id": "b170fbff",
   "metadata": {},
   "source": [
    "### Integrals changing in time"
   ]
  },
  {
   "cell_type": "code",
   "execution_count": 11,
   "id": "726f4c36",
   "metadata": {},
   "outputs": [],
   "source": [
    "data_cut_to_intervals = []\n",
    "for interval in integration_intervals[experiment_name]:\n",
    "    data_in_interval = mixture_time_data[\n",
    "                                        mixture_time_data['ppm'].apply(lambda x:\n",
    "                                                                               x>interval[0] and x<interval[1])\n",
    "                                        ]\n",
    "    data_cut_to_intervals.append(data_in_interval)\n",
    "\n",
    "integrals_changing_in_time = []\n",
    "    \n",
    "for timepoint in ['t' + str(nb) for nb in range(1, mixture_time_data.shape[1])]:\n",
    "    \n",
    "    integrals_fixed_time = []\n",
    "    \n",
    "    for data_in_interval in data_cut_to_intervals:\n",
    "        \n",
    "        x_fixed_interval = data_in_interval['ppm']\n",
    "        y_fixed_interval = data_in_interval[timepoint]\n",
    "        \n",
    "        new_int = np.trapz(y = y_fixed_interval, x = x_fixed_interval)\n",
    "        integrals_fixed_time.append(new_int)\n",
    "        \n",
    "    integral_entire_spectrum = np.trapz(y = mixture_time_data[timepoint], x = mixture_time_data['ppm'])\n",
    "    integrals_fixed_time.append(integral_entire_spectrum)\n",
    "    \n",
    "    \n",
    "    integrals_changing_in_time.append(integrals_fixed_time)"
   ]
  },
  {
   "cell_type": "code",
   "execution_count": 12,
   "id": "78bb5600",
   "metadata": {},
   "outputs": [],
   "source": [
    "python_integrals = np.array(integrals_changing_in_time)"
   ]
  },
  {
   "cell_type": "markdown",
   "id": "3b0e45f2",
   "metadata": {},
   "source": [
    "### Figures"
   ]
  },
  {
   "cell_type": "code",
   "execution_count": 16,
   "id": "ca4046b4",
   "metadata": {},
   "outputs": [
    {
     "data": {
      "text/plain": [
       "(0.0, 0.04)"
      ]
     },
     "execution_count": 16,
     "metadata": {},
     "output_type": "execute_result"
    },
    {
     "data": {
      "image/png": "[encoded data removed]",
      "text/plain": [
       "<Figure size 640x480 with 1 Axes>"
      ]
     },
     "metadata": {},
     "output_type": "display_data"
    }
   ],
   "source": [
    "for i in range(python_integrals.shape[1]):\n",
    "    plt.plot(python_integrals[:,i], 'p')\n",
    "# plt.ylim(-0, 0.01)\n",
    "# plt.ylim(-0, 0.04)"
   ]
  },
  {
   "cell_type": "markdown",
   "id": "e000b196",
   "metadata": {},
   "source": [
    "### Saving results"
   ]
  },
  {
   "cell_type": "code",
   "execution_count": 17,
   "id": "b78f3bc3",
   "metadata": {},
   "outputs": [],
   "source": [
    "colnames = [name + ': ' + str(interval) for name, interval in zip(substances_names[experiment_name],\n",
    "                                                                integration_intervals[experiment_name])\n",
    "           ]"
   ]
  },
  {
   "cell_type": "code",
   "execution_count": 18,
   "id": "05e3fff3",
   "metadata": {},
   "outputs": [],
   "source": [
    "python_integrals_df = pd.DataFrame(python_integrals, columns=colnames + ['whole_spectrum'])"
   ]
  },
  {
   "cell_type": "code",
   "execution_count": 19,
   "id": "6f80c842",
   "metadata": {},
   "outputs": [],
   "source": [
    "python_integrals_df.to_csv(python_integrals_paths[experiment_name]+\n",
    "                           'python_integral_' + \n",
    "                           '_'.join(experiment_name.split()) + \n",
    "                           '.csv',\n",
    "                          index=False)"
   ]
  },
  {
   "cell_type": "code",
   "execution_count": null,
   "id": "da2f3330",
   "metadata": {},
   "outputs": [],
   "source": []
  }
 ],
 "metadata": {
  "kernelspec": {
   "display_name": "Python 3 (ipykernel)",
   "language": "python",
   "name": "python3"
  },
  "language_info": {
   "codemirror_mode": {
    "name": "ipython",
    "version": 3
   },
   "file_extension": ".py",
   "mimetype": "text/x-python",
   "name": "python",
   "nbconvert_exporter": "python",
   "pygments_lexer": "ipython3",
   "version": "3.10.12"
  }
 },
 "nbformat": 4,
 "nbformat_minor": 5
}
