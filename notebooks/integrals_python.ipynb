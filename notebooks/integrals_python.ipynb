{
 "cells": [
  {
   "cell_type": "markdown",
   "id": "dd4a8039",
   "metadata": {},
   "source": [
    "### Imports"
   ]
  },
  {
   "cell_type": "code",
   "execution_count": null,
   "id": "41a186ab",
   "metadata": {},
   "outputs": [],
   "source": [
    "import sys\n",
    "import numpy as np\n",
    "import pandas as pd\n",
    "import os\n",
    "from masserstein import NMRSpectrum, estimate_proportions\n",
    "import matplotlib.pyplot as plt\n",
    "import pulp\n",
    "import pickle"
   ]
  },
  {
   "cell_type": "markdown",
   "id": "963c9b4b",
   "metadata": {},
   "source": [
    "### Data"
   ]
  },
  {
   "cell_type": "code",
   "execution_count": null,
   "id": "f7f53440",
   "metadata": {},
   "outputs": [],
   "source": [
    "experiment_name = 'Saccharose hydrolysis'"
   ]
  },
  {
   "cell_type": "code",
   "execution_count": null,
   "id": "31a53838",
   "metadata": {},
   "outputs": [],
   "source": [
    "mixture_paths = {'Saccharose hydrolysis': '../data/saccharose_hydrolysis/sucrose_better_baseline_constant_region_sizes.csv',\n",
    "                'PMG 284 monitoring': '../data/PMG_284/284_edited_corrected.csv',\n",
    "                'PMG 287 monitoring': '../data/PMG_287/preprocessed_mixture_whole.csv' \n",
    "                }\n",
    "#(it's ok that we are using preprocessed_mixture for PMG 287 \n",
    "#cause the only preprocessing here is zeros from edges i.e. taking region: (2.952301, 10.387961))\n",
    "\n",
    "mixture_separators = {'Saccharose hydrolysis': '\\t',\n",
    "                'PMG 284 monitoring': '\\t',\n",
    "                'PMG 287 monitoring': '\\t'\n",
    "                }\n",
    "\n",
    "python_integrals_paths = {'Saccharose hydrolysis': '../python_integrals/',\n",
    "                        'PMG 284 monitoring': '../python_integrals/',\n",
    "                        'PMG 287 monitoring': '../python_integrals/'}\n",
    "\n",
    "substances_names = {'Saccharose hydrolysis': ['saccharose', 'alpha-glucose', 'beta-glucose', 'fructose'],\n",
    "                    'PMG 284 monitoring': ['2-pentene', 'triethylsilane', 'products'],\n",
    "                    'PMG 287 monitoring': ['1-hexene', 'triethylsilane', 'product']\n",
    "                   }\n",
    "\n",
    "integration_intervals = {'Saccharose hydrolysis': [(5.39173, 5.44305), (5.2178, 5.26134), \n",
    "                                                   (4.62026, 4.67207), (3.97917, 4.01542)],\n",
    "                    'PMG 284 monitoring': [(5.3, 5.6), (3.6, 3.95),\n",
    "                                           (1.16, 1.36)],\n",
    "                    'PMG 287 monitoring': [(3.599926, 3.679897),\n",
    "                                            (4.079348, 4.129027), \n",
    "                                            (4.668059, 4.857709), \n",
    "                                            (7.616258, 7.838666), \n",
    "                                            (8.440374, 8.647265),\n",
    "\n",
    "                                            (3.343730, 3.406997),\n",
    "                                            (3.756886, 3.832615), \n",
    "                                            (6.422073, 6.564104),\n",
    "\n",
    "                                            (3.256018, 3.343730),\n",
    "                                            (3.681636, 3.722376), \n",
    "                                            (3.722376, 3.756886),\n",
    "                                            (3.994139, 4.078496)\n",
    "                                          ]\n",
    "                   }"
   ]
  },
  {
   "cell_type": "markdown",
   "id": "61199f4a",
   "metadata": {},
   "source": [
    "#### Mixture in time"
   ]
  },
  {
   "cell_type": "code",
   "execution_count": null,
   "id": "7aaab3b8",
   "metadata": {},
   "outputs": [],
   "source": [
    "mixture_time_data = pd.read_csv(mixture_paths[experiment_name], sep = mixture_separators[experiment_name])\n"
   ]
  },
  {
   "cell_type": "code",
   "execution_count": null,
   "id": "b5a5d141",
   "metadata": {},
   "outputs": [],
   "source": [
    "mixture_time_data = pd.read_csv(mixture_paths[experiment_name], sep = mixture_separators[experiment_name])\n",
    "if experiment_name == 'Saccharose hydrolysis':\n",
    "    ppm = mixture_time_data.iloc[:,0:1]\n",
    "    ints = mixture_time_data.iloc[:,1:-1]\n",
    "    mixture_time_data = pd.concat((ppm, ints), axis=1)\n",
    "elif experiment_name == 'PMG 284 monitoring':\n",
    "    ppm = mixture_time_data.iloc[:,:-2].iloc[:,0:1]\n",
    "    ints = mixture_time_data.iloc[:,:-2].iloc[:,1:]\n",
    "    mixture_time_data = pd.concat((ppm, ints), axis=1)\n",
    "elif experiment_name == 'PMG 287 monitoring':\n",
    "    ppm = mixture_time_data.iloc[:,:-1].iloc[:,0:1]\n",
    "    ints = mixture_time_data.iloc[:,:-1].iloc[:,1:]\n",
    "    mixture_time_data = pd.concat((ppm, ints), axis=1)"
   ]
  },
  {
   "cell_type": "code",
   "execution_count": null,
   "id": "71cacbf5",
   "metadata": {},
   "outputs": [],
   "source": [
    "names = ['ppm'] + ['t' + str(nb) for nb in range(1, mixture_time_data.shape[1])]"
   ]
  },
  {
   "cell_type": "code",
   "execution_count": null,
   "id": "bab7ca01",
   "metadata": {},
   "outputs": [],
   "source": [
    "mixture_time_data.columns = names"
   ]
  },
  {
   "cell_type": "code",
   "execution_count": null,
   "id": "1508df37",
   "metadata": {},
   "outputs": [],
   "source": [
    "def load_spectrum(mixture_time_data, moment_of_time):\n",
    "    ppm = mixture_time_data['ppm']\n",
    "    intensity = mixture_time_data['t'+str(moment_of_time)]\n",
    "    sp = NMRSpectrum(confs = list(zip(ppm, intensity)))\n",
    "    sp.trim_negative_intensities()\n",
    "    sp.normalize()\n",
    "    return sp"
   ]
  },
  {
   "cell_type": "code",
   "execution_count": null,
   "id": "8fd1442e",
   "metadata": {},
   "outputs": [],
   "source": [
    "#load_spectrum(mixture_time_data, 999).plot(profile=True)"
   ]
  },
  {
   "cell_type": "markdown",
   "id": "a1f88a96",
   "metadata": {},
   "source": [
    "Note that no baseline correction is needed for saccharose hydrolysis anymore!"
   ]
  },
  {
   "cell_type": "markdown",
   "id": "b170fbff",
   "metadata": {},
   "source": [
    "### Integrals changing in time"
   ]
  },
  {
   "cell_type": "code",
   "execution_count": null,
   "id": "726f4c36",
   "metadata": {},
   "outputs": [],
   "source": [
    "data_cut_to_intervals = []\n",
    "for interval in integration_intervals[experiment_name]:\n",
    "    data_in_interval = mixture_time_data[\n",
    "                                        mixture_time_data['ppm'].apply(lambda x:\n",
    "                                                                               x>interval[0] and x<interval[1])\n",
    "                                        ]\n",
    "    data_cut_to_intervals.append(data_in_interval)\n",
    "    \n",
    "if experiment_name == 'PMG 284 monitoring':\n",
    "    data_cut_to_intervals[2] = data_cut_to_intervals[2].fillna(0.)\n",
    "\n",
    "integrals_changing_in_time = []\n",
    "    \n",
    "for timepoint in ['t' + str(nb) for nb in range(1, mixture_time_data.shape[1])]:\n",
    "    \n",
    "    integrals_fixed_time = []\n",
    "    \n",
    "    for data_in_interval in data_cut_to_intervals:\n",
    "        \n",
    "        x_fixed_interval = data_in_interval['ppm']\n",
    "        y_fixed_interval = data_in_interval[timepoint]\n",
    "        \n",
    "        new_int = np.trapz(y = y_fixed_interval, x = x_fixed_interval)\n",
    "        integrals_fixed_time.append(new_int)\n",
    "        \n",
    "    integral_entire_spectrum = np.trapz(y = mixture_time_data[timepoint], x = mixture_time_data['ppm'])\n",
    "    integrals_fixed_time.append(integral_entire_spectrum)\n",
    "    \n",
    "    \n",
    "    integrals_changing_in_time.append(integrals_fixed_time)"
   ]
  },
  {
   "cell_type": "code",
   "execution_count": null,
   "id": "78bb5600",
   "metadata": {},
   "outputs": [],
   "source": [
    "python_integrals = np.array(integrals_changing_in_time)"
   ]
  },
  {
   "cell_type": "code",
   "execution_count": null,
   "id": "3c406c85",
   "metadata": {},
   "outputs": [],
   "source": [
    "if experiment_name == 'PMG 287 monitoring':\n",
    "    hexene_integral = python_integrals[:,:5].sum(axis=1).reshape(-1,1)\n",
    "    triethylsilane_integral = python_integrals[:,5:8].sum(axis=1).reshape(-1,1)\n",
    "    product_integral = python_integrals[:,8:12].sum(axis=1).reshape(-1,1)\n",
    "    whole_integral = python_integrals[:,12:13].sum(axis=1).reshape(-1,1)\n",
    "    python_integrals = np.concatenate([hexene_integral, triethylsilane_integral, product_integral, whole_integral],\n",
    "                                     axis=1)"
   ]
  },
  {
   "cell_type": "markdown",
   "id": "3b0e45f2",
   "metadata": {},
   "source": [
    "### Figures"
   ]
  },
  {
   "cell_type": "code",
   "execution_count": null,
   "id": "2e26b53c",
   "metadata": {},
   "outputs": [],
   "source": [
    "for i in range(python_integrals.shape[1]-1):\n",
    "    plt.plot(python_integrals[:,i] / python_integrals[:, :-1].sum(1), 'p')"
   ]
  },
  {
   "cell_type": "markdown",
   "id": "e000b196",
   "metadata": {},
   "source": [
    "### Saving results"
   ]
  },
  {
   "cell_type": "code",
   "execution_count": null,
   "id": "b78f3bc3",
   "metadata": {},
   "outputs": [],
   "source": [
    "colnames = [name + ': ' + str(interval) for name, interval in zip(substances_names[experiment_name],\n",
    "                                                                integration_intervals[experiment_name])\n",
    "           ]"
   ]
  },
  {
   "cell_type": "code",
   "execution_count": null,
   "id": "05e3fff3",
   "metadata": {},
   "outputs": [],
   "source": [
    "python_integrals_df = pd.DataFrame(python_integrals, columns=colnames + ['whole_spectrum'])"
   ]
  },
  {
   "cell_type": "code",
   "execution_count": null,
   "id": "6f80c842",
   "metadata": {},
   "outputs": [],
   "source": [
    "python_integrals_df.to_csv(python_integrals_paths[experiment_name]+\n",
    "                           'python_integral_' + \n",
    "                           '_'.join(experiment_name.split()) + \n",
    "                           '.csv',\n",
    "                          index=False)"
   ]
  },
  {
   "cell_type": "code",
   "execution_count": null,
   "id": "dbe8e941",
   "metadata": {},
   "outputs": [],
   "source": []
  }
 ],
 "metadata": {
  "kernelspec": {
   "display_name": "Python 3 (ipykernel)",
   "language": "python",
   "name": "python3"
  },
  "language_info": {
   "codemirror_mode": {
    "name": "ipython",
    "version": 3
   },
   "file_extension": ".py",
   "mimetype": "text/x-python",
   "name": "python",
   "nbconvert_exporter": "python",
   "pygments_lexer": "ipython3",
   "version": "3.12.3"
  }
 },
 "nbformat": 4,
 "nbformat_minor": 5
}
