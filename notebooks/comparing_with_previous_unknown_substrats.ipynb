{
 "cells": [
  {
   "cell_type": "markdown",
   "id": "dd4a8039",
   "metadata": {},
   "source": [
    "### Imports"
   ]
  },
  {
   "cell_type": "code",
   "execution_count": 1,
   "id": "50e3ef75",
   "metadata": {},
   "outputs": [],
   "source": [
    "import sys\n",
    "mypath = \"/home/basia/Documents/spectroscopy/magnetstein\"\n",
    "sys.path.insert(0, mypath)"
   ]
  },
  {
   "cell_type": "code",
   "execution_count": 2,
   "id": "41a186ab",
   "metadata": {},
   "outputs": [],
   "source": [
    "import numpy as np\n",
    "import pandas as pd\n",
    "import os\n",
    "from masserstein import NMRSpectrum, estimate_proportions\n",
    "import matplotlib.pyplot as plt\n",
    "import pulp\n",
    "import pickle"
   ]
  },
  {
   "cell_type": "markdown",
   "id": "963c9b4b",
   "metadata": {},
   "source": [
    "### Data"
   ]
  },
  {
   "cell_type": "code",
   "execution_count": 3,
   "id": "f7f53440",
   "metadata": {},
   "outputs": [],
   "source": [
    "experiment_name = 'Silane'"
   ]
  },
  {
   "cell_type": "code",
   "execution_count": 4,
   "id": "358a6a9a",
   "metadata": {},
   "outputs": [],
   "source": [
    "experiment_names = ['Saccharose hydrolysis',\n",
    "                   'Silane',\n",
    "                   'PMG 247 monitoring']"
   ]
  },
  {
   "cell_type": "code",
   "execution_count": 5,
   "id": "31a53838",
   "metadata": {},
   "outputs": [],
   "source": [
    "mixture_paths = {'Saccharose hydrolysis': '../data/saccharose_1000/all.csv',\n",
    "                'Silane': '../data/silan/pmg166_3rdseries_full.csv',\n",
    "                'PMG 247 monitoring': '../data/PMG_247/PMG247_monitoring_pierwsze_54_widma.csv'\n",
    "                }\n",
    "\n",
    "mixture_separators = {'Saccharose hydrolysis': '\\t',\n",
    "                'Silane': ',',\n",
    "                'PMG 247 monitoring': ','\n",
    "                }\n",
    "\n",
    "results_paths = {'Saccharose hydrolysis': '../results/saccharose_1000/comparing_with_previous/unknown_substrats/',\n",
    "                'Silane': '../results/silan/comparing_with_previous/unknown_substrats/',\n",
    "                'PMG 247 monitoring': '../results/PMG_247/comparing_with_previous/unknown_substrats/'\n",
    "                }"
   ]
  },
  {
   "cell_type": "markdown",
   "id": "61199f4a",
   "metadata": {},
   "source": [
    "#### Mixture in time"
   ]
  },
  {
   "cell_type": "code",
   "execution_count": 6,
   "id": "b5a5d141",
   "metadata": {},
   "outputs": [],
   "source": [
    "mixture_time_data = pd.read_csv(mixture_paths[experiment_name], sep = mixture_separators[experiment_name])\n",
    "if experiment_name == 'Saccharose hydrolysis':\n",
    "    mixture_time_data = mixture_time_data.iloc[:,:-1]"
   ]
  },
  {
   "cell_type": "code",
   "execution_count": 7,
   "id": "71cacbf5",
   "metadata": {},
   "outputs": [],
   "source": [
    "names = ['ppm'] + ['t' + str(nb) for nb in range(1, mixture_time_data.shape[1])]"
   ]
  },
  {
   "cell_type": "code",
   "execution_count": 8,
   "id": "bab7ca01",
   "metadata": {},
   "outputs": [],
   "source": [
    "mixture_time_data.columns = names"
   ]
  },
  {
   "cell_type": "code",
   "execution_count": 9,
   "id": "1508df37",
   "metadata": {},
   "outputs": [],
   "source": [
    "def load_spectrum(mixture_time_data, moment_of_time):\n",
    "    ppm = mixture_time_data['ppm']\n",
    "    intensity = mixture_time_data['t'+str(moment_of_time)]\n",
    "    sp = NMRSpectrum(confs = list(zip(ppm, intensity)))\n",
    "    return sp"
   ]
  },
  {
   "cell_type": "code",
   "execution_count": 10,
   "id": "b7fd6126",
   "metadata": {},
   "outputs": [],
   "source": [
    "sp1 = load_spectrum(mixture_time_data, 1)\n",
    "sp_last = load_spectrum(mixture_time_data, mixture_time_data.shape[1]-1)"
   ]
  },
  {
   "cell_type": "code",
   "execution_count": 11,
   "id": "3d24c257",
   "metadata": {},
   "outputs": [
    {
     "name": "stderr",
     "output_type": "stream",
     "text": [
      "No artists with labels found to put in legend.  Note that artists whose label start with an underscore are ignored when legend() is called with no argument.\n"
     ]
    },
    {
     "data": {
      "image/png": "[encoded data removed]",
      "text/plain": [
       "<Figure size 640x480 with 1 Axes>"
      ]
     },
     "metadata": {},
     "output_type": "display_data"
    }
   ],
   "source": [
    "plt.gca().invert_xaxis()\n",
    "NMRSpectrum.plot_all([sp1, sp_last], profile=True)"
   ]
  },
  {
   "cell_type": "markdown",
   "id": "0589e408",
   "metadata": {},
   "source": [
    "### Preprocessing (optional)"
   ]
  },
  {
   "cell_type": "code",
   "execution_count": 12,
   "id": "edb0a162",
   "metadata": {},
   "outputs": [],
   "source": [
    "def cut_spectra_to_region(list_of_spectra, lower_bound, upper_bound):\n",
    "    res = []\n",
    "    for sp in list_of_spectra:\n",
    "        ppm = np.array(sp.confs)[:,0]\n",
    "        ints = np.array(sp.confs)[:,1]\n",
    "        ppm_in_region = np.logical_and(ppm>lower_bound, ppm<upper_bound)\n",
    "        new_ppm = ppm[ppm_in_region]\n",
    "        new_ints = ints[ppm_in_region]\n",
    "        res.append(NMRSpectrum(confs=list(zip(new_ppm, new_ints))))\n",
    "    return res"
   ]
  },
  {
   "cell_type": "code",
   "execution_count": 13,
   "id": "3c05125a",
   "metadata": {},
   "outputs": [],
   "source": [
    "if experiment_name == 'Silane':\n",
    "    preprocessed_spectra = [load_spectrum(mixture_time_data, i) for i in range(1, mixture_time_data.shape[1])]\n",
    "    preprocessed_spectra = cut_spectra_to_region(preprocessed_spectra, 0, 8)\n",
    "    ppm = np.array(list(preprocessed_spectra[0].confs))[:,0]\n",
    "    ints = [np.array(list(preprocessed_spectra[i].confs))[:,1] for i in range(len(preprocessed_spectra))]\n",
    "    mixture_time_data = np.stack([ppm]+ints).T\n",
    "    mixture_time_data = pd.DataFrame(mixture_time_data, columns = names)"
   ]
  },
  {
   "cell_type": "markdown",
   "id": "59f68317",
   "metadata": {},
   "source": [
    "### Estimation"
   ]
  },
  {
   "cell_type": "code",
   "execution_count": 14,
   "id": "25083448",
   "metadata": {},
   "outputs": [],
   "source": [
    "kappa = 0.33\n",
    "kappa_th = 0.9"
   ]
  },
  {
   "cell_type": "code",
   "execution_count": 15,
   "id": "44c5baea",
   "metadata": {},
   "outputs": [
    {
     "name": "stdout",
     "output_type": "stream",
     "text": [
      "This is timepoint 2.\n",
      "\n",
      "Set parameter Username\n",
      "Academic license - for non-commercial use only - expires 2024-11-13\n",
      "The mixture's spectrum is not normalized.\n",
      "Normalizing mixture's spectrum.\n",
      "Component's spectrum 0 is not normalized\n",
      "Normalizing component's spectrum 0.\n"
     ]
    },
    {
     "name": "stderr",
     "output_type": "stream",
     "text": [
      "/home/basia/.local/lib/python3.10/site-packages/pulp/pulp.py:1352: UserWarning: Spaces are not permitted in the name. Converted to '_'\n",
      "  warnings.warn(\"Spaces are not permitted in the name. Converted to '_'\")\n"
     ]
    },
    {
     "name": "stdout",
     "output_type": "stream",
     "text": [
      "Proportions:\n",
      "\n",
      "[0.9994681217449952]\n",
      "\n",
      "\n",
      "Proportion_of_noise_in_components:\n",
      "\n",
      "0.000627435077999997\n",
      "\n",
      "\n",
      "This is timepoint 3.\n",
      "\n",
      "The mixture's spectrum is not normalized.\n",
      "Normalizing mixture's spectrum.\n",
      "Component's spectrum 0 is not normalized\n",
      "Normalizing component's spectrum 0.\n"
     ]
    },
    {
     "ename": "TypeError",
     "evalue": "type NoneType doesn't define __round__ method",
     "output_type": "error",
     "traceback": [
      "\u001b[0;31m---------------------------------------------------------------------------\u001b[0m",
      "\u001b[0;31mTypeError\u001b[0m                                 Traceback (most recent call last)",
      "Cell \u001b[0;32mIn [15], line 12\u001b[0m\n\u001b[1;32m     10\u001b[0m current \u001b[38;5;241m=\u001b[39m load_spectrum(mixture_time_data, i)\n\u001b[1;32m     11\u001b[0m previous \u001b[38;5;241m=\u001b[39m load_spectrum(mixture_time_data, i\u001b[38;5;241m-\u001b[39m\u001b[38;5;241m1\u001b[39m)\n\u001b[0;32m---> 12\u001b[0m estimation \u001b[38;5;241m=\u001b[39m \u001b[43mestimate_proportions\u001b[49m\u001b[43m(\u001b[49m\u001b[43mcurrent\u001b[49m\u001b[43m,\u001b[49m\u001b[43m \u001b[49m\u001b[43m[\u001b[49m\u001b[43mprevious\u001b[49m\u001b[43m]\u001b[49m\u001b[43m,\u001b[49m\u001b[43m \u001b[49m\u001b[43mwhat_to_compare\u001b[49m\u001b[38;5;241;43m=\u001b[39;49m\u001b[38;5;124;43m'\u001b[39;49m\u001b[38;5;124;43marea\u001b[39;49m\u001b[38;5;124;43m'\u001b[39;49m\u001b[43m,\u001b[49m\n\u001b[1;32m     13\u001b[0m \u001b[43m                                  \u001b[49m\u001b[43msolver\u001b[49m\u001b[38;5;241;43m=\u001b[39;49m\u001b[43mpulp\u001b[49m\u001b[38;5;241;43m.\u001b[39;49m\u001b[43mGUROBI\u001b[49m\u001b[43m(\u001b[49m\u001b[43mmsg\u001b[49m\u001b[38;5;241;43m=\u001b[39;49m\u001b[38;5;28;43;01mFalse\u001b[39;49;00m\u001b[43m)\u001b[49m\u001b[43m,\u001b[49m\n\u001b[1;32m     14\u001b[0m \u001b[43m                                 \u001b[49m\u001b[43mMTD\u001b[49m\u001b[38;5;241;43m=\u001b[39;49m\u001b[43mkappa\u001b[49m\u001b[43m,\u001b[49m\u001b[43m \u001b[49m\u001b[43mMTD_th\u001b[49m\u001b[38;5;241;43m=\u001b[39;49m\u001b[43mkappa_th\u001b[49m\u001b[43m)\u001b[49m\n\u001b[1;32m     16\u001b[0m proportions_in_times\u001b[38;5;241m.\u001b[39mappend(estimation[\u001b[38;5;124m'\u001b[39m\u001b[38;5;124mproportions\u001b[39m\u001b[38;5;124m'\u001b[39m])\n\u001b[1;32m     17\u001b[0m noise_proportions_in_times\u001b[38;5;241m.\u001b[39mappend(estimation[\u001b[38;5;124m'\u001b[39m\u001b[38;5;124mproportion_of_noise_in_components\u001b[39m\u001b[38;5;124m'\u001b[39m])\n",
      "File \u001b[0;32m~/Documents/spectroscopy/magnetstein/masserstein/deconv_simplex.py:790\u001b[0m, in \u001b[0;36mestimate_proportions\u001b[0;34m(spectrum, query, MTD, MDC, MMD, max_reruns, verbose, progress, MTD_th, solver, what_to_compare)\u001b[0m\n\u001b[1;32m    788\u001b[0m     dec \u001b[38;5;241m=\u001b[39m dualdeconv2(chunkSp, thrSp, MTD, quiet\u001b[38;5;241m=\u001b[39m\u001b[38;5;28;01mTrue\u001b[39;00m, solver\u001b[38;5;241m=\u001b[39msolver)\n\u001b[1;32m    789\u001b[0m \u001b[38;5;28;01melse\u001b[39;00m:\n\u001b[0;32m--> 790\u001b[0m     dec \u001b[38;5;241m=\u001b[39m \u001b[43mdualdeconv4\u001b[49m\u001b[43m(\u001b[49m\u001b[43mchunkSp\u001b[49m\u001b[43m,\u001b[49m\u001b[43m \u001b[49m\u001b[43mthrSp\u001b[49m\u001b[43m,\u001b[49m\u001b[43m \u001b[49m\u001b[43mMTD\u001b[49m\u001b[43m,\u001b[49m\u001b[43m \u001b[49m\u001b[43mMTD_th\u001b[49m\u001b[43m,\u001b[49m\u001b[43m \u001b[49m\u001b[43mquiet\u001b[49m\u001b[38;5;241;43m=\u001b[39;49m\u001b[38;5;28;43;01mTrue\u001b[39;49;00m\u001b[43m,\u001b[49m\u001b[43m \u001b[49m\u001b[43msolver\u001b[49m\u001b[38;5;241;43m=\u001b[39;49m\u001b[43msolver\u001b[49m\u001b[43m)\u001b[49m\n\u001b[1;32m    791\u001b[0m \u001b[38;5;28;01mif\u001b[39;00m dec[\u001b[38;5;124m'\u001b[39m\u001b[38;5;124mstatus\u001b[39m\u001b[38;5;124m'\u001b[39m] \u001b[38;5;241m==\u001b[39m \u001b[38;5;241m1\u001b[39m:\n\u001b[1;32m    792\u001b[0m         success\u001b[38;5;241m=\u001b[39m\u001b[38;5;28;01mTrue\u001b[39;00m\n",
      "File \u001b[0;32m~/Documents/spectroscopy/magnetstein/masserstein/deconv_simplex.py:542\u001b[0m, in \u001b[0;36mdualdeconv4\u001b[0;34m(exp_sp, thr_sps, penalty, penalty_th, quiet, solver)\u001b[0m\n\u001b[1;32m    540\u001b[0m         \u001b[38;5;28mprint\u001b[39m(\u001b[38;5;124m\"\u001b[39m\u001b[38;5;124mTime:\u001b[39m\u001b[38;5;124m\"\u001b[39m, end \u001b[38;5;241m-\u001b[39m start)\n\u001b[1;32m    541\u001b[0m constraints \u001b[38;5;241m=\u001b[39m program\u001b[38;5;241m.\u001b[39mconstraints\n\u001b[0;32m--> 542\u001b[0m probs \u001b[38;5;241m=\u001b[39m [\u001b[38;5;28mround\u001b[39m(constraints[\u001b[38;5;124m'\u001b[39m\u001b[38;5;124mP_\u001b[39m\u001b[38;5;132;01m%i\u001b[39;00m\u001b[38;5;124m'\u001b[39m \u001b[38;5;241m%\u001b[39m i]\u001b[38;5;241m.\u001b[39mpi, \u001b[38;5;241m12\u001b[39m) \u001b[38;5;28;01mfor\u001b[39;00m i \u001b[38;5;129;01min\u001b[39;00m \u001b[38;5;28mrange\u001b[39m(\u001b[38;5;241m1\u001b[39m, k\u001b[38;5;241m+\u001b[39m\u001b[38;5;241m1\u001b[39m)]\n\u001b[1;32m    543\u001b[0m p0_prime \u001b[38;5;241m=\u001b[39m \u001b[38;5;28mround\u001b[39m(constraints[\u001b[38;5;124m'\u001b[39m\u001b[38;5;124mp0_prime\u001b[39m\u001b[38;5;124m'\u001b[39m]\u001b[38;5;241m.\u001b[39mpi, \u001b[38;5;241m12\u001b[39m)\n\u001b[1;32m    544\u001b[0m exp_vec \u001b[38;5;241m=\u001b[39m \u001b[38;5;28mlist\u001b[39m(intensity_generator(exp_confs, common_horizontal_axis))\n",
      "File \u001b[0;32m~/Documents/spectroscopy/magnetstein/masserstein/deconv_simplex.py:542\u001b[0m, in \u001b[0;36m<listcomp>\u001b[0;34m(.0)\u001b[0m\n\u001b[1;32m    540\u001b[0m         \u001b[38;5;28mprint\u001b[39m(\u001b[38;5;124m\"\u001b[39m\u001b[38;5;124mTime:\u001b[39m\u001b[38;5;124m\"\u001b[39m, end \u001b[38;5;241m-\u001b[39m start)\n\u001b[1;32m    541\u001b[0m constraints \u001b[38;5;241m=\u001b[39m program\u001b[38;5;241m.\u001b[39mconstraints\n\u001b[0;32m--> 542\u001b[0m probs \u001b[38;5;241m=\u001b[39m [\u001b[38;5;28;43mround\u001b[39;49m\u001b[43m(\u001b[49m\u001b[43mconstraints\u001b[49m\u001b[43m[\u001b[49m\u001b[38;5;124;43m'\u001b[39;49m\u001b[38;5;124;43mP_\u001b[39;49m\u001b[38;5;132;43;01m%i\u001b[39;49;00m\u001b[38;5;124;43m'\u001b[39;49m\u001b[43m \u001b[49m\u001b[38;5;241;43m%\u001b[39;49m\u001b[43m \u001b[49m\u001b[43mi\u001b[49m\u001b[43m]\u001b[49m\u001b[38;5;241;43m.\u001b[39;49m\u001b[43mpi\u001b[49m\u001b[43m,\u001b[49m\u001b[43m \u001b[49m\u001b[38;5;241;43m12\u001b[39;49m\u001b[43m)\u001b[49m \u001b[38;5;28;01mfor\u001b[39;00m i \u001b[38;5;129;01min\u001b[39;00m \u001b[38;5;28mrange\u001b[39m(\u001b[38;5;241m1\u001b[39m, k\u001b[38;5;241m+\u001b[39m\u001b[38;5;241m1\u001b[39m)]\n\u001b[1;32m    543\u001b[0m p0_prime \u001b[38;5;241m=\u001b[39m \u001b[38;5;28mround\u001b[39m(constraints[\u001b[38;5;124m'\u001b[39m\u001b[38;5;124mp0_prime\u001b[39m\u001b[38;5;124m'\u001b[39m]\u001b[38;5;241m.\u001b[39mpi, \u001b[38;5;241m12\u001b[39m)\n\u001b[1;32m    544\u001b[0m exp_vec \u001b[38;5;241m=\u001b[39m \u001b[38;5;28mlist\u001b[39m(intensity_generator(exp_confs, common_horizontal_axis))\n",
      "\u001b[0;31mTypeError\u001b[0m: type NoneType doesn't define __round__ method"
     ]
    }
   ],
   "source": [
    "proportions_in_times = []\n",
    "noise_proportions_in_times = []\n",
    "\n",
    "sp1 = load_spectrum(mixture_time_data, 1)\n",
    "sp1.trim_negative_intensities()\n",
    "sp1.normalize()\n",
    "\n",
    "for i in range(2, mixture_time_data.shape[1]):\n",
    "    print('This is timepoint '+str(i)+'.\\n')\n",
    "    current = load_spectrum(mixture_time_data, i)\n",
    "    previous = load_spectrum(mixture_time_data, i-1)\n",
    "    estimation = estimate_proportions(current, [previous], what_to_compare='area',\n",
    "                                      solver=pulp.GUROBI(msg=False),\n",
    "                                     MTD=kappa, MTD_th=kappa_th)\n",
    "\n",
    "    proportions_in_times.append(estimation['proportions'])\n",
    "    noise_proportions_in_times.append(estimation['proportion_of_noise_in_components'])\n",
    "    \n",
    "    print('Proportions:\\n')\n",
    "    print(estimation['proportions'])\n",
    "    print('\\n')\n",
    "    print('Proportion_of_noise_in_components:\\n')\n",
    "    print(estimation['proportion_of_noise_in_components'])\n",
    "    print('\\n')"
   ]
  },
  {
   "cell_type": "code",
   "execution_count": 14,
   "id": "8131684d",
   "metadata": {},
   "outputs": [
    {
     "data": {
      "text/plain": [
       "53"
      ]
     },
     "execution_count": 14,
     "metadata": {},
     "output_type": "execute_result"
    }
   ],
   "source": [
    "len(proportions_in_times)"
   ]
  },
  {
   "cell_type": "code",
   "execution_count": 15,
   "id": "c994bb9f",
   "metadata": {},
   "outputs": [
    {
     "data": {
      "text/plain": [
       "1.000000000000004"
      ]
     },
     "execution_count": 15,
     "metadata": {},
     "output_type": "execute_result"
    }
   ],
   "source": [
    "max([prop[0] for prop in proportions_in_times])"
   ]
  },
  {
   "cell_type": "code",
   "execution_count": 16,
   "id": "bd4dc1d9",
   "metadata": {},
   "outputs": [
    {
     "data": {
      "text/plain": [
       "0.9999967557469964"
      ]
     },
     "execution_count": 16,
     "metadata": {},
     "output_type": "execute_result"
    }
   ],
   "source": [
    "min([prop[0] for prop in proportions_in_times])"
   ]
  },
  {
   "cell_type": "code",
   "execution_count": 17,
   "id": "73daba2d",
   "metadata": {},
   "outputs": [],
   "source": [
    "rel_proportions = [1]\n",
    "for i, prop in enumerate(proportions_in_times):\n",
    "    rel_proportions.append(rel_proportions[-1]*prop[0])"
   ]
  },
  {
   "cell_type": "code",
   "execution_count": 18,
   "id": "eb01e185",
   "metadata": {},
   "outputs": [
    {
     "data": {
      "text/plain": [
       "[<matplotlib.lines.Line2D at 0x7f800f6c9d80>]"
      ]
     },
     "execution_count": 18,
     "metadata": {},
     "output_type": "execute_result"
    },
    {
     "data": {
      "image/png": "[encoded data removed]",
      "text/plain": [
       "<Figure size 640x480 with 1 Axes>"
      ]
     },
     "metadata": {},
     "output_type": "display_data"
    }
   ],
   "source": [
    "plt.plot(range(1+len(proportions_in_times)), rel_proportions, 'p')"
   ]
  },
  {
   "cell_type": "code",
   "execution_count": 19,
   "id": "9e3b9970",
   "metadata": {},
   "outputs": [],
   "source": [
    "prop = [prop[0] for prop in proportions_in_times]"
   ]
  },
  {
   "cell_type": "code",
   "execution_count": 20,
   "id": "d42ebda4",
   "metadata": {},
   "outputs": [],
   "source": [
    "with open(results_paths[experiment_name]+'proportions_in_times_'+str(kappa)+'_'+str(kappa_th)+'.pkl', 'wb') as f:\n",
    "    pickle.dump(prop, f)"
   ]
  },
  {
   "cell_type": "code",
   "execution_count": 21,
   "id": "eb07b78f",
   "metadata": {},
   "outputs": [],
   "source": [
    "with open(results_paths[experiment_name]+'noise_proportions_in_times_'+str(kappa)+'_'+str(kappa_th)+'.pkl', 'wb') as f:\n",
    "    pickle.dump(noise_proportions_in_times, f)"
   ]
  },
  {
   "cell_type": "markdown",
   "id": "30495f01",
   "metadata": {},
   "source": [
    "### Reading the results"
   ]
  },
  {
   "cell_type": "code",
   "execution_count": 16,
   "id": "13549e4f",
   "metadata": {},
   "outputs": [],
   "source": [
    "with open(results_paths[experiment_name]+'proportions_in_times_'+str(kappa)+'_'+str(kappa_th)+'.pkl', 'rb') as f:\n",
    "    y = pickle.load(f)\n",
    "    y = np.array(y).reshape(-1,1)"
   ]
  },
  {
   "cell_type": "code",
   "execution_count": null,
   "id": "3e990162",
   "metadata": {},
   "outputs": [],
   "source": []
  }
 ],
 "metadata": {
  "kernelspec": {
   "display_name": "Python 3 (ipykernel)",
   "language": "python",
   "name": "python3"
  },
  "language_info": {
   "codemirror_mode": {
    "name": "ipython",
    "version": 3
   },
   "file_extension": ".py",
   "mimetype": "text/x-python",
   "name": "python",
   "nbconvert_exporter": "python",
   "pygments_lexer": "ipython3",
   "version": "3.10.12"
  }
 },
 "nbformat": 4,
 "nbformat_minor": 5
}
